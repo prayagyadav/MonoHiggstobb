{
 "cells": [
  {
   "cell_type": "code",
   "execution_count": 1,
   "id": "d17197f0-3220-4a4e-96e1-7bf2e1f61ac1",
   "metadata": {},
   "outputs": [],
   "source": [
    "from coffea.nanoevents import NanoAODSchema,NanoEventsFactory\n",
    "from coffea import processor\n",
    "from coffea.analysis_tools import PackedSelection\n",
    "import hist\n",
    "from MonoHiggstobb.Debug.control.Snip_debug import *\n",
    "import awkward as ak"
   ]
  },
  {
   "cell_type": "code",
   "execution_count": 2,
   "id": "59d8da69-ed6a-4d6a-96de-2aad5c4a4f4d",
   "metadata": {},
   "outputs": [],
   "source": [
    "events = NanoEventsFactory.from_root(\n",
    "    \"/commonfs/store/data/Run2018B/MET/NANOAOD/UL2018_MiniAODv2_NanoAODv9-v2/250000/1EB0271E-85AD-3D47-B4D2-2D2F2DF5E23D.root\",\n",
    "    schemaclass=NanoAODSchema.v7,\n",
    "    metadata={\n",
    "        \"dataset\":\"MET_Run2018\"\n",
    "    }\n",
    ").events()"
   ]
  },
  {
   "cell_type": "code",
   "execution_count": 3,
   "id": "965c88b5-9cc2-4215-8306-2ab782c338c1",
   "metadata": {},
   "outputs": [
    {
     "data": {
      "text/plain": [
       "2125954"
      ]
     },
     "execution_count": 3,
     "metadata": {},
     "output_type": "execute_result"
    }
   ],
   "source": [
    "len(events)"
   ]
  },
  {
   "cell_type": "code",
   "execution_count": 4,
   "id": "ecc28db8-a707-42b5-9951-7ec79cd77b6e",
   "metadata": {},
   "outputs": [
    {
     "data": {
      "text/plain": [
       "[StairsArtists(stairs=<matplotlib.patches.StepPatch object at 0x7f58d4e87010>, errorbar=<ErrorbarContainer object of 3 artists>, legend_artist=<ErrorbarContainer object of 3 artists>)]"
      ]
     },
     "execution_count": 4,
     "metadata": {},
     "output_type": "execute_result"
    },
    {
     "data": {
      "image/png": "[encoded data removed]",
      "text/plain": [
       "<Figure size 640x480 with 1 Axes>"
      ]
     },
     "metadata": {},
     "output_type": "display_data"
    }
   ],
   "source": [
    "hist.Hist.new.Reg(100,0,1000).Double().fill(ak.flatten(events.Jet.pt)).plot()"
   ]
  },
  {
   "cell_type": "code",
   "execution_count": 5,
   "id": "e0bde53f-f521-4213-abf6-b4868bce69c4",
   "metadata": {},
   "outputs": [],
   "source": [
    "cutflow = {}"
   ]
  },
  {
   "cell_type": "code",
   "execution_count": 6,
   "id": "5e2e149f-e9bf-473a-ae66-e9b7d6cfd55b",
   "metadata": {},
   "outputs": [
    {
     "data": {
      "text/plain": [
       "[StairsArtists(stairs=<matplotlib.patches.StepPatch object at 0x7f58cb24c340>, errorbar=<ErrorbarContainer object of 3 artists>, legend_artist=<ErrorbarContainer object of 3 artists>)]"
      ]
     },
     "execution_count": 6,
     "metadata": {},
     "output_type": "execute_result"
    },
    {
     "data": {
      "image/png": "[encoded data removed]",
      "text/plain": [
       "<Figure size 640x480 with 1 Axes>"
      ]
     },
     "metadata": {},
     "output_type": "display_data"
    }
   ],
   "source": [
    "hist.Hist.new.Reg(100,0,1).Double().fill(ak.flatten(events.Jet.btagDeepFlavB)).plot()"
   ]
  },
  {
   "cell_type": "code",
   "execution_count": 7,
   "id": "2c9166b0-615b-445a-89fd-f6ad230441e5",
   "metadata": {},
   "outputs": [
    {
     "name": "stdout",
     "output_type": "stream",
     "text": [
      "0.2783\n",
      "2125954\n"
     ]
    },
    {
     "data": {
      "text/plain": [
       "<JetArray [[Jet, Jet, Jet, ... Jet, Jet, Jet]] type='2125954 * var * jet'>"
      ]
     },
     "execution_count": 7,
     "metadata": {},
     "output_type": "execute_result"
    }
   ],
   "source": [
    "wp = get_wp(Era=2018,wp=\"medium\")\n",
    "print(wp)\n",
    "print(len(events.Jet))\n",
    "events.Jet"
   ]
  },
  {
   "cell_type": "code",
   "execution_count": 8,
   "id": "d2115466-87f7-4d7c-b038-2c4be30da3a3",
   "metadata": {},
   "outputs": [
    {
     "name": "stdout",
     "output_type": "stream",
     "text": [
      "2125954\n"
     ]
    },
    {
     "data": {
      "text/plain": [
       "<Array [[False, False, ... False, False]] type='2125954 * var * bool'>"
      ]
     },
     "execution_count": 8,
     "metadata": {},
     "output_type": "execute_result"
    }
   ],
   "source": [
    "is_bjet = events.Jet.btagDeepFlavB > wp\n",
    "print(len(is_bjet))\n",
    "is_bjet"
   ]
  },
  {
   "cell_type": "code",
   "execution_count": 9,
   "id": "2c7bab5e-2dfb-4c11-9b56-9f5682f0649c",
   "metadata": {},
   "outputs": [
    {
     "name": "stdout",
     "output_type": "stream",
     "text": [
      "Total Jets :  500652\n"
     ]
    },
    {
     "data": {
      "text/plain": [
       "<JetArray [[], [Jet, Jet, Jet], ... [Jet], [], []] type='2125954 * var * jet'>"
      ]
     },
     "execution_count": 9,
     "metadata": {},
     "output_type": "execute_result"
    }
   ],
   "source": [
    "bjets = events.Jet[is_bjet]\n",
    "print(\"Total Jets : \", ak.sum(ak.num(bjets)))\n",
    "bjets"
   ]
  },
  {
   "cell_type": "code",
   "execution_count": 10,
   "id": "6edfda57-e909-452a-8760-13c26e007291",
   "metadata": {},
   "outputs": [
    {
     "data": {
      "text/plain": [
       "<Array [False, True, False, ... False, False] type='2125954 * bool'>"
      ]
     },
     "execution_count": 10,
     "metadata": {},
     "output_type": "execute_result"
    }
   ],
   "source": [
    "at_least_two_such_jets = ak.num(bjets, axis=1) >= 2\n",
    "at_least_two_such_jets"
   ]
  },
  {
   "cell_type": "code",
   "execution_count": 11,
   "id": "09d06a10-3309-449d-b72f-ab8dc1bc76b6",
   "metadata": {},
   "outputs": [
    {
     "name": "stdout",
     "output_type": "stream",
     "text": [
      "Total Jets :  184921\n"
     ]
    },
    {
     "data": {
      "text/plain": [
       "<JetArray [[Jet, Jet, Jet], ... [Jet, Jet]] type='85331 * var * jet'>"
      ]
     },
     "execution_count": 11,
     "metadata": {},
     "output_type": "execute_result"
    }
   ],
   "source": [
    "bjets = bjets[at_least_two_such_jets]\n",
    "print(\"Total Jets : \", ak.sum(ak.num(bjets)))\n",
    "bjets"
   ]
  },
  {
   "cell_type": "code",
   "execution_count": 12,
   "id": "e74d54ad-c6ba-424c-b600-2b00a74fa805",
   "metadata": {},
   "outputs": [
    {
     "data": {
      "text/plain": [
       "<Array [True, True, True, ... True, True, True] type='85331 * bool'>"
      ]
     },
     "execution_count": 12,
     "metadata": {},
     "output_type": "execute_result"
    }
   ],
   "source": [
    "leading_bjets = bjets[:,0]\n",
    "leading_jet_pt_at_least_50 = leading_bjets.pt > 50\n",
    "leading_jet_pt_at_least_50 #event sized"
   ]
  },
  {
   "cell_type": "code",
   "execution_count": 13,
   "id": "c1a1d862-019c-4efd-aa30-6f6b68670005",
   "metadata": {},
   "outputs": [
    {
     "name": "stdout",
     "output_type": "stream",
     "text": [
      "Total Jets :  150096\n"
     ]
    },
    {
     "data": {
      "text/plain": [
       "<JetArray [[Jet, Jet, Jet], ... [Jet, Jet]] type='68571 * var * jet'>"
      ]
     },
     "execution_count": 13,
     "metadata": {},
     "output_type": "execute_result"
    }
   ],
   "source": [
    "bjets = bjets[leading_jet_pt_at_least_50 ]\n",
    "print(\"Total Jets : \", ak.sum(ak.num(bjets)))\n",
    "bjets"
   ]
  },
  {
   "cell_type": "code",
   "execution_count": 14,
   "id": "154a38a4-2c23-41d0-b830-86792b31c97e",
   "metadata": {},
   "outputs": [
    {
     "data": {
      "text/plain": [
       "<Array [True, True, True, ... True, False] type='68571 * bool'>"
      ]
     },
     "execution_count": 14,
     "metadata": {},
     "output_type": "execute_result"
    }
   ],
   "source": [
    "subleading_bjets = bjets[:,1]\n",
    "subleading_jet_pt_at_least_30 = subleading_bjets.pt > 30\n",
    "subleading_jet_pt_at_least_30 #event sized"
   ]
  },
  {
   "cell_type": "code",
   "execution_count": 15,
   "id": "5831c0bc-4fbd-4edf-aa5f-7b8c81bebf41",
   "metadata": {},
   "outputs": [
    {
     "name": "stdout",
     "output_type": "stream",
     "text": [
      "Total Jets :  101242\n"
     ]
    },
    {
     "data": {
      "text/plain": [
       "<JetArray [[Jet, Jet, Jet], ... [Jet, Jet, Jet]] type='45065 * var * jet'>"
      ]
     },
     "execution_count": 15,
     "metadata": {},
     "output_type": "execute_result"
    }
   ],
   "source": [
    "bjets = bjets[subleading_jet_pt_at_least_30]\n",
    "print(\"Total Jets : \", ak.sum(ak.num(bjets)))\n",
    "bjets"
   ]
  },
  {
   "cell_type": "code",
   "execution_count": 16,
   "id": "e2c3f0a9-ed46-4de8-bf22-cc895992e5ae",
   "metadata": {},
   "outputs": [
    {
     "data": {
      "text/plain": [
       "<Array [137, 286, 79.1, ... 331, 44.1, 525] type='45065 * float32'>"
      ]
     },
     "execution_count": 16,
     "metadata": {},
     "output_type": "execute_result"
    }
   ],
   "source": [
    "dijets = bjets[:,0]+bjets[:,1]\n",
    "dijets.mass"
   ]
  },
  {
   "cell_type": "code",
   "execution_count": 17,
   "id": "95122815-2856-436a-9874-5f18e5b31b09",
   "metadata": {},
   "outputs": [
    {
     "name": "stdout",
     "output_type": "stream",
     "text": [
      "Total Jets :  6864\n"
     ]
    },
    {
     "data": {
      "text/plain": [
       "<Array [137, 114, 136, 135, ... 124, 114, 111] type='6864 * float32'>"
      ]
     },
     "execution_count": 17,
     "metadata": {},
     "output_type": "execute_result"
    }
   ],
   "source": [
    "dijets_mass_window = (dijets.mass < 150) & (dijets.mass > 100)\n",
    "dijets = dijets[dijets_mass_window]\n",
    "print(\"Total Jets : \", len(dijets) )\n",
    "dijets.mass"
   ]
  },
  {
   "cell_type": "code",
   "execution_count": 18,
   "id": "92bc31ef-defb-4822-98b1-139582644e6e",
   "metadata": {},
   "outputs": [
    {
     "name": "stdout",
     "output_type": "stream",
     "text": [
      "Total Jets :  4767\n"
     ]
    },
    {
     "data": {
      "text/plain": [
       "<Array [120, 144, 266, 357, ... 273, 160, 371] type='4767 * float32'>"
      ]
     },
     "execution_count": 18,
     "metadata": {},
     "output_type": "execute_result"
    }
   ],
   "source": [
    "dijets_pt_selection = dijets.pt > 100\n",
    "dijets = dijets[dijets_pt_selection]\n",
    "print(\"Total Jets : \", len(dijets) )\n",
    "dijets.pt"
   ]
  },
  {
   "cell_type": "code",
   "execution_count": 19,
   "id": "76cf2076-4fd5-4e02-8bd3-b81786bd7e98",
   "metadata": {},
   "outputs": [
    {
     "data": {
      "text/plain": [
       "[StairsArtists(stairs=<matplotlib.patches.StepPatch object at 0x7f58cb1436d0>, errorbar=<ErrorbarContainer object of 3 artists>, legend_artist=<ErrorbarContainer object of 3 artists>)]"
      ]
     },
     "execution_count": 19,
     "metadata": {},
     "output_type": "execute_result"
    },
    {
     "data": {
      "image/png": "[encoded data removed]",
      "text/plain": [
       "<Figure size 640x480 with 1 Axes>"
      ]
     },
     "metadata": {},
     "output_type": "display_data"
    }
   ],
   "source": [
    "hist.Hist.new.Reg(36,50,200).Double().fill(dijets.mass).plot()"
   ]
  },
  {
   "cell_type": "code",
   "execution_count": 20,
   "id": "b7710b68-0a50-49a4-bdbb-4ce1aa0faa57",
   "metadata": {},
   "outputs": [
    {
     "data": {
      "text/plain": [
       "[StairsArtists(stairs=<matplotlib.patches.StepPatch object at 0x7f58d8c71b40>, errorbar=<ErrorbarContainer object of 3 artists>, legend_artist=<ErrorbarContainer object of 3 artists>)]"
      ]
     },
     "execution_count": 20,
     "metadata": {},
     "output_type": "execute_result"
    },
    {
     "data": {
      "image/png": "[encoded data removed]",
      "text/plain": [
       "<Figure size 640x480 with 1 Axes>"
      ]
     },
     "metadata": {},
     "output_type": "display_data"
    }
   ],
   "source": [
    "hist.Hist.new.Reg(20,0,1000).Double().fill(dijets.pt).plot()"
   ]
  },
  {
   "cell_type": "code",
   "execution_count": 21,
   "id": "ae0971d9-95d1-4061-86d0-48973aa8b529",
   "metadata": {},
   "outputs": [],
   "source": [
    "# wp = get_wp(Era=2018,wp=\"medium\")\n",
    "# is_bjet = events.Jet.btagDeepFlavB > wp\n",
    "# bjets = events.Jet[is_bjet]\n",
    "# at_least_two_such_jets = ak.num(bjets, axis=1) >= 2\n",
    "# bjets = bjets[at_least_two_such_jets]\n",
    "# leading_bjets = bjets[:,0]\n",
    "# leading_jet_pt_at_least_50 = leading_bjets.pt > 50\n",
    "# bjets = bjets[leading_jet_pt_at_least_50 ]\n",
    "# subleading_bjets = bjets[:,1]\n",
    "# subleading_jet_pt_at_least_30 = subleading_bjets.pt > 30\n",
    "# bjets = bjets[subleading_jet_pt_at_least_30]\n",
    "# dijets = bjets[:,0]+bjets[:,1]\n",
    "# dijets_mass_window = (dijets.mass < 150) & (dijets.mass > 100)\n",
    "# dijets = dijets[dijets_mass_window]\n",
    "# dijets_pt_selection = dijets.pt > 100\n",
    "# dijets = dijets[dijets_pt_selection]"
   ]
  },
  {
   "cell_type": "code",
   "execution_count": 22,
   "id": "187d9a98-8e03-4cb3-8153-f83cd45c78a1",
   "metadata": {},
   "outputs": [
    {
     "name": "stdout",
     "output_type": "stream",
     "text": [
      "No cut:  2125954\n",
      "dijet events:  85331\n",
      "leading jet pt > 50:  68571\n",
      "subleading jet pt > 30:  45065\n",
      "100 < M_bb < 150:  6864\n",
      "pt(bb) > 100:  4767\n",
      "At least one normal additional jet:  4763\n"
     ]
    }
   ],
   "source": [
    "print(\"No cut: \", len(events))\n",
    "\n",
    "events1 = events[at_least_two_such_jets]\n",
    "print(\"dijet events: \" , len(events1))\n",
    "\n",
    "events2 = events1[leading_jet_pt_at_least_50]\n",
    "print(\"leading jet pt > 50: \", len(events2))\n",
    "\n",
    "events3 = events2[subleading_jet_pt_at_least_30]\n",
    "print(\"subleading jet pt > 30: \", len(events3))\n",
    "\n",
    "events4 = events3[dijets_mass_window]\n",
    "print(\"100 < M_bb < 150: \", len(events4))\n",
    "\n",
    "events5 = events4[dijets_pt_selection]\n",
    "print(\"pt(bb) > 100: \", len(events5))\n",
    "\n",
    "one_normal_additional_jet = ak.num(events5.Jet) >= 3\n",
    "events6 = events5[one_normal_additional_jet]\n",
    "print(\"At least one normal additional jet: \", len(events6))"
   ]
  }
 ],
 "metadata": {
  "kernelspec": {
   "display_name": "Python 3 (ipykernel)",
   "language": "python",
   "name": "python3"
  },
  "language_info": {
   "codemirror_mode": {
    "name": "ipython",
    "version": 3
   },
   "file_extension": ".py",
   "mimetype": "text/x-python",
   "name": "python",
   "nbconvert_exporter": "python",
   "pygments_lexer": "ipython3",
   "version": "3.10.8"
  }
 },
 "nbformat": 4,
 "nbformat_minor": 5
}
