{
 "cells": [
  {
   "cell_type": "code",
   "execution_count": 1,
   "id": "9c2efa73-2f73-4014-a768-6bfc78c34ccb",
   "metadata": {},
   "outputs": [],
   "source": [
    "from coffea.nanoevents import NanoAODSchema,NanoEventsFactory\n",
    "from coffea import processor\n",
    "from coffea.analysis_tools import PackedSelection\n",
    "import hist\n",
    "from Snip_debug import *\n",
    "import awkward as ak\n",
    "import numpy as np"
   ]
  },
  {
   "cell_type": "code",
   "execution_count": 2,
   "id": "cf033caa-f202-4223-8dc9-2baac184c23d",
   "metadata": {},
   "outputs": [],
   "source": [
    "events = NanoEventsFactory.from_root(\n",
    "    \"/commonfs/store/data/Run2018B/MET/NANOAOD/UL2018_MiniAODv2_NanoAODv9-v2/250000/7B7A01B5-FE11-5944-B73B-1FF6CB58CB83.root\",\n",
    "    schemaclass=NanoAODSchema.v7,\n",
    "    metadata={\n",
    "        \"dataset\":\"MET_Run2018\"\n",
    "    }\n",
    ").events()"
   ]
  },
  {
   "cell_type": "code",
   "execution_count": 3,
   "id": "27af1fed-9969-4d74-8df1-00fa75176887",
   "metadata": {},
   "outputs": [],
   "source": [
    "eventsMC = NanoEventsFactory.from_root(\n",
    "    \"/commonfs/store/mc/RunIISummer20UL18NanoAODv9/TTToSemiLeptonic_TuneCP5_13TeV-powheg-pythia8/NANOAODSIM/106X_upgrade2018_realistic_v16_L1v1-v1/120000/0520A050-AF68-EF43-AA5B-5AA77C74ED73.root\",\n",
    "    schemaclass=NanoAODSchema.v7,\n",
    "    metadata={\n",
    "        \"dataset\":\"TTToSemiLeptonic\"\n",
    "    }\n",
    ").events()"
   ]
  },
  {
   "cell_type": "code",
   "execution_count": 4,
   "id": "52c5d08e-68ef-4c0c-a72f-069df486d30d",
   "metadata": {},
   "outputs": [],
   "source": [
    "cutflow={}\n",
    "cutflow[\"No cuts\"] = len(events)"
   ]
  },
  {
   "cell_type": "code",
   "execution_count": 5,
   "id": "8660c1e0-3dfc-488f-afa6-ab62bade2f01",
   "metadata": {},
   "outputs": [
    {
     "name": "stdout",
     "output_type": "stream",
     "text": [
      "2172178\n",
      "1406973\n",
      "765205\n",
      "2172178\n"
     ]
    },
    {
     "data": {
      "text/plain": [
       "array([False, False, False, ..., False, False, False])"
      ]
     },
     "execution_count": 5,
     "metadata": {},
     "output_type": "execute_result"
    }
   ],
   "source": [
    "fraction_of_affected = 0.647724485 #Obtained by Shivani from Brilcalc\n",
    "fraction_of_unaffected = 1 - fraction_of_affected\n",
    "print(len(events.MET.pt))\n",
    "pass_bool_array = np.ones(round(len(events.MET.pt)*fraction_of_affected),dtype=bool) #We use events.MET.pt to be sure that no None contribution to length happens\n",
    "block_bool_array = ~np.ones(round(len(events.MET.pt)*fraction_of_unaffected),dtype=bool)\n",
    "print(len(pass_bool_array))\n",
    "print(len(block_bool_array))\n",
    "print(len(pass_bool_array)+len(block_bool_array))\n",
    "block_bool_array"
   ]
  },
  {
   "cell_type": "code",
   "execution_count": 6,
   "id": "f5d5aec4-f511-418a-991f-672c7c75724b",
   "metadata": {},
   "outputs": [
    {
     "data": {
      "text/plain": [
       "array([ True,  True,  True, ..., False, False, False])"
      ]
     },
     "execution_count": 6,
     "metadata": {},
     "output_type": "execute_result"
    }
   ],
   "source": [
    "fake_run_mask = np.concatenate((pass_bool_array,block_bool_array))\n",
    "fake_run_mask"
   ]
  },
  {
   "cell_type": "code",
   "execution_count": 7,
   "id": "36d0f789-d4cf-4510-9419-c6e80c4ea76c",
   "metadata": {},
   "outputs": [
    {
     "data": {
      "text/plain": [
       "<Array [True, True, True, ... False, False] type='2172178 * bool'>"
      ]
     },
     "execution_count": 7,
     "metadata": {},
     "output_type": "execute_result"
    }
   ],
   "source": [
    "ak.Array(fake_run_mask)"
   ]
  },
  {
   "cell_type": "code",
   "execution_count": 25,
   "id": "83b57de7-e855-4eb6-8236-5281a45a87b2",
   "metadata": {},
   "outputs": [],
   "source": [
    "def HEM_veto_bril_test(events, cutflow):\n",
    "    \"\"\"\n",
    "    Developed from Shivani's implementation of HEM veto.\n",
    "    \"\"\"\n",
    "    dataset = events.metadata[\"dataset\"]\n",
    "    is_data = dataset.startswith(\"MET\")\n",
    "    if is_data == True :\n",
    "        mask = (events.run >= 319077)\n",
    "        passes_hem = ak.all((events.Jet.phi < -1.57) | (events.Jet.phi > -0.87) | (events.Jet.eta < -3.0) | (events.Jet.eta > -1.3), axis=1)\n",
    "        HEM_region = mask & passes_hem\n",
    "        Non_HEM_region = events.run < 319077\n",
    "        events = events[Non_HEM_region | HEM_region]\n",
    "    elif is_data == False :\n",
    "        # MC should mimic the ratios of affected and unaffected events\n",
    "        fraction_of_affected = 0.647724485 #Obtained by Shivani from Brilcalc\n",
    "        fraction_of_unaffected = 1 - fraction_of_affected\n",
    "        #Create a fake run cut mask just like in data, by using this ratio\n",
    "        pass_bool_array = np.ones(round(len(events.MET.pt)*fraction_of_affected),dtype=bool) #We use events.MET.pt to be sure that no None contribution to length happens\n",
    "        block_bool_array = ~np.ones(round(len(events.MET.pt)*fraction_of_unaffected),dtype=bool)\n",
    "        print(pass_bool_array, len(pass_bool_array))\n",
    "        print(block_bool_array, len(block_bool_array))\n",
    "        fake_run_mask = np.concatenate((pass_bool_array,block_bool_array))\n",
    "        print(fake_run_mask, len(fake_run_mask))\n",
    "        passes_hem = ak.all((events.Jet.phi < -1.57) | (events.Jet.phi > -0.87) | (events.Jet.eta < -3.0) | (events.Jet.eta > -1.3), axis=1)\n",
    "        HEM_region = fake_run_mask & passes_hem\n",
    "        print(HEM_region)\n",
    "        Non_HEM_region = ~fake_run_mask\n",
    "        print(Non_HEM_region)\n",
    "        events = events[Non_HEM_region | HEM_region]\n",
    "    else :\n",
    "        raise  Exception(\"Function HEM_veto_bril_test caught an error.\")\n",
    "    cutflow[\"HEM veto\"] = len(events)\n",
    "    return events, cutflow"
   ]
  },
  {
   "cell_type": "code",
   "execution_count": 14,
   "id": "ca9948a3-aa06-416b-ac22-82d49645e651",
   "metadata": {},
   "outputs": [],
   "source": [
    "cutflow={}\n",
    "cutflow[\"No cuts\"] = len(events)\n",
    "a, b = HEM_veto_bril_test(events, cutflow)"
   ]
  },
  {
   "cell_type": "code",
   "execution_count": 15,
   "id": "05ce40c1-08a2-48f0-a43f-6a368e1ca18a",
   "metadata": {},
   "outputs": [
    {
     "data": {
      "text/plain": [
       "{'No cuts': 2172178, 'HEM veto': 2167091}"
      ]
     },
     "execution_count": 15,
     "metadata": {},
     "output_type": "execute_result"
    }
   ],
   "source": [
    "b"
   ]
  },
  {
   "cell_type": "code",
   "execution_count": 26,
   "id": "d9bf5ff7-8ee8-482c-b662-0e0390e7d26b",
   "metadata": {},
   "outputs": [
    {
     "name": "stdout",
     "output_type": "stream",
     "text": [
      "[ True  True  True ...  True  True  True] 838155\n",
      "[False False False ... False False False] 455845\n",
      "[ True  True  True ... False False False] 1294000\n",
      "[True, True, True, True, True, True, ... False, False, False, False, False, False]\n",
      "[False False False ...  True  True  True]\n"
     ]
    }
   ],
   "source": [
    "cutflow={}\n",
    "cutflow[\"No cuts\"] = len(eventsMC)\n",
    "a, b = HEM_veto_bril_test(eventsMC, cutflow)"
   ]
  },
  {
   "cell_type": "code",
   "execution_count": 27,
   "id": "8ae88ed0-ca3f-4c17-ba6c-db16ae9b62bf",
   "metadata": {},
   "outputs": [
    {
     "data": {
      "text/plain": [
       "{'No cuts': 1294000, 'HEM veto': 1163578}"
      ]
     },
     "execution_count": 27,
     "metadata": {},
     "output_type": "execute_result"
    }
   ],
   "source": [
    "b"
   ]
  },
  {
   "cell_type": "code",
   "execution_count": null,
   "id": "462df223-1b98-44ce-81a0-d530137e4cb8",
   "metadata": {},
   "outputs": [],
   "source": []
  }
 ],
 "metadata": {
  "kernelspec": {
   "display_name": "Python 3 (ipykernel)",
   "language": "python",
   "name": "python3"
  },
  "language_info": {
   "codemirror_mode": {
    "name": "ipython",
    "version": 3
   },
   "file_extension": ".py",
   "mimetype": "text/x-python",
   "name": "python",
   "nbconvert_exporter": "python",
   "pygments_lexer": "ipython3",
   "version": "3.10.8"
  }
 },
 "nbformat": 4,
 "nbformat_minor": 5
}
