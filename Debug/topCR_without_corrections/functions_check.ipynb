{
 "cells": [
  {
   "cell_type": "code",
   "execution_count": 1,
   "id": "9c2efa73-2f73-4014-a768-6bfc78c34ccb",
   "metadata": {},
   "outputs": [],
   "source": [
    "from coffea.nanoevents import NanoAODSchema,NanoEventsFactory\n",
    "from coffea import processor\n",
    "from coffea.analysis_tools import PackedSelection\n",
    "import hist\n",
    "from Snip_debug import *\n",
    "import awkward as ak\n",
    "import numpy as np"
   ]
  },
  {
   "cell_type": "code",
   "execution_count": 2,
   "id": "cf033caa-f202-4223-8dc9-2baac184c23d",
   "metadata": {},
   "outputs": [],
   "source": [
    "events = NanoEventsFactory.from_root(\n",
    "    \"/commonfs/store/data/Run2018B/MET/NANOAOD/UL2018_MiniAODv2_NanoAODv9-v2/250000/7B7A01B5-FE11-5944-B73B-1FF6CB58CB83.root\",\n",
    "    schemaclass=NanoAODSchema.v7,\n",
    "    metadata={\n",
    "        \"dataset\":\"MET_Run2018\"\n",
    "    }\n",
    ").events()"
   ]
  },
  {
   "cell_type": "code",
   "execution_count": 3,
   "id": "27af1fed-9969-4d74-8df1-00fa75176887",
   "metadata": {},
   "outputs": [],
   "source": [
    "eventsMC = NanoEventsFactory.from_root(\n",
    "    \"/commonfs/store/mc/RunIISummer20UL18NanoAODv9/TTToSemiLeptonic_TuneCP5_13TeV-powheg-pythia8/NANOAODSIM/106X_upgrade2018_realistic_v16_L1v1-v1/120000/0520A050-AF68-EF43-AA5B-5AA77C74ED73.root\",\n",
    "    schemaclass=NanoAODSchema.v7,\n",
    "    metadata={\n",
    "        \"dataset\":\"TTToSemiLeptonic\"\n",
    "    }\n",
    ").events()"
   ]
  },
  {
   "cell_type": "code",
   "execution_count": 4,
   "id": "52c5d08e-68ef-4c0c-a72f-069df486d30d",
   "metadata": {},
   "outputs": [],
   "source": [
    "cutflow={}\n",
    "cutflow[\"No cuts\"] = len(events)"
   ]
  },
  {
   "cell_type": "code",
   "execution_count": 5,
   "id": "8660c1e0-3dfc-488f-afa6-ab62bade2f01",
   "metadata": {},
   "outputs": [
    {
     "name": "stdout",
     "output_type": "stream",
     "text": [
      "2172178\n",
      "1406973\n",
      "765205\n",
      "2172178\n"
     ]
    },
    {
     "data": {
      "text/plain": [
       "array([False, False, False, ..., False, False, False])"
      ]
     },
     "execution_count": 5,
     "metadata": {},
     "output_type": "execute_result"
    }
   ],
   "source": [
    "fraction_of_affected = 0.647724485 #Obtained by Shivani from Brilcalc\n",
    "fraction_of_unaffected = 1 - fraction_of_affected\n",
    "print(len(events.MET.pt))\n",
    "pass_bool_array = np.ones(round(len(events.MET.pt)*fraction_of_affected),dtype=bool) #We use events.MET.pt to be sure that no None contribution to length happens\n",
    "block_bool_array = ~np.ones(round(len(events.MET.pt)*fraction_of_unaffected),dtype=bool)\n",
    "print(len(pass_bool_array))\n",
    "print(len(block_bool_array))\n",
    "print(len(pass_bool_array)+len(block_bool_array))\n",
    "block_bool_array"
   ]
  },
  {
   "cell_type": "code",
   "execution_count": 6,
   "id": "f5d5aec4-f511-418a-991f-672c7c75724b",
   "metadata": {},
   "outputs": [
    {
     "data": {
      "text/plain": [
       "array([ True,  True,  True, ..., False, False, False])"
      ]
     },
     "execution_count": 6,
     "metadata": {},
     "output_type": "execute_result"
    }
   ],
   "source": [
    "fake_run_mask = np.concatenate((pass_bool_array,block_bool_array))\n",
    "fake_run_mask"
   ]
  },
  {
   "cell_type": "code",
   "execution_count": 7,
   "id": "36d0f789-d4cf-4510-9419-c6e80c4ea76c",
   "metadata": {},
   "outputs": [
    {
     "data": {
      "text/plain": [
       "<Array [True, True, True, ... False, False] type='2172178 * bool'>"
      ]
     },
     "execution_count": 7,
     "metadata": {},
     "output_type": "execute_result"
    }
   ],
   "source": [
    "ak.Array(fake_run_mask)"
   ]
  },
  {
   "cell_type": "code",
   "execution_count": 8,
   "id": "83b57de7-e855-4eb6-8236-5281a45a87b2",
   "metadata": {},
   "outputs": [],
   "source": [
    "def HEM_veto_bril_test(events, cutflow):\n",
    "    \"\"\"\n",
    "    Developed from Shivani's implementation of HEM veto.\n",
    "    \"\"\"\n",
    "    dataset = events.metadata[\"dataset\"]\n",
    "    is_data = dataset.startswith(\"MET\")\n",
    "    if is_data == True :\n",
    "        mask = (events.run >= 319077)\n",
    "        passes_hem = ak.all((events.Jet.phi < -1.57) | (events.Jet.phi > -0.87) | (events.Jet.eta < -3.0) | (events.Jet.eta > -1.3), axis=1)\n",
    "        HEM_region = mask & passes_hem\n",
    "        Non_HEM_region = events.run < 319077\n",
    "        events = events[Non_HEM_region | HEM_region]\n",
    "    elif is_data == False :\n",
    "        # MC should mimic the ratios of affected and unaffected events\n",
    "        fraction_of_affected = 0.647724485 #Obtained by Shivani from Brilcalc\n",
    "        fraction_of_unaffected = 1 - fraction_of_affected\n",
    "        #Create a fake run cut mask just like in data, by using this ratio\n",
    "        pass_bool_array = np.ones(round(len(events.MET.pt)*fraction_of_affected),dtype=bool) #We use events.MET.pt to be sure that no None contribution to length happens\n",
    "        block_bool_array = ~np.ones(round(len(events.MET.pt)*fraction_of_unaffected),dtype=bool)\n",
    "        print(pass_bool_array, len(pass_bool_array))\n",
    "        print(block_bool_array, len(block_bool_array))\n",
    "        fake_run_mask = np.concatenate((pass_bool_array,block_bool_array))\n",
    "        print(fake_run_mask, len(fake_run_mask))\n",
    "        passes_hem = ak.all((events.Jet.phi < -1.57) | (events.Jet.phi > -0.87) | (events.Jet.eta < -3.0) | (events.Jet.eta > -1.3), axis=1)\n",
    "        HEM_region = fake_run_mask & passes_hem\n",
    "        print(HEM_region)\n",
    "        Non_HEM_region = ~fake_run_mask\n",
    "        print(Non_HEM_region)\n",
    "        events = events[Non_HEM_region | HEM_region]\n",
    "    else :\n",
    "        raise  Exception(\"Function HEM_veto_bril_test caught an error.\")\n",
    "    cutflow[\"HEM veto\"] = len(events)\n",
    "    return events, cutflow"
   ]
  },
  {
   "cell_type": "code",
   "execution_count": 9,
   "id": "ca9948a3-aa06-416b-ac22-82d49645e651",
   "metadata": {},
   "outputs": [],
   "source": [
    "cutflow={}\n",
    "cutflow[\"No cuts\"] = len(events)\n",
    "a, b = HEM_veto_bril_test(events, cutflow)"
   ]
  },
  {
   "cell_type": "code",
   "execution_count": 10,
   "id": "05ce40c1-08a2-48f0-a43f-6a368e1ca18a",
   "metadata": {},
   "outputs": [
    {
     "data": {
      "text/plain": [
       "{'No cuts': 2172178, 'HEM veto': 2167091}"
      ]
     },
     "execution_count": 10,
     "metadata": {},
     "output_type": "execute_result"
    }
   ],
   "source": [
    "b"
   ]
  },
  {
   "cell_type": "code",
   "execution_count": 11,
   "id": "d9bf5ff7-8ee8-482c-b662-0e0390e7d26b",
   "metadata": {},
   "outputs": [
    {
     "name": "stdout",
     "output_type": "stream",
     "text": [
      "[ True  True  True ...  True  True  True] 838155\n",
      "[False False False ... False False False] 455845\n",
      "[ True  True  True ... False False False] 1294000\n",
      "[True, True, True, True, True, True, ... False, False, False, False, False, False]\n",
      "[False False False ...  True  True  True]\n"
     ]
    }
   ],
   "source": [
    "cutflow={}\n",
    "cutflow[\"No cuts\"] = len(eventsMC)\n",
    "a, b = HEM_veto_bril_test(eventsMC, cutflow)"
   ]
  },
  {
   "cell_type": "code",
   "execution_count": 12,
   "id": "8ae88ed0-ca3f-4c17-ba6c-db16ae9b62bf",
   "metadata": {},
   "outputs": [
    {
     "data": {
      "text/plain": [
       "{'No cuts': 1294000, 'HEM veto': 1163578}"
      ]
     },
     "execution_count": 12,
     "metadata": {},
     "output_type": "execute_result"
    }
   ],
   "source": [
    "b"
   ]
  },
  {
   "cell_type": "code",
   "execution_count": 14,
   "id": "462df223-1b98-44ce-81a0-d530137e4cb8",
   "metadata": {},
   "outputs": [
    {
     "data": {
      "text/plain": [
       "['L1PreFiringWeight',\n",
       " 'PuppiMET',\n",
       " 'fixedGridRhoFastjetCentralCalo',\n",
       " 'SoftActivityJetNjets10',\n",
       " 'SoftActivityJetNjets2',\n",
       " 'FsrPhoton',\n",
       " 'run',\n",
       " 'SubJet',\n",
       " 'OtherPV',\n",
       " 'SoftActivityJetNjets5',\n",
       " 'event',\n",
       " 'DeepMETResponseTune',\n",
       " 'HLT',\n",
       " 'IsoTrack',\n",
       " 'RawMET',\n",
       " 'HLTriggerFirstPath',\n",
       " 'TrigObj',\n",
       " 'fixedGridRhoFastjetCentralChargedPileUp',\n",
       " 'Muon',\n",
       " 'boostedTau',\n",
       " 'Tau',\n",
       " 'luminosityBlock',\n",
       " 'fixedGridRhoFastjetAll',\n",
       " 'HLTriggerFinalPath',\n",
       " 'ChsMET',\n",
       " 'RawPuppiMET',\n",
       " 'SoftActivityJetHT5',\n",
       " 'fixedGridRhoFastjetCentral',\n",
       " 'L1',\n",
       " 'FatJet',\n",
       " 'MET',\n",
       " 'DeepMETResolutionTune',\n",
       " 'L1Reco',\n",
       " 'CorrT1METJet',\n",
       " 'SoftActivityJetHT',\n",
       " 'fixedGridRhoFastjetCentralNeutral',\n",
       " 'TkMET',\n",
       " 'SV',\n",
       " 'Proton',\n",
       " 'SoftActivityJet',\n",
       " 'Photon',\n",
       " 'SoftActivityJetHT10',\n",
       " 'PPSLocalTrack',\n",
       " 'Electron',\n",
       " 'PV',\n",
       " 'LowPtElectron',\n",
       " 'Flag',\n",
       " 'Jet',\n",
       " 'SoftActivityJetHT2',\n",
       " 'CaloMET']"
      ]
     },
     "execution_count": 14,
     "metadata": {},
     "output_type": "execute_result"
    }
   ],
   "source": [
    "events.fields"
   ]
  },
  {
   "cell_type": "code",
   "execution_count": 22,
   "id": "e824def5-41ea-47fd-a0fb-e19bb63606ee",
   "metadata": {},
   "outputs": [
    {
     "data": {
      "text/plain": [
       "'slimmedJets, i.e. ak4 PFJets CHS with JECs applied, after basic selection (pt > 15)'"
      ]
     },
     "execution_count": 22,
     "metadata": {},
     "output_type": "execute_result"
    }
   ],
   "source": [
    "events.Jet.__doc__"
   ]
  },
  {
   "cell_type": "code",
   "execution_count": 24,
   "id": "ee1647f2-ac02-4c5f-bee3-1b265e5d63b5",
   "metadata": {},
   "outputs": [
    {
     "data": {
      "text/plain": [
       "'slimmedJetsAK8, i.e. ak8 fat jets for boosted analysis'"
      ]
     },
     "execution_count": 24,
     "metadata": {},
     "output_type": "execute_result"
    }
   ],
   "source": [
    "events.FatJet.__doc__"
   ]
  },
  {
   "cell_type": "code",
   "execution_count": 27,
   "id": "bc1e6cab-d6a9-4a90-a675-a24bd28a455f",
   "metadata": {},
   "outputs": [
    {
     "data": {
      "text/plain": [
       "['area',\n",
       " 'btagCSVV2',\n",
       " 'btagDDBvLV2',\n",
       " 'btagDDCvBV2',\n",
       " 'btagDDCvLV2',\n",
       " 'btagDeepB',\n",
       " 'btagHbb',\n",
       " 'deepTagMD_H4qvsQCD',\n",
       " 'deepTagMD_HbbvsQCD',\n",
       " 'deepTagMD_TvsQCD',\n",
       " 'deepTagMD_WvsQCD',\n",
       " 'deepTagMD_ZHbbvsQCD',\n",
       " 'deepTagMD_ZHccvsQCD',\n",
       " 'deepTagMD_ZbbvsQCD',\n",
       " 'deepTagMD_ZvsQCD',\n",
       " 'deepTagMD_bbvsLight',\n",
       " 'deepTagMD_ccvsLight',\n",
       " 'deepTag_H',\n",
       " 'deepTag_QCD',\n",
       " 'deepTag_QCDothers',\n",
       " 'deepTag_TvsQCD',\n",
       " 'deepTag_WvsQCD',\n",
       " 'deepTag_ZvsQCD',\n",
       " 'eta',\n",
       " 'mass',\n",
       " 'msoftdrop',\n",
       " 'n2b1',\n",
       " 'n3b1',\n",
       " 'particleNetMD_QCD',\n",
       " 'particleNetMD_Xbb',\n",
       " 'particleNetMD_Xcc',\n",
       " 'particleNetMD_Xqq',\n",
       " 'particleNet_H4qvsQCD',\n",
       " 'particleNet_HbbvsQCD',\n",
       " 'particleNet_HccvsQCD',\n",
       " 'particleNet_QCD',\n",
       " 'particleNet_TvsQCD',\n",
       " 'particleNet_WvsQCD',\n",
       " 'particleNet_ZvsQCD',\n",
       " 'particleNet_mass',\n",
       " 'phi',\n",
       " 'pt',\n",
       " 'rawFactor',\n",
       " 'tau1',\n",
       " 'tau2',\n",
       " 'tau3',\n",
       " 'tau4',\n",
       " 'lsf3',\n",
       " 'jetId',\n",
       " 'subJetIdx1',\n",
       " 'subJetIdx2',\n",
       " 'electronIdx3SJ',\n",
       " 'muonIdx3SJ',\n",
       " 'nConstituents',\n",
       " 'subJetIdx1G',\n",
       " 'subJetIdx2G',\n",
       " 'subJetIdxG']"
      ]
     },
     "execution_count": 27,
     "metadata": {},
     "output_type": "execute_result"
    }
   ],
   "source": [
    "events.FatJet.fields"
   ]
  },
  {
   "cell_type": "code",
   "execution_count": 29,
   "id": "eefe831c-dfcb-4fcf-be46-8e53e01bd227",
   "metadata": {},
   "outputs": [
    {
     "data": {
      "text/plain": [
       "<Array [[], [0.000127, 0.00125], ... [], []] type='2172178 * var * float32[param...'>"
      ]
     },
     "execution_count": 29,
     "metadata": {},
     "output_type": "execute_result"
    }
   ],
   "source": [
    "events.FatJet.btagDDBvLV2"
   ]
  },
  {
   "cell_type": "code",
   "execution_count": 37,
   "id": "c9e68f85-f477-48e4-b06c-9b2237874332",
   "metadata": {},
   "outputs": [],
   "source": [
    "#events.caches[0].keys()"
   ]
  },
  {
   "cell_type": "code",
   "execution_count": 39,
   "id": "c9c2a33b-dfa3-4428-9272-cbc89bc2d041",
   "metadata": {},
   "outputs": [
    {
     "data": {
      "text/plain": [
       "<Array [[131, 60, 26.5, ... 15.8, 15.7, 15.7]] type='2172178 * var * float32[par...'>"
      ]
     },
     "execution_count": 39,
     "metadata": {},
     "output_type": "execute_result"
    }
   ],
   "source": [
    "events.Jet.pt"
   ]
  },
  {
   "cell_type": "code",
   "execution_count": 45,
   "id": "a40d6a21-7648-46f2-8340-20b0ff38a9d4",
   "metadata": {},
   "outputs": [
    {
     "data": {
      "text/plain": [
       "<Array [[0, 0, ... 1.86e-19, 1.92e-19]] type='2172178 * var * float32'>"
      ]
     },
     "execution_count": 45,
     "metadata": {},
     "output_type": "execute_result"
    }
   ],
   "source": [
    "events['Jet','special'] = events.Jet.pt** - events.Jet.pt\n",
    "events.Jet.special"
   ]
  },
  {
   "cell_type": "code",
   "execution_count": 50,
   "id": "8f886c5a-ead9-4bfb-82dc-f3c3bc78d7dd",
   "metadata": {},
   "outputs": [
    {
     "name": "stdout",
     "output_type": "stream",
     "text": [
      "\n",
      "    Args:\n",
      "        data (#ak.layout.Content, #ak.partition.PartitionedArray, #ak.Array, `np.ndarray`, `cp.ndarray`, `pyarrow.*`, str, dict, or iterable):\n",
      "            Data to wrap or convert into an array.\n",
      "               - If a NumPy array, the regularity of its dimensions is preserved\n",
      "                 and the data are viewed, not copied.\n",
      "               - CuPy arrays are treated the same way as NumPy arrays except that\n",
      "                 they default to `kernels=\"cuda\"`, rather than `kernels=\"cpu\"`.\n",
      "               - If a pyarrow object, calls #ak.from_arrow, preserving as much\n",
      "                 metadata as possible, usually zero-copy.\n",
      "               - If a dict of str → columns, combines the columns into an\n",
      "                 array of records (like Pandas's DataFrame constructor).\n",
      "               - If a string, the data are assumed to be JSON.\n",
      "               - If an iterable, calls #ak.from_iter, which assumes all dimensions\n",
      "                 have irregular lengths.\n",
      "        behavior (None or dict): Custom #ak.behavior for this Array only.\n",
      "        with_name (None or str): Gives tuples and records a name that can be\n",
      "            used to override their behavior (see below).\n",
      "        check_valid (bool): If True, verify that the #layout is valid.\n",
      "        kernels (None, `\"cpu\"`, or `\"cuda\"`): If `\"cpu\"`, the Array will be placed in\n",
      "            main memory for use with other `\"cpu\"` Arrays and Records; if `\"cuda\"`,\n",
      "            the Array will be placed in GPU global memory using CUDA; if None,\n",
      "            the `data` are left untouched. For `\"cuda\"`,\n",
      "            [awkward-cuda-kernels](https://pypi.org/project/awkward-cuda-kernels)\n",
      "            must be installed, which can be invoked with\n",
      "            `pip install awkward[cuda] --upgrade`.\n",
      "\n",
      "    High-level array that can contain data of any type.\n",
      "\n",
      "    For most users, this is the only class in Awkward Array that matters: it\n",
      "    is the entry point for data analysis with an emphasis on usability. It\n",
      "    intentionally has a minimum of methods, preferring standalone functions\n",
      "    like\n",
      "\n",
      "        ak.num(array1)\n",
      "        ak.combinations(array1)\n",
      "        ak.cartesian([array1, array2])\n",
      "        ak.zip({\"x\": array1, \"y\": array2, \"z\": array3})\n",
      "\n",
      "    instead of bound methods like\n",
      "\n",
      "        array1.num()\n",
      "        array1.combinations()\n",
      "        array1.cartesian([array2, array3])\n",
      "        array1.zip(...)   # ?\n",
      "\n",
      "    because its namespace is valuable for domain-specific parameters and\n",
      "    functionality. For example, if records contain a field named `\"num\"`,\n",
      "    they can be accessed as\n",
      "\n",
      "        array1.num\n",
      "\n",
      "    instead of\n",
      "\n",
      "        array1[\"num\"]\n",
      "\n",
      "    without any confusion or interference from #ak.num. The same is true\n",
      "    for domain-specific methods that have been attached to the data. For\n",
      "    instance, an analysis of mailing addresses might have a function that\n",
      "    computes zip codes, which can be attached to the data with a method\n",
      "    like\n",
      "\n",
      "        latlon.zip()\n",
      "\n",
      "    without any confusion or interference from #ak.zip. Custom methods like\n",
      "    this can be added with #ak.behavior, and so the namespace of Array\n",
      "    attributes must be kept clear for such applications.\n",
      "\n",
      "    See also #ak.Record.\n",
      "\n",
      "    Interfaces to other libraries\n",
      "    =============================\n",
      "\n",
      "    NumPy\n",
      "    *****\n",
      "\n",
      "    When NumPy\n",
      "    [universal functions](https://docs.scipy.org/doc/numpy/reference/ufuncs.html)\n",
      "    (ufuncs) are applied to an ak.Array, they are passed through the Awkward\n",
      "    data structure, applied to the numerical data at its leaves, and the output\n",
      "    maintains the original structure.\n",
      "\n",
      "    For example,\n",
      "\n",
      "        >>> array = ak.Array([[1, 4, 9], [], [16, 25]])\n",
      "        >>> np.sqrt(array)\n",
      "        <Array [[1, 2, 3], [], [4, 5]] type='3 * var * float64'>\n",
      "\n",
      "    See also #ak.Array.__array_ufunc__.\n",
      "\n",
      "    Some NumPy functions other than ufuncs are also handled properly in\n",
      "    NumPy >= 1.17 (see\n",
      "    [NEP 18](https://numpy.org/neps/nep-0018-array-function-protocol.html))\n",
      "    and if an Awkward override exists. That is,\n",
      "\n",
      "        np.concatenate\n",
      "\n",
      "    can be used on an Awkward Array because\n",
      "\n",
      "        ak.concatenate\n",
      "\n",
      "    exists. If your NumPy is older than 1.17, use `ak.concatenate` directly.\n",
      "\n",
      "    Pandas\n",
      "    ******\n",
      "\n",
      "    Ragged arrays (list type) can be converted into Pandas\n",
      "    [MultiIndex](https://pandas.pydata.org/pandas-docs/stable/user_guide/advanced.html)\n",
      "    rows and nested records can be converted into MultiIndex columns. If the\n",
      "    Awkward Array has only one \"branch\" of nested lists (i.e. different record\n",
      "    fields do not have different-length lists, but a single chain of lists-of-lists\n",
      "    is okay), then it can be losslessly converted into a single DataFrame.\n",
      "    Otherwise, multiple DataFrames are needed, though they can be merged (with a\n",
      "    loss of information).\n",
      "\n",
      "    The #ak.to_pandas function performs this conversion; if `how=None`, it\n",
      "    returns a list of DataFrames; otherwise, `how` is passed to `pd.merge` when\n",
      "    merging the resultant DataFrames.\n",
      "\n",
      "    Numba\n",
      "    *****\n",
      "\n",
      "    Arrays can be used in [Numba](http://numba.pydata.org/): they can be\n",
      "    passed as arguments to a Numba-compiled function or returned as return\n",
      "    values. The only limitation is that Awkward Arrays cannot be *created*\n",
      "    inside the Numba-compiled function; to make outputs, consider\n",
      "    #ak.ArrayBuilder.\n",
      "\n",
      "    Arrow\n",
      "    *****\n",
      "\n",
      "    Arrays are convertible to and from [Apache Arrow](https://arrow.apache.org/),\n",
      "    a standard for representing nested data structures in columnar arrays.\n",
      "    See #ak.to_arrow and #ak.from_arrow.\n",
      "\n",
      "    NumExpr\n",
      "    *******\n",
      "\n",
      "    [NumExpr](https://numexpr.readthedocs.io/en/latest/user_guide.html) can\n",
      "    calculate expressions on a set of ak.Arrays, but only if the functions in\n",
      "    `ak.numexpr` are used, not the functions in the `numexpr` library directly.\n",
      "\n",
      "    Like NumPy ufuncs, the expression is evaluated on the numeric leaves of the\n",
      "    data structure, maintaining structure in the output.\n",
      "\n",
      "    See #ak.numexpr.evaluate to calculate an expression.\n",
      "\n",
      "    See #ak.numexpr.re_evaluate to recalculate an expression without\n",
      "    rebuilding its virtual machine.\n",
      "\n",
      "    Autograd\n",
      "    ********\n",
      "\n",
      "    Derivatives of a calculation on a set of ak.Arrays can be calculated with\n",
      "    [Autograd](https://github.com/HIPS/autograd#readme), but only if the\n",
      "    function in `ak.autograd` is used, not the functions in the `autograd`\n",
      "    library directly.\n",
      "\n",
      "    Like NumPy ufuncs, the function and its derivatives are evaluated on the\n",
      "    numeric leaves of the data structure, maintaining structure in the output.\n",
      "\n",
      "    See #ak.autograd.elementwise_grad to calculate a function and its\n",
      "    derivatives elementwise on each numeric value in an ak.Array.\n",
      "    \n"
     ]
    }
   ],
   "source": [
    "print(events.Jet.special.__doc__)"
   ]
  }
 ],
 "metadata": {
  "kernelspec": {
   "display_name": "Python 3 (ipykernel)",
   "language": "python",
   "name": "python3"
  },
  "language_info": {
   "codemirror_mode": {
    "name": "ipython",
    "version": 3
   },
   "file_extension": ".py",
   "mimetype": "text/x-python",
   "name": "python",
   "nbconvert_exporter": "python",
   "pygments_lexer": "ipython3",
   "version": "3.10.8"
  }
 },
 "nbformat": 4,
 "nbformat_minor": 5
}
