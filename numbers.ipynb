{
 "cells": [
  {
   "cell_type": "code",
   "execution_count": 1,
   "id": "122c4af8-f720-401f-8e17-c00c5b5a6b19",
   "metadata": {},
   "outputs": [],
   "source": [
    "met_a = [1,39]"
   ]
  },
  {
   "cell_type": "code",
   "execution_count": 2,
   "id": "b915d998-bdf1-4041-bc9c-9d19da3dcac0",
   "metadata": {},
   "outputs": [],
   "source": [
    "met_b = [40,61]"
   ]
  },
  {
   "cell_type": "code",
   "execution_count": 3,
   "id": "a98726f0-2df1-4701-a3c8-f05bd6db8c79",
   "metadata": {},
   "outputs": [],
   "source": [
    "met_c = [62,85]"
   ]
  },
  {
   "cell_type": "code",
   "execution_count": 4,
   "id": "107ce5cb-4f30-468f-b112-08adc39a7c2f",
   "metadata": {},
   "outputs": [],
   "source": [
    "met_d = [86,206]"
   ]
  },
  {
   "cell_type": "code",
   "execution_count": null,
   "id": "e7a6350c-c54e-42ca-93ce-06d0852e9089",
   "metadata": {},
   "outputs": [],
   "source": []
  }
 ],
 "metadata": {
  "kernelspec": {
   "display_name": "Python 3 (ipykernel)",
   "language": "python",
   "name": "python3"
  },
  "language_info": {
   "codemirror_mode": {
    "name": "ipython",
    "version": 3
   },
   "file_extension": ".py",
   "mimetype": "text/x-python",
   "name": "python",
   "nbconvert_exporter": "python",
   "pygments_lexer": "ipython3",
   "version": "3.10.12"
  }
 },
 "nbformat": 4,
 "nbformat_minor": 5
}
