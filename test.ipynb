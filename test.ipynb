{
 "cells": [
  {
   "cell_type": "code",
   "execution_count": 22,
   "id": "600547a9-d23e-4a5a-b669-e1431ea27ac7",
   "metadata": {
    "tags": []
   },
   "outputs": [],
   "source": [
    "import awkward as ak\n",
    "import uproot as ur\n",
    "import hist\n",
    "import matplotlib.pyplot as plt\n",
    "import mplhep as hep\n",
    "plt.style.use(hep.style.CMS)\n",
    "from coffea.nanoevents import NanoEventsFactory, NanoAODSchema"
   ]
  },
  {
   "cell_type": "code",
   "execution_count": 23,
   "id": "2975dbbe-2e5b-46ac-a900-bb1195189dd3",
   "metadata": {
    "tags": []
   },
   "outputs": [],
   "source": [
    "ur.open.defaults[\"xrootd_handler\"] = ur.source.xrootd.MultithreadedXRootDSource"
   ]
  },
  {
   "cell_type": "markdown",
   "id": "551082da-e180-47df-83d9-d26f315e3e0a",
   "metadata": {},
   "source": [
    "Test Dataset = /store/mc/RunIISummer20UL18NanoAODv9/TTTo2L2Nu_TuneCP5_13TeV-powheg-pythia8/NANOAODSIM/106X_upgrade2018_realistic_v16_L1v1-v1/130000/10671CD1-1127-0842-AE7F-AF20DA985C45.root"
   ]
  },
  {
   "cell_type": "code",
   "execution_count": 25,
   "id": "d78e2325-cd76-4c42-8d75-b42bfd62e244",
   "metadata": {
    "tags": []
   },
   "outputs": [
    {
     "ename": "OSError",
     "evalue": "XRootD error: [FATAL] Redirect limit has been reached\nin file root://xrootd-cms.infn.it///store/mc/RunIISummer20UL18NanoAODv9/TTTo2L2Nu_TuneCP5_13TeV-powheg-pythia8/NANOAODSIM/106X_upgrade2018_realistic_v16_L1v1-v1/130000/10671CD1-1127-0842-AE7F-AF20DA985C45.root",
     "output_type": "error",
     "traceback": [
      "\u001b[0;31m---------------------------------------------------------------------------\u001b[0m",
      "\u001b[0;31mOSError\u001b[0m                                   Traceback (most recent call last)",
      "Cell \u001b[0;32mIn[25], line 4\u001b[0m\n\u001b[1;32m      2\u001b[0m redirector \u001b[38;5;241m=\u001b[39m \u001b[38;5;124m\"\u001b[39m\u001b[38;5;124mroot://xrootd-cms.infn.it//\u001b[39m\u001b[38;5;124m\"\u001b[39m\n\u001b[1;32m      3\u001b[0m file_name \u001b[38;5;241m=\u001b[39m \u001b[38;5;124m\"\u001b[39m\u001b[38;5;124m/store/mc/RunIISummer20UL18NanoAODv9/TTTo2L2Nu_TuneCP5_13TeV-powheg-pythia8/NANOAODSIM/106X_upgrade2018_realistic_v16_L1v1-v1/130000/10671CD1-1127-0842-AE7F-AF20DA985C45.root\u001b[39m\u001b[38;5;124m\"\u001b[39m\n\u001b[0;32m----> 4\u001b[0m events \u001b[38;5;241m=\u001b[39m \u001b[43mNanoEventsFactory\u001b[49m\u001b[38;5;241;43m.\u001b[39;49m\u001b[43mfrom_root\u001b[49m\u001b[43m(\u001b[49m\n\u001b[1;32m      5\u001b[0m \u001b[43m    \u001b[49m\u001b[43mredirector\u001b[49m\u001b[38;5;241;43m+\u001b[39;49m\u001b[43mfile_name\u001b[49m\u001b[43m,\u001b[49m\u001b[43m \u001b[49m\n\u001b[1;32m      6\u001b[0m \u001b[43m    \u001b[49m\u001b[43mschemaclass\u001b[49m\u001b[38;5;241;43m=\u001b[39;49m\u001b[43mNanoAODSchema\u001b[49m\u001b[38;5;241;43m.\u001b[39;49m\u001b[43mv7\u001b[49m\u001b[43m,\u001b[49m\n\u001b[1;32m      7\u001b[0m \u001b[43m    \u001b[49m\u001b[43mmetadata\u001b[49m\u001b[38;5;241;43m=\u001b[39;49m\u001b[43m{\u001b[49m\u001b[38;5;124;43m\"\u001b[39;49m\u001b[38;5;124;43mDatasets\u001b[39;49m\u001b[38;5;124;43m\"\u001b[39;49m\u001b[43m:\u001b[49m\u001b[38;5;124;43m\"\u001b[39;49m\u001b[38;5;124;43mTTTo2L2Nu\u001b[39;49m\u001b[38;5;124;43m\"\u001b[39;49m\u001b[43m}\u001b[49m\u001b[43m,\u001b[49m\n\u001b[1;32m      8\u001b[0m \u001b[43m    \u001b[49m\u001b[43mentry_stop\u001b[49m\u001b[38;5;241;43m=\u001b[39;49m\u001b[38;5;241;43m10000\u001b[39;49m\u001b[43m,\u001b[49m\n\u001b[1;32m      9\u001b[0m \u001b[43m)\u001b[49m\u001b[38;5;241m.\u001b[39mevents()\n\u001b[1;32m     10\u001b[0m \u001b[38;5;28mlen\u001b[39m(events)\n",
      "File \u001b[0;32m/opt/conda/lib/python3.8/site-packages/coffea/nanoevents/factory.py:95\u001b[0m, in \u001b[0;36mNanoEventsFactory.from_root\u001b[0;34m(cls, file, treepath, entry_start, entry_stop, runtime_cache, persistent_cache, schemaclass, metadata, uproot_options, access_log, iteritems_options)\u001b[0m\n\u001b[1;32m     66\u001b[0m \u001b[38;5;250m\u001b[39m\u001b[38;5;124;03m\"\"\"Quickly build NanoEvents from a root file\u001b[39;00m\n\u001b[1;32m     67\u001b[0m \n\u001b[1;32m     68\u001b[0m \u001b[38;5;124;03mParameters\u001b[39;00m\n\u001b[0;32m   (...)\u001b[0m\n\u001b[1;32m     92\u001b[0m \u001b[38;5;124;03m        Pass a list instance to record which branches were lazily accessed by this instance\u001b[39;00m\n\u001b[1;32m     93\u001b[0m \u001b[38;5;124;03m\"\"\"\u001b[39;00m\n\u001b[1;32m     94\u001b[0m \u001b[38;5;28;01mif\u001b[39;00m \u001b[38;5;28misinstance\u001b[39m(file, \u001b[38;5;28mstr\u001b[39m):\n\u001b[0;32m---> 95\u001b[0m     tree \u001b[38;5;241m=\u001b[39m \u001b[43muproot\u001b[49m\u001b[38;5;241;43m.\u001b[39;49m\u001b[43mopen\u001b[49m\u001b[43m(\u001b[49m\u001b[43m{\u001b[49m\u001b[43mfile\u001b[49m\u001b[43m:\u001b[49m\u001b[43m \u001b[49m\u001b[38;5;28;43;01mNone\u001b[39;49;00m\u001b[43m}\u001b[49m\u001b[43m,\u001b[49m\u001b[43m \u001b[49m\u001b[38;5;241;43m*\u001b[39;49m\u001b[38;5;241;43m*\u001b[39;49m\u001b[43muproot_options\u001b[49m\u001b[43m)\u001b[49m[treepath]\n\u001b[1;32m     96\u001b[0m \u001b[38;5;28;01melif\u001b[39;00m \u001b[38;5;28misinstance\u001b[39m(file, uproot\u001b[38;5;241m.\u001b[39mreading\u001b[38;5;241m.\u001b[39mReadOnlyDirectory):\n\u001b[1;32m     97\u001b[0m     tree \u001b[38;5;241m=\u001b[39m file[treepath]\n",
      "File \u001b[0;32m/opt/conda/lib/python3.8/site-packages/uproot/reading.py:141\u001b[0m, in \u001b[0;36mopen\u001b[0;34m(path, object_cache, array_cache, custom_classes, decompression_executor, interpretation_executor, **options)\u001b[0m\n\u001b[1;32m    132\u001b[0m \u001b[38;5;28;01mif\u001b[39;00m \u001b[38;5;129;01mnot\u001b[39;00m uproot\u001b[38;5;241m.\u001b[39m_util\u001b[38;5;241m.\u001b[39misstr(file_path) \u001b[38;5;129;01mand\u001b[39;00m \u001b[38;5;129;01mnot\u001b[39;00m (\n\u001b[1;32m    133\u001b[0m     \u001b[38;5;28mhasattr\u001b[39m(file_path, \u001b[38;5;124m\"\u001b[39m\u001b[38;5;124mread\u001b[39m\u001b[38;5;124m\"\u001b[39m) \u001b[38;5;129;01mand\u001b[39;00m \u001b[38;5;28mhasattr\u001b[39m(file_path, \u001b[38;5;124m\"\u001b[39m\u001b[38;5;124mseek\u001b[39m\u001b[38;5;124m\"\u001b[39m)\n\u001b[1;32m    134\u001b[0m ):\n\u001b[1;32m    135\u001b[0m     \u001b[38;5;28;01mraise\u001b[39;00m \u001b[38;5;167;01mValueError\u001b[39;00m(\n\u001b[1;32m    136\u001b[0m         \u001b[38;5;124m\"\u001b[39m\u001b[38;5;124m'\u001b[39m\u001b[38;5;124mpath\u001b[39m\u001b[38;5;124m'\u001b[39m\u001b[38;5;124m must be a string, pathlib.Path, an object with \u001b[39m\u001b[38;5;124m'\u001b[39m\u001b[38;5;124mread\u001b[39m\u001b[38;5;124m'\u001b[39m\u001b[38;5;124m and \u001b[39m\u001b[38;5;124m\"\u001b[39m\n\u001b[1;32m    137\u001b[0m         \u001b[38;5;124m\"\u001b[39m\u001b[38;5;124m'\u001b[39m\u001b[38;5;124mseek\u001b[39m\u001b[38;5;124m'\u001b[39m\u001b[38;5;124m methods, or a length-1 dict of \u001b[39m\u001b[38;5;124m{{\u001b[39m\u001b[38;5;124mfile_path: object_path}}, \u001b[39m\u001b[38;5;124m\"\u001b[39m\n\u001b[1;32m    138\u001b[0m         \u001b[38;5;124m\"\u001b[39m\u001b[38;5;124mnot \u001b[39m\u001b[38;5;132;01m{0}\u001b[39;00m\u001b[38;5;124m\"\u001b[39m\u001b[38;5;241m.\u001b[39mformat(\u001b[38;5;28mrepr\u001b[39m(path))\n\u001b[1;32m    139\u001b[0m     )\n\u001b[0;32m--> 141\u001b[0m file \u001b[38;5;241m=\u001b[39m \u001b[43mReadOnlyFile\u001b[49m\u001b[43m(\u001b[49m\n\u001b[1;32m    142\u001b[0m \u001b[43m    \u001b[49m\u001b[43mfile_path\u001b[49m\u001b[43m,\u001b[49m\n\u001b[1;32m    143\u001b[0m \u001b[43m    \u001b[49m\u001b[43mobject_cache\u001b[49m\u001b[38;5;241;43m=\u001b[39;49m\u001b[43mobject_cache\u001b[49m\u001b[43m,\u001b[49m\n\u001b[1;32m    144\u001b[0m \u001b[43m    \u001b[49m\u001b[43marray_cache\u001b[49m\u001b[38;5;241;43m=\u001b[39;49m\u001b[43marray_cache\u001b[49m\u001b[43m,\u001b[49m\n\u001b[1;32m    145\u001b[0m \u001b[43m    \u001b[49m\u001b[43mcustom_classes\u001b[49m\u001b[38;5;241;43m=\u001b[39;49m\u001b[43mcustom_classes\u001b[49m\u001b[43m,\u001b[49m\n\u001b[1;32m    146\u001b[0m \u001b[43m    \u001b[49m\u001b[43mdecompression_executor\u001b[49m\u001b[38;5;241;43m=\u001b[39;49m\u001b[43mdecompression_executor\u001b[49m\u001b[43m,\u001b[49m\n\u001b[1;32m    147\u001b[0m \u001b[43m    \u001b[49m\u001b[43minterpretation_executor\u001b[49m\u001b[38;5;241;43m=\u001b[39;49m\u001b[43minterpretation_executor\u001b[49m\u001b[43m,\u001b[49m\n\u001b[1;32m    148\u001b[0m \u001b[43m    \u001b[49m\u001b[38;5;241;43m*\u001b[39;49m\u001b[38;5;241;43m*\u001b[39;49m\u001b[43moptions\u001b[49m\u001b[43m,\u001b[49m\u001b[43m  \u001b[49m\u001b[38;5;66;43;03m# NOTE: a comma after **options breaks Python 2\u001b[39;49;00m\n\u001b[1;32m    149\u001b[0m \u001b[43m\u001b[49m\u001b[43m)\u001b[49m\n\u001b[1;32m    151\u001b[0m \u001b[38;5;28;01mif\u001b[39;00m object_path \u001b[38;5;129;01mis\u001b[39;00m \u001b[38;5;28;01mNone\u001b[39;00m:\n\u001b[1;32m    152\u001b[0m     \u001b[38;5;28;01mreturn\u001b[39;00m file\u001b[38;5;241m.\u001b[39mroot_directory\n",
      "File \u001b[0;32m/opt/conda/lib/python3.8/site-packages/uproot/reading.py:580\u001b[0m, in \u001b[0;36mReadOnlyFile.__init__\u001b[0;34m(self, file_path, object_cache, array_cache, custom_classes, decompression_executor, interpretation_executor, **options)\u001b[0m\n\u001b[1;32m    575\u001b[0m \u001b[38;5;28mself\u001b[39m\u001b[38;5;241m.\u001b[39mhook_before_create_source()\n\u001b[1;32m    577\u001b[0m Source, file_path \u001b[38;5;241m=\u001b[39m uproot\u001b[38;5;241m.\u001b[39m_util\u001b[38;5;241m.\u001b[39mfile_path_to_source_class(\n\u001b[1;32m    578\u001b[0m     file_path, \u001b[38;5;28mself\u001b[39m\u001b[38;5;241m.\u001b[39m_options\n\u001b[1;32m    579\u001b[0m )\n\u001b[0;32m--> 580\u001b[0m \u001b[38;5;28mself\u001b[39m\u001b[38;5;241m.\u001b[39m_source \u001b[38;5;241m=\u001b[39m \u001b[43mSource\u001b[49m\u001b[43m(\u001b[49m\n\u001b[1;32m    581\u001b[0m \u001b[43m    \u001b[49m\u001b[43mfile_path\u001b[49m\u001b[43m,\u001b[49m\u001b[43m \u001b[49m\u001b[38;5;241;43m*\u001b[39;49m\u001b[38;5;241;43m*\u001b[39;49m\u001b[38;5;28;43mself\u001b[39;49m\u001b[38;5;241;43m.\u001b[39;49m\u001b[43m_options\u001b[49m\u001b[43m  \u001b[49m\u001b[38;5;66;43;03m# NOTE: a comma after **options breaks Python 2\u001b[39;49;00m\n\u001b[1;32m    582\u001b[0m \u001b[43m\u001b[49m\u001b[43m)\u001b[49m\n\u001b[1;32m    584\u001b[0m \u001b[38;5;28mself\u001b[39m\u001b[38;5;241m.\u001b[39mhook_before_get_chunks()\n\u001b[1;32m    586\u001b[0m \u001b[38;5;28;01mif\u001b[39;00m \u001b[38;5;28mself\u001b[39m\u001b[38;5;241m.\u001b[39m_options[\u001b[38;5;124m\"\u001b[39m\u001b[38;5;124mbegin_chunk_size\u001b[39m\u001b[38;5;124m\"\u001b[39m] \u001b[38;5;241m<\u001b[39m _file_header_fields_big\u001b[38;5;241m.\u001b[39msize:\n",
      "File \u001b[0;32m/opt/conda/lib/python3.8/site-packages/uproot/source/xrootd.py:453\u001b[0m, in \u001b[0;36mMultithreadedXRootDSource.__init__\u001b[0;34m(self, file_path, **options)\u001b[0m\n\u001b[1;32m    451\u001b[0m \u001b[38;5;28mself\u001b[39m\u001b[38;5;241m.\u001b[39m_file_path \u001b[38;5;241m=\u001b[39m file_path\n\u001b[1;32m    452\u001b[0m \u001b[38;5;28mself\u001b[39m\u001b[38;5;241m.\u001b[39m_num_bytes \u001b[38;5;241m=\u001b[39m \u001b[38;5;28;01mNone\u001b[39;00m\n\u001b[0;32m--> 453\u001b[0m \u001b[38;5;28;43mself\u001b[39;49m\u001b[38;5;241;43m.\u001b[39;49m\u001b[43m_open\u001b[49m\u001b[43m(\u001b[49m\u001b[43m)\u001b[49m\n",
      "File \u001b[0;32m/opt/conda/lib/python3.8/site-packages/uproot/source/xrootd.py:457\u001b[0m, in \u001b[0;36mMultithreadedXRootDSource._open\u001b[0;34m(self)\u001b[0m\n\u001b[1;32m    455\u001b[0m \u001b[38;5;28;01mdef\u001b[39;00m \u001b[38;5;21m_open\u001b[39m(\u001b[38;5;28mself\u001b[39m):\n\u001b[1;32m    456\u001b[0m     \u001b[38;5;28mself\u001b[39m\u001b[38;5;241m.\u001b[39m_executor \u001b[38;5;241m=\u001b[39m uproot\u001b[38;5;241m.\u001b[39msource\u001b[38;5;241m.\u001b[39mfutures\u001b[38;5;241m.\u001b[39mResourceThreadPoolExecutor(\n\u001b[0;32m--> 457\u001b[0m         [\n\u001b[1;32m    458\u001b[0m             XRootDResource(\u001b[38;5;28mself\u001b[39m\u001b[38;5;241m.\u001b[39m_file_path, \u001b[38;5;28mself\u001b[39m\u001b[38;5;241m.\u001b[39m_timeout)\n\u001b[1;32m    459\u001b[0m             \u001b[38;5;28;01mfor\u001b[39;00m x \u001b[38;5;129;01min\u001b[39;00m \u001b[38;5;28mrange\u001b[39m(\u001b[38;5;28mself\u001b[39m\u001b[38;5;241m.\u001b[39m_num_workers)\n\u001b[1;32m    460\u001b[0m         ]\n\u001b[1;32m    461\u001b[0m     )\n",
      "File \u001b[0;32m/opt/conda/lib/python3.8/site-packages/uproot/source/xrootd.py:458\u001b[0m, in \u001b[0;36m<listcomp>\u001b[0;34m(.0)\u001b[0m\n\u001b[1;32m    455\u001b[0m \u001b[38;5;28;01mdef\u001b[39;00m \u001b[38;5;21m_open\u001b[39m(\u001b[38;5;28mself\u001b[39m):\n\u001b[1;32m    456\u001b[0m     \u001b[38;5;28mself\u001b[39m\u001b[38;5;241m.\u001b[39m_executor \u001b[38;5;241m=\u001b[39m uproot\u001b[38;5;241m.\u001b[39msource\u001b[38;5;241m.\u001b[39mfutures\u001b[38;5;241m.\u001b[39mResourceThreadPoolExecutor(\n\u001b[1;32m    457\u001b[0m         [\n\u001b[0;32m--> 458\u001b[0m             \u001b[43mXRootDResource\u001b[49m\u001b[43m(\u001b[49m\u001b[38;5;28;43mself\u001b[39;49m\u001b[38;5;241;43m.\u001b[39;49m\u001b[43m_file_path\u001b[49m\u001b[43m,\u001b[49m\u001b[43m \u001b[49m\u001b[38;5;28;43mself\u001b[39;49m\u001b[38;5;241;43m.\u001b[39;49m\u001b[43m_timeout\u001b[49m\u001b[43m)\u001b[49m\n\u001b[1;32m    459\u001b[0m             \u001b[38;5;28;01mfor\u001b[39;00m x \u001b[38;5;129;01min\u001b[39;00m \u001b[38;5;28mrange\u001b[39m(\u001b[38;5;28mself\u001b[39m\u001b[38;5;241m.\u001b[39m_num_workers)\n\u001b[1;32m    460\u001b[0m         ]\n\u001b[1;32m    461\u001b[0m     )\n",
      "File \u001b[0;32m/opt/conda/lib/python3.8/site-packages/uproot/source/xrootd.py:83\u001b[0m, in \u001b[0;36mXRootDResource.__init__\u001b[0;34m(self, file_path, timeout)\u001b[0m\n\u001b[1;32m     81\u001b[0m \u001b[38;5;28mself\u001b[39m\u001b[38;5;241m.\u001b[39m_file_path \u001b[38;5;241m=\u001b[39m file_path\n\u001b[1;32m     82\u001b[0m \u001b[38;5;28mself\u001b[39m\u001b[38;5;241m.\u001b[39m_timeout \u001b[38;5;241m=\u001b[39m timeout\n\u001b[0;32m---> 83\u001b[0m \u001b[38;5;28;43mself\u001b[39;49m\u001b[38;5;241;43m.\u001b[39;49m\u001b[43m_open\u001b[49m\u001b[43m(\u001b[49m\u001b[43m)\u001b[49m\n",
      "File \u001b[0;32m/opt/conda/lib/python3.8/site-packages/uproot/source/xrootd.py:92\u001b[0m, in \u001b[0;36mXRootDResource._open\u001b[0;34m(self)\u001b[0m\n\u001b[1;32m     90\u001b[0m status, dummy \u001b[38;5;241m=\u001b[39m \u001b[38;5;28mself\u001b[39m\u001b[38;5;241m.\u001b[39m_file\u001b[38;5;241m.\u001b[39mopen(\u001b[38;5;28mself\u001b[39m\u001b[38;5;241m.\u001b[39m_file_path, timeout\u001b[38;5;241m=\u001b[39m\u001b[38;5;28mself\u001b[39m\u001b[38;5;241m.\u001b[39m_xrd_timeout())\n\u001b[1;32m     91\u001b[0m \u001b[38;5;28;01mif\u001b[39;00m status\u001b[38;5;241m.\u001b[39merror:\n\u001b[0;32m---> 92\u001b[0m     \u001b[38;5;28;43mself\u001b[39;49m\u001b[38;5;241;43m.\u001b[39;49m\u001b[43m_xrd_error\u001b[49m\u001b[43m(\u001b[49m\u001b[43mstatus\u001b[49m\u001b[43m)\u001b[49m\n",
      "File \u001b[0;32m/opt/conda/lib/python3.8/site-packages/uproot/source/xrootd.py:118\u001b[0m, in \u001b[0;36mXRootDResource._xrd_error\u001b[0;34m(self, status)\u001b[0m\n\u001b[1;32m    115\u001b[0m             \u001b[38;5;28;01mraise\u001b[39;00m uproot\u001b[38;5;241m.\u001b[39m_util\u001b[38;5;241m.\u001b[39m_file_not_found(\u001b[38;5;28mself\u001b[39m\u001b[38;5;241m.\u001b[39m_file_path, status\u001b[38;5;241m.\u001b[39mmessage)\n\u001b[1;32m    117\u001b[0m         \u001b[38;5;28;01melse\u001b[39;00m:\n\u001b[0;32m--> 118\u001b[0m             \u001b[38;5;28;01mraise\u001b[39;00m \u001b[38;5;167;01mOSError\u001b[39;00m(\n\u001b[1;32m    119\u001b[0m \u001b[38;5;250m                \u001b[39m\u001b[38;5;124;03m\"\"\"XRootD error: {}\u001b[39;00m\n\u001b[1;32m    120\u001b[0m \u001b[38;5;124;03min file {}\"\"\"\u001b[39;00m\u001b[38;5;241m.\u001b[39mformat(\n\u001b[1;32m    121\u001b[0m                     status\u001b[38;5;241m.\u001b[39mmessage, \u001b[38;5;28mself\u001b[39m\u001b[38;5;241m.\u001b[39m_file_path\n\u001b[1;32m    122\u001b[0m                 )\n\u001b[1;32m    123\u001b[0m             )\n",
      "\u001b[0;31mOSError\u001b[0m: XRootD error: [FATAL] Redirect limit has been reached\nin file root://xrootd-cms.infn.it///store/mc/RunIISummer20UL18NanoAODv9/TTTo2L2Nu_TuneCP5_13TeV-powheg-pythia8/NANOAODSIM/106X_upgrade2018_realistic_v16_L1v1-v1/130000/10671CD1-1127-0842-AE7F-AF20DA985C45.root"
     ]
    }
   ],
   "source": [
    "#redirector = \"root://cms-xrd-global.cern.ch//\"\n",
    "redirector = \"root://xrootd-cms.infn.it//\"\n",
    "file_name = \"/store/mc/RunIISummer20UL18NanoAODv9/TTTo2L2Nu_TuneCP5_13TeV-powheg-pythia8/NANOAODSIM/106X_upgrade2018_realistic_v16_L1v1-v1/130000/10671CD1-1127-0842-AE7F-AF20DA985C45.root\"\n",
    "events = NanoEventsFactory.from_root(\n",
    "    redirector+file_name, \n",
    "    schemaclass=NanoAODSchema.v7,\n",
    "    metadata={\"Datasets\":\"TTTo2L2Nu\"},\n",
    "    entry_stop=10000,\n",
    ").events()\n",
    "len(events)"
   ]
  },
  {
   "cell_type": "code",
   "execution_count": null,
   "id": "37a70fb7-f501-45b1-9c99-caa2753a97a2",
   "metadata": {
    "tags": []
   },
   "outputs": [],
   "source": [
    "redirector = \"root://cms-xrd-global.cern.ch//\"\n",
    "file_name = \"/store/mc/RunIIAutumn18NanoAODv7/MonoHTobb_ZpBaryonic_TuneCP2_13TeV_madgraph-pythia8/NANOAODSIM/Nano02Apr2020_rp_102X_upgrade2018_realistic_v21-v1/10000/0EE0D641-EDAE-D547-ABAD-56D54B768C5B.root\"\n",
    "events = NanoEventsFactory.from_root(\n",
    "    redirector+file_name, \n",
    "    schemaclass=NanoAODSchema.v7,\n",
    "    metadata={\"Datasets\":\"MonoHTobb_ZpBaryonic\"},\n",
    ").events()\n",
    "len(events)"
   ]
  },
  {
   "cell_type": "code",
   "execution_count": null,
   "id": "2b3ea4be-9556-4848-8c17-d8f46cae84ec",
   "metadata": {
    "tags": []
   },
   "outputs": [],
   "source": [
    "# redirector = \"root://cmsxrootd.fnal.gov/\"\n",
    "# redirector = \"/hdfs\"\n",
    "# ur.open.defaults[\"xrootd_handler\"] = ur.source.xrootd.MultithreadedXRootDSource\n",
    "# events = ur .open(redirector+\"/store/mc/RunIIAutumn18NanoAODv7/MonoHTobb_ZpBaryonic_TuneCP2_13TeV_madgraph-pythia8/NANOAODSIM/Nano02Apr2020_rp_102X_upgrade2018_realistic_v21-v1/230000/A51A7D23-2E75-B94C-93DB-E28C740F5747.root:Events\")\n",
    "# events.show()"
   ]
  },
  {
   "cell_type": "code",
   "execution_count": null,
   "id": "7adb17ff-c72c-419f-96f1-7b3c9e68bdf1",
   "metadata": {
    "tags": []
   },
   "outputs": [],
   "source": [
    "events.MET.fields"
   ]
  },
  {
   "cell_type": "code",
   "execution_count": null,
   "id": "259f8c65-4e69-43dc-a4f2-91d23e40bc13",
   "metadata": {
    "tags": []
   },
   "outputs": [],
   "source": [
    "events.MET.pt"
   ]
  },
  {
   "cell_type": "code",
   "execution_count": null,
   "id": "57c829b0-f0aa-4d4a-a9af-c4e5a2a65894",
   "metadata": {
    "tags": []
   },
   "outputs": [],
   "source": [
    "events.metadata"
   ]
  },
  {
   "cell_type": "code",
   "execution_count": null,
   "id": "4a68a2f5-6afe-4ec4-9830-9db9adcc8f0c",
   "metadata": {
    "tags": []
   },
   "outputs": [],
   "source": [
    "h  = hist.Hist.new.Reg(100,0,1000).Double()\n",
    "h.fill(events.MET.pt)\n",
    "h.plot()\n",
    "hep.cms.label(\"Preliminary\")"
   ]
  },
  {
   "cell_type": "code",
   "execution_count": null,
   "id": "21067bb0-b469-41cd-a154-75e10dfad76c",
   "metadata": {
    "tags": []
   },
   "outputs": [],
   "source": [
    "events[\"Jet\",\"pt_raw\"] = 3\n",
    "print(events[\"Jet\",\"pt_raw\"])\n",
    "events.Jet.fields"
   ]
  },
  {
   "cell_type": "code",
   "execution_count": null,
   "id": "1afde30d-5a57-4f77-9c47-111c49028bf0",
   "metadata": {
    "tags": []
   },
   "outputs": [],
   "source": [
    "events[\"Jet\", \"pt_raw\"] = (1 - events.Jet.rawFactor) * events.Jet.pt\n",
    "pt_hist = (hist.Hist.new.\n",
    "                      StrCat([\"pt_raw\",\"pt_corrected\"],name=\"Mode\")\n",
    "                      .Reg(200,0,200, name=\"pt\", label=\"pt (GeV)\")\n",
    "                      .Double()\n",
    "                      .fill(Mode=\"pt_raw\", pt = ak.flatten(events.Jet.pt_raw))\n",
    "                      .fill(Mode= \"pt_corrected\", pt = ak.flatten(events.Jet.pt))\n",
    "                     )"
   ]
  },
  {
   "cell_type": "code",
   "execution_count": null,
   "id": "002201c0-548b-4d8e-80c8-b34791725a33",
   "metadata": {},
   "outputs": [],
   "source": [
    "events[\"Jet\", \"mass_raw\"] = (1 - events.Jet.rawFactor) * events.Jet.mass\n",
    "mass_hist = (hist.Hist.new.\n",
    "                      StrCat([\"mass_raw\",\"mass_corrected\"],name=\"Mode\")\n",
    "                      .Reg(100,0,100, name=\"mass\", label=\"mass (GeV)\")\n",
    "                      .Double()\n",
    "                      .fill(Mode=\"mass_raw\", mass = ak.flatten(events.Jet.mass_raw))\n",
    "                      .fill(Mode= \"mass_corrected\", mass = ak.flatten(events.Jet.mass))\n",
    "                     )"
   ]
  },
  {
   "cell_type": "code",
   "execution_count": null,
   "id": "c14dba3d-73f1-4fe1-b112-145bfe9da002",
   "metadata": {
    "tags": []
   },
   "outputs": [],
   "source": [
    "pt_hist.plot()\n",
    "plt.legend(title=\"Jet_pt\")\n",
    "plt.ylabel(\"events/GeV\")\n",
    "hep.cms.label(\"Preliminary\")"
   ]
  },
  {
   "cell_type": "code",
   "execution_count": null,
   "id": "221d103c-9ba0-4244-8bec-0148893c9f01",
   "metadata": {
    "tags": []
   },
   "outputs": [],
   "source": [
    "mass_hist.plot()\n",
    "plt.ylabel(\"events/GeV\")\n",
    "plt.legend(title=\"Jet_mass\")"
   ]
  }
 ],
 "metadata": {
  "kernelspec": {
   "display_name": "Python 3 (ipykernel)",
   "language": "python",
   "name": "python3"
  },
  "language_info": {
   "codemirror_mode": {
    "name": "ipython",
    "version": 3
   },
   "file_extension": ".py",
   "mimetype": "text/x-python",
   "name": "python",
   "nbconvert_exporter": "python",
   "pygments_lexer": "ipython3",
   "version": "3.8.15"
  }
 },
 "nbformat": 4,
 "nbformat_minor": 5
}
