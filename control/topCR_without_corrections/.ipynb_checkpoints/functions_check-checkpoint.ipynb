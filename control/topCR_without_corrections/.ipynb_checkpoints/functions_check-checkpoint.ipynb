{
 "cells": [
  {
   "cell_type": "code",
   "execution_count": 6,
   "id": "9c2efa73-2f73-4014-a768-6bfc78c34ccb",
   "metadata": {},
   "outputs": [],
   "source": [
    "from coffea.nanoevents import NanoAODSchema,NanoEventsFactory\n",
    "from coffea import processor\n",
    "from coffea.analysis_tools import PackedSelection\n",
    "import hist\n",
    "import awkward as ak\n",
    "import numpy as np"
   ]
  },
  {
   "cell_type": "code",
   "execution_count": 7,
   "id": "cf033caa-f202-4223-8dc9-2baac184c23d",
   "metadata": {},
   "outputs": [],
   "source": [
    "events = NanoEventsFactory.from_root(\n",
    "    \"/commonfs/store/data/Run2018B/MET/NANOAOD/UL2018_MiniAODv2_NanoAODv9-v2/250000/7B7A01B5-FE11-5944-B73B-1FF6CB58CB83.root\",\n",
    "    schemaclass=NanoAODSchema.v7,\n",
    "    metadata={\n",
    "        \"dataset\":\"MET_Run2018\"\n",
    "    }\n",
    ").events()"
   ]
  },
  {
   "cell_type": "code",
   "execution_count": 8,
   "id": "27af1fed-9969-4d74-8df1-00fa75176887",
   "metadata": {},
   "outputs": [],
   "source": [
    "eventsMC = NanoEventsFactory.from_root(\n",
    "    \"/commonfs/store/mc/RunIISummer20UL18NanoAODv9/TTToSemiLeptonic_TuneCP5_13TeV-powheg-pythia8/NANOAODSIM/106X_upgrade2018_realistic_v16_L1v1-v1/120000/0520A050-AF68-EF43-AA5B-5AA77C74ED73.root\",\n",
    "    schemaclass=NanoAODSchema.v7,\n",
    "    metadata={\n",
    "        \"dataset\":\"TTToSemiLeptonic\"\n",
    "    }\n",
    ").events()"
   ]
  },
  {
   "cell_type": "code",
   "execution_count": 9,
   "id": "52c5d08e-68ef-4c0c-a72f-069df486d30d",
   "metadata": {},
   "outputs": [],
   "source": [
    "cutflow={}\n",
    "cutflow[\"No cuts\"] = len(events)"
   ]
  },
  {
   "cell_type": "code",
   "execution_count": 75,
   "id": "c36f7c58-d871-44f6-85c5-952720501016",
   "metadata": {},
   "outputs": [],
   "source": [
    "def single_tight_electrons(events, cutflow):\n",
    "    Etagap = ( events.Electron.eta < 1.4442 ) | ( events.Electron.eta > 1.566 )\n",
    "    elePassDXY = (abs(events.Electron.eta) < 1.479) & (abs(events.Electron.dxy) < 0.05) | (abs(events.Electron.eta) > 1.479) & (abs(events.Electron.dxy) < 0.1)\n",
    "    elePassDZ = (abs(events.Electron.eta) < 1.479) & (abs(events.Electron.dz) < 0.1) | (abs(events.Electron.eta) > 1.479) & (abs(events.Electron.dz) < 0.2)\n",
    "    Eta = abs( events.Electron.eta ) < 2.5\n",
    "    Pt = events.Electron.pt > 40.0 \n",
    "    Id = events.Electron.cutBased == 4 #meaning only tight electrons \n",
    "\n",
    "    final_cut = Etagap & elePassDXY & elePassDZ & Eta & Pt & Id\n",
    "    all_tight = events.Electron[final_cut]\n",
    "    print(ak.sum(ak.num(all_tight)))\n",
    "    one_tight_cut = ak.num(all_tight , axis=1) == 1\n",
    "    goodevents = events[one_tight_cut]\n",
    "    ha = events.Electron[final_cut]\n",
    "    singles = ha[ak.num(ha)==1] \n",
    "    cutflow[\"one_tight_electron\"] = len(goodevents)\n",
    "    return goodevents , singles, cutflow"
   ]
  },
  {
   "cell_type": "code",
   "execution_count": 76,
   "id": "7664e8ff-ad2a-4d07-9c27-07599a1891d9",
   "metadata": {},
   "outputs": [
    {
     "data": {
      "text/plain": [
       "1033303"
      ]
     },
     "execution_count": 76,
     "metadata": {},
     "output_type": "execute_result"
    }
   ],
   "source": [
    "ak.sum(ak.num(events.Electron))"
   ]
  },
  {
   "cell_type": "code",
   "execution_count": 77,
   "id": "bc2d2bed-5164-40a6-8913-4f365163bcdd",
   "metadata": {},
   "outputs": [
    {
     "data": {
      "text/plain": [
       "1507201"
      ]
     },
     "execution_count": 77,
     "metadata": {},
     "output_type": "execute_result"
    }
   ],
   "source": [
    "ak.sum(ak.num(eventsMC.Electron))"
   ]
  },
  {
   "cell_type": "code",
   "execution_count": 78,
   "id": "2920c194-668b-4eee-9bb6-af4db518c681",
   "metadata": {},
   "outputs": [
    {
     "name": "stdout",
     "output_type": "stream",
     "text": [
      "8879\n"
     ]
    }
   ],
   "source": [
    "skimmed_events, single_electrons, cutflow = single_tight_electrons(events,cutflow)"
   ]
  },
  {
   "cell_type": "code",
   "execution_count": 59,
   "id": "604b68fa-82b3-4595-a46e-5d7f8677f95d",
   "metadata": {},
   "outputs": [
    {
     "data": {
      "text/plain": [
       "{'No cuts': 2172178, 'one_tight_electron': 8838}"
      ]
     },
     "execution_count": 59,
     "metadata": {},
     "output_type": "execute_result"
    }
   ],
   "source": [
    "cutflow"
   ]
  },
  {
   "cell_type": "code",
   "execution_count": 60,
   "id": "d960b853-0645-4bc1-b6fb-e42348727879",
   "metadata": {},
   "outputs": [
    {
     "data": {
      "text/plain": [
       "<ElectronArray [[Electron], ... [Electron]] type='8838 * var * electron'>"
      ]
     },
     "execution_count": 60,
     "metadata": {},
     "output_type": "execute_result"
    }
   ],
   "source": [
    "single_electrons"
   ]
  },
  {
   "cell_type": "code",
   "execution_count": 61,
   "id": "e43d6f1b-b7bd-4eb4-bd52-8e54efbb42a5",
   "metadata": {},
   "outputs": [
    {
     "data": {
      "text/plain": [
       "<NanoEventsArray [<event 317087:210:251522646>, ... ] type='8838 * event'>"
      ]
     },
     "execution_count": 61,
     "metadata": {},
     "output_type": "execute_result"
    }
   ],
   "source": [
    "skimmed_events"
   ]
  },
  {
   "cell_type": "code",
   "execution_count": 62,
   "id": "49c5ac1f-32cb-46bf-a5ee-b4537411738e",
   "metadata": {},
   "outputs": [
    {
     "data": {
      "text/plain": [
       "'cut-based ID Fall17 V2 (0:fail, 1:veto, 2:loose, 3:medium, 4:tight)'"
      ]
     },
     "execution_count": 62,
     "metadata": {},
     "output_type": "execute_result"
    }
   ],
   "source": [
    "events.Electron.cutBased.__doc__"
   ]
  },
  {
   "cell_type": "code",
   "execution_count": null,
   "id": "d90ad276-78fd-4f6c-8fe2-21a9fb24ba99",
   "metadata": {},
   "outputs": [],
   "source": []
  },
  {
   "cell_type": "code",
   "execution_count": null,
   "id": "5c10b5d3-423d-47bd-a1fb-11ee9190fe00",
   "metadata": {},
   "outputs": [],
   "source": []
  }
 ],
 "metadata": {
  "kernelspec": {
   "display_name": "Python 3 (ipykernel)",
   "language": "python",
   "name": "python3"
  },
  "language_info": {
   "codemirror_mode": {
    "name": "ipython",
    "version": 3
   },
   "file_extension": ".py",
   "mimetype": "text/x-python",
   "name": "python",
   "nbconvert_exporter": "python",
   "pygments_lexer": "ipython3",
   "version": "3.10.8"
  }
 },
 "nbformat": 4,
 "nbformat_minor": 5
}
