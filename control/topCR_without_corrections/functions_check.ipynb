{
 "cells": [
  {
   "cell_type": "code",
   "execution_count": 65,
   "id": "9c2efa73-2f73-4014-a768-6bfc78c34ccb",
   "metadata": {},
   "outputs": [],
   "source": [
    "from coffea.nanoevents import NanoAODSchema,NanoEventsFactory\n",
    "from coffea import processor\n",
    "from coffea.analysis_tools import PackedSelection\n",
    "import hist\n",
    "from snippets import *\n",
    "import awkward as ak\n",
    "import numpy as np"
   ]
  },
  {
   "cell_type": "code",
   "execution_count": 66,
   "id": "cf033caa-f202-4223-8dc9-2baac184c23d",
   "metadata": {},
   "outputs": [],
   "source": [
    "events = NanoEventsFactory.from_root(\n",
    "    \"/commonfs/store/data/Run2018B/MET/NANOAOD/UL2018_MiniAODv2_NanoAODv9-v2/250000/7B7A01B5-FE11-5944-B73B-1FF6CB58CB83.root\",\n",
    "    schemaclass=NanoAODSchema.v7,\n",
    "    metadata={\n",
    "        \"dataset\":\"MET_Run2018\"\n",
    "    }\n",
    ").events()"
   ]
  },
  {
   "cell_type": "code",
   "execution_count": 67,
   "id": "27af1fed-9969-4d74-8df1-00fa75176887",
   "metadata": {},
   "outputs": [],
   "source": [
    "eventsMC = NanoEventsFactory.from_root(\n",
    "    \"/commonfs/store/mc/RunIISummer20UL18NanoAODv9/TTToSemiLeptonic_TuneCP5_13TeV-powheg-pythia8/NANOAODSIM/106X_upgrade2018_realistic_v16_L1v1-v1/120000/0520A050-AF68-EF43-AA5B-5AA77C74ED73.root\",\n",
    "    schemaclass=NanoAODSchema.v7,\n",
    "    metadata={\n",
    "        \"dataset\":\"TTToSemiLeptonic\"\n",
    "    }\n",
    ").events()"
   ]
  },
  {
   "cell_type": "code",
   "execution_count": 68,
   "id": "52c5d08e-68ef-4c0c-a72f-069df486d30d",
   "metadata": {},
   "outputs": [],
   "source": [
    "cutflow={}\n",
    "cutflow[\"No cuts\"] = len(events)"
   ]
  },
  {
   "cell_type": "code",
   "execution_count": 209,
   "id": "c36f7c58-d871-44f6-85c5-952720501016",
   "metadata": {},
   "outputs": [],
   "source": [
    "def single_tight_electrons_jjk(events, cutflow):\n",
    "    # Etagap = ( events.Electron.eta < 1.4442 ) | ( events.Electron.eta > 1.566 )\n",
    "    # elePassDXY = ((abs(events.Electron.eta) < 1.479) & (abs(events.Electron.dxy) < 0.05)) | ((abs(events.Electron.eta) > 1.479) & (abs(events.Electron.dxy) < 0.1))\n",
    "    # elePassDZ = ((abs(events.Electron.eta) < 1.479) & (abs(events.Electron.dz) < 0.1)) | ((abs(events.Electron.eta) > 1.479) & (abs(events.Electron.dz) < 0.2))\n",
    "    Eta = abs( events.Electron.eta ) < 2.5\n",
    "    Pt = events.Electron.pt > 30.0 \n",
    "    Id = events.Electron.cutBased == 4 #meaning only tight electrons \n",
    "\n",
    "    # final_cut = Etagap & elePassDXY & elePassDZ & Eta & Id & Pt\n",
    "    final_cut =  Eta & Id & Pt\n",
    "    all_tight = events.Electron[final_cut]\n",
    "    #print(ak.sum(ak.num(all_tight)))\n",
    "    one_tight_cut = ak.num(all_tight , axis=1) == 1\n",
    "    goodevents = events[one_tight_cut]\n",
    "    ha = events.Electron[final_cut]\n",
    "    singles = ha[ak.num(ha)==1] \n",
    "    cutflow[\"one_tight_electron\"] = len(goodevents)\n",
    "    return goodevents , singles, cutflow"
   ]
  },
  {
   "cell_type": "code",
   "execution_count": 210,
   "id": "7664e8ff-ad2a-4d07-9c27-07599a1891d9",
   "metadata": {},
   "outputs": [
    {
     "data": {
      "text/plain": [
       "1033303"
      ]
     },
     "execution_count": 210,
     "metadata": {},
     "output_type": "execute_result"
    }
   ],
   "source": [
    "ak.sum(ak.num(events.Electron))"
   ]
  },
  {
   "cell_type": "code",
   "execution_count": 211,
   "id": "0d2bd611-de46-4c4b-9c8e-1a08c50b215f",
   "metadata": {},
   "outputs": [
    {
     "data": {
      "text/plain": [
       "892602"
      ]
     },
     "execution_count": 211,
     "metadata": {},
     "output_type": "execute_result"
    }
   ],
   "source": [
    "ak.sum(ak.num(events.Muon))"
   ]
  },
  {
   "cell_type": "code",
   "execution_count": 212,
   "id": "2920c194-668b-4eee-9bb6-af4db518c681",
   "metadata": {},
   "outputs": [],
   "source": [
    "electron_skimmed_events, single_electrons, cutflow = single_tight_electrons_jjk(events,cutflow)\n",
    "muon_skimmed_events, single_muons, cutflow = single_tight_muons(events,cutflow)"
   ]
  },
  {
   "cell_type": "code",
   "execution_count": 213,
   "id": "d960b853-0645-4bc1-b6fb-e42348727879",
   "metadata": {},
   "outputs": [
    {
     "data": {
      "text/plain": [
       "10304"
      ]
     },
     "execution_count": 213,
     "metadata": {},
     "output_type": "execute_result"
    }
   ],
   "source": [
    "ak.sum(ak.num(single_electrons))"
   ]
  },
  {
   "cell_type": "code",
   "execution_count": 214,
   "id": "3b380421-04cb-47ac-8ce4-95699d840a9e",
   "metadata": {},
   "outputs": [
    {
     "data": {
      "text/plain": [
       "42574"
      ]
     },
     "execution_count": 214,
     "metadata": {},
     "output_type": "execute_result"
    }
   ],
   "source": [
    "ak.sum(ak.num(single_muons))"
   ]
  },
  {
   "cell_type": "code",
   "execution_count": 215,
   "id": "c9276980-cabb-4a9d-a721-020aba41eecc",
   "metadata": {},
   "outputs": [
    {
     "data": {
      "text/plain": [
       "0.8259919887970905"
      ]
     },
     "execution_count": 215,
     "metadata": {},
     "output_type": "execute_result"
    }
   ],
   "source": [
    "853500/1033303"
   ]
  },
  {
   "cell_type": "code",
   "execution_count": 216,
   "id": "931ff335-677a-44bd-b137-4a62e87c5514",
   "metadata": {},
   "outputs": [
    {
     "data": {
      "text/plain": [
       "4.769650975462748"
      ]
     },
     "execution_count": 216,
     "metadata": {},
     "output_type": "execute_result"
    }
   ],
   "source": [
    "4257400/892602"
   ]
  },
  {
   "cell_type": "code",
   "execution_count": 217,
   "id": "8fbf981d-639f-4a38-bea5-44a35b53a517",
   "metadata": {},
   "outputs": [
    {
     "data": {
      "text/plain": [
       "'cut-based ID, tight WP'"
      ]
     },
     "execution_count": 217,
     "metadata": {},
     "output_type": "execute_result"
    }
   ],
   "source": [
    "events.Muon.tightId.__doc__"
   ]
  },
  {
   "cell_type": "code",
   "execution_count": 218,
   "id": "4e959aa7-e9b0-4497-b8a2-a6d416b97482",
   "metadata": {},
   "outputs": [
    {
     "data": {
      "text/plain": [
       "['dxy',\n",
       " 'dxyErr',\n",
       " 'dxybs',\n",
       " 'dz',\n",
       " 'dzErr',\n",
       " 'eta',\n",
       " 'ip3d',\n",
       " 'jetPtRelv2',\n",
       " 'jetRelIso',\n",
       " 'mass',\n",
       " 'miniPFRelIso_all',\n",
       " 'miniPFRelIso_chg',\n",
       " 'pfRelIso03_all',\n",
       " 'pfRelIso03_chg',\n",
       " 'pfRelIso04_all',\n",
       " 'phi',\n",
       " 'pt',\n",
       " 'ptErr',\n",
       " 'segmentComp',\n",
       " 'sip3d',\n",
       " 'softMva',\n",
       " 'tkRelIso',\n",
       " 'tunepRelPt',\n",
       " 'mvaLowPt',\n",
       " 'mvaTTH',\n",
       " 'charge',\n",
       " 'jetIdx',\n",
       " 'nStations',\n",
       " 'nTrackerLayers',\n",
       " 'pdgId',\n",
       " 'tightCharge',\n",
       " 'fsrPhotonIdx',\n",
       " 'highPtId',\n",
       " 'highPurity',\n",
       " 'inTimeMuon',\n",
       " 'isGlobal',\n",
       " 'isPFcand',\n",
       " 'isStandalone',\n",
       " 'isTracker',\n",
       " 'jetNDauCharged',\n",
       " 'looseId',\n",
       " 'mediumId',\n",
       " 'mediumPromptId',\n",
       " 'miniIsoId',\n",
       " 'multiIsoId',\n",
       " 'mvaId',\n",
       " 'mvaLowPtId',\n",
       " 'pfIsoId',\n",
       " 'puppiIsoId',\n",
       " 'softId',\n",
       " 'softMvaId',\n",
       " 'tightId',\n",
       " 'tkIsoId',\n",
       " 'triggerIdLoose',\n",
       " 'cleanmask',\n",
       " 'fsrPhotonIdxG',\n",
       " 'jetIdxG']"
      ]
     },
     "execution_count": 218,
     "metadata": {},
     "output_type": "execute_result"
    }
   ],
   "source": [
    "events.Muon.fields"
   ]
  },
  {
   "cell_type": "code",
   "execution_count": 219,
   "id": "ded300e0-c6dd-4dbc-bcf8-f1505b1e928a",
   "metadata": {},
   "outputs": [
    {
     "data": {
      "text/plain": [
       "'cut-based ID Fall17 V2 (0:fail, 1:veto, 2:loose, 3:medium, 4:tight)'"
      ]
     },
     "execution_count": 219,
     "metadata": {},
     "output_type": "execute_result"
    }
   ],
   "source": [
    "events.Electron.cutBased.__doc__"
   ]
  },
  {
   "cell_type": "code",
   "execution_count": null,
   "id": "55d9df92-e6a8-4ef8-91bc-5d927bcd8858",
   "metadata": {},
   "outputs": [],
   "source": []
  }
 ],
 "metadata": {
  "kernelspec": {
   "display_name": "Python 3 (ipykernel)",
   "language": "python",
   "name": "python3"
  },
  "language_info": {
   "codemirror_mode": {
    "name": "ipython",
    "version": 3
   },
   "file_extension": ".py",
   "mimetype": "text/x-python",
   "name": "python",
   "nbconvert_exporter": "python",
   "pygments_lexer": "ipython3",
   "version": "3.10.8"
  }
 },
 "nbformat": 4,
 "nbformat_minor": 5
}
