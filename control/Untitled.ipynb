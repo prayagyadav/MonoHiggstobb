{
 "cells": [
  {
   "cell_type": "code",
   "execution_count": 40,
   "metadata": {},
   "outputs": [],
   "source": [
    "from coffea import processor\n",
    "from coffea.analysis_tools import PackedSelection\n",
    "from coffea.nanoevents import NanoAODSchema, NanoEventsFactory\n",
    "import awkward as ak\n",
    "import hist\n",
    "import numpy as np"
   ]
  },
  {
   "cell_type": "code",
   "execution_count": 41,
   "id": "25bfc8e7",
   "metadata": {},
   "outputs": [],
   "source": [
    "events = NanoEventsFactory.from_root(\n",
    "    \"/home/prayag/Coffea/data/3BF5BC57-5D24-1C4D-B277-7B0BAA5DF3C7.root\",\n",
    "    schemaclass=NanoAODSchema,\n",
    "    metadata={\n",
    "        \"dataset\":\"MET_Run2018\"\n",
    "    }\n",
    ").events()"
   ]
  },
  {
   "cell_type": "code",
   "execution_count": 42,
   "id": "f2049581",
   "metadata": {},
   "outputs": [],
   "source": [
    "from Snip import tight_muons"
   ]
  },
  {
   "cell_type": "code",
   "execution_count": 43,
   "id": "06042402",
   "metadata": {},
   "outputs": [
    {
     "data": {
      "text/plain": [
       "297347"
      ]
     },
     "execution_count": 43,
     "metadata": {},
     "output_type": "execute_result"
    }
   ],
   "source": [
    "cutflow={}\n",
    "len(events)"
   ]
  },
  {
   "cell_type": "code",
   "execution_count": 44,
   "id": "4f619abc",
   "metadata": {},
   "outputs": [
    {
     "data": {
      "text/plain": [
       "<Array [221, 242, 215, 238, ... 270, 232, 286] type='193 * float32[parameters={\"...'>"
      ]
     },
     "execution_count": 44,
     "metadata": {},
     "output_type": "execute_result"
    }
   ],
   "source": [
    "events = events[events.MET.pt > 200]\n",
    "events.MET.pt"
   ]
  },
  {
   "cell_type": "code",
   "execution_count": 45,
   "id": "c0c825d0",
   "metadata": {},
   "outputs": [],
   "source": [
    "events ,single_muons , cutflow = tight_muons(events,cutflow)"
   ]
  },
  {
   "cell_type": "code",
   "execution_count": 46,
   "id": "b1f89558",
   "metadata": {},
   "outputs": [
    {
     "data": {
      "text/plain": [
       "9"
      ]
     },
     "execution_count": 46,
     "metadata": {},
     "output_type": "execute_result"
    }
   ],
   "source": [
    "len(events)"
   ]
  },
  {
   "cell_type": "code",
   "execution_count": 47,
   "id": "1a4b0d86",
   "metadata": {},
   "outputs": [
    {
     "name": "stdout",
     "output_type": "stream",
     "text": [
      "9\n"
     ]
    },
    {
     "data": {
      "text/plain": [
       "<Array [[46.5], [41.2], ... [107], [55]] type='9 * var * float32[parameters={\"__...'>"
      ]
     },
     "execution_count": 47,
     "metadata": {},
     "output_type": "execute_result"
    }
   ],
   "source": [
    "print(len(single_muons))\n",
    "single_muons.pt"
   ]
  },
  {
   "cell_type": "code",
   "execution_count": 48,
   "id": "504888d5",
   "metadata": {},
   "outputs": [],
   "source": [
    "events.Recoil = events.MET.pt - single_muons.pt"
   ]
  },
  {
   "cell_type": "code",
   "execution_count": 49,
   "id": "b9c45f7d",
   "metadata": {},
   "outputs": [
    {
     "data": {
      "text/plain": [
       "<Array [[272], [175], ... [148], [163]] type='9 * var * float32'>"
      ]
     },
     "execution_count": 49,
     "metadata": {},
     "output_type": "execute_result"
    }
   ],
   "source": [
    "events.Recoil"
   ]
  }
 ],
 "metadata": {
  "kernelspec": {
   "display_name": "Python 3",
   "language": "python",
   "name": "python3"
  },
  "language_info": {
   "codemirror_mode": {
    "name": "ipython",
    "version": 3
   },
   "file_extension": ".py",
   "mimetype": "text/x-python",
   "name": "python",
   "nbconvert_exporter": "python",
   "pygments_lexer": "ipython3",
   "version": "3.10.12"
  }
 },
 "nbformat": 4,
 "nbformat_minor": 5
}
