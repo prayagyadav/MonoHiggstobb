{
 "cells": [
  {
   "cell_type": "code",
   "execution_count": 3,
   "metadata": {},
   "outputs": [],
   "source": [
    "from monoHbbtools import Load\n",
    "from coffea import util"
   ]
  },
  {
   "cell_type": "code",
   "execution_count": 4,
   "metadata": {},
   "outputs": [],
   "source": [
    "from monoHbbtools import Utilities"
   ]
  },
  {
   "cell_type": "code",
   "execution_count": 5,
   "metadata": {},
   "outputs": [
    {
     "data": {
      "text/plain": [
       "'2023-10-18 17:10:52'"
      ]
     },
     "execution_count": 5,
     "metadata": {},
     "output_type": "execute_result"
    }
   ],
   "source": [
    "Utilities.get_timestamp()"
   ]
  },
  {
   "cell_type": "code",
   "execution_count": 7,
   "metadata": {},
   "outputs": [
    {
     "data": {
      "text/plain": [
       "{'Z1Jets_Nu_Nu': {'Cutflow': {'Total_Events': 3695915,\n",
       "   'ReducedEvents': 489101,\n",
       "   'ak4bJetsTight': 16890,\n",
       "   'bbDiJets': 214},\n",
       "  'Histograms': {'DiJet': Hist(Regular(100, 0, 500, label='Axis 0'), storage=Double()) # Sum: 212.0 (214.0 with flow)}},\n",
       " 'MET': {'Cutflow': {'Total_Events': 11502275,\n",
       "   'ReducedEvents': 662607,\n",
       "   'ak4bJetsTight': 27196,\n",
       "   'bbDiJets': 4361},\n",
       "  'Histograms': {'DiJet': Hist(Regular(100, 0, 500, label='Axis 0'), storage=Double()) # Sum: 3705.0 (4361.0 with flow)}}}"
      ]
     },
     "execution_count": 7,
     "metadata": {},
     "output_type": "execute_result"
    }
   ],
   "source": [
    "file = util.load(\"Zjetsnunu.coffea\")\n",
    "file"
   ]
  },
  {
   "cell_type": "code",
   "execution_count": 18,
   "metadata": {},
   "outputs": [
    {
     "data": {
      "text/plain": [
       "[Hist(Regular(100, 0, 500, label='Axis 0'), storage=Double()) # Sum: 3705.0 (4361.0 with flow),\n",
       " Hist(Regular(100, 0, 500, label='Axis 0'), storage=Double()) # Sum: 212.0 (214.0 with flow)]"
      ]
     },
     "execution_count": 18,
     "metadata": {},
     "output_type": "execute_result"
    }
   ],
   "source": [
    "Hist_List = [file[\"MET\"][\"Histograms\"][\"DiJet\"], file[\"Z1Jets_Nu_Nu\"][\"Histograms\"][\"DiJet\"] ]\n",
    "Hist_List"
   ]
  },
  {
   "cell_type": "code",
   "execution_count": 19,
   "metadata": {},
   "outputs": [
    {
     "data": {
      "text/plain": [
       "[Hist(Regular(100, 0, 500, label='Axis 0'), storage=Double()) # Sum: 212.0 (214.0 with flow),\n",
       " Hist(Regular(100, 0, 500, label='Axis 0'), storage=Double()) # Sum: 3705.0 (4361.0 with flow)]"
      ]
     },
     "execution_count": 19,
     "metadata": {},
     "output_type": "execute_result"
    }
   ],
   "source": [
    "sorted(Hist_List, key = lambda x :  x.sum())"
   ]
  },
  {
   "cell_type": "code",
   "execution_count": null,
   "metadata": {},
   "outputs": [],
   "source": []
  }
 ],
 "metadata": {
  "kernelspec": {
   "display_name": "Python 3",
   "language": "python",
   "name": "python3"
  },
  "language_info": {
   "codemirror_mode": {
    "name": "ipython",
    "version": 3
   },
   "file_extension": ".py",
   "mimetype": "text/x-python",
   "name": "python",
   "nbconvert_exporter": "python",
   "pygments_lexer": "ipython3",
   "version": "3.10.12"
  }
 },
 "nbformat": 4,
 "nbformat_minor": 2
}
