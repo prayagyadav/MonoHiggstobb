{
 "cells": [
  {
   "cell_type": "code",
   "execution_count": 42,
   "metadata": {},
   "outputs": [],
   "source": [
    "import awkward as ak\n",
    "import hist\n",
    "from coffea.nanoevents import NanoEventsFactory, NanoAODSchema\n",
    "from coffea.analysis_tools import PackedSelection\n",
    "import numpy as np\n",
    "import mplhep as hep\n",
    "import matplotlib.pyplot as plt"
   ]
  },
  {
   "cell_type": "code",
   "execution_count": 43,
   "metadata": {},
   "outputs": [],
   "source": [
    "filename = \"/home/prayag/Coffea/data/3BF5BC57-5D24-1C4D-B277-7B0BAA5DF3C7.root\"\n",
    "events = NanoEventsFactory.from_root(\n",
    "    filename,\n",
    "    schemaclass=NanoAODSchema.v7\n",
    ").events()"
   ]
  },
  {
   "cell_type": "code",
   "execution_count": 44,
   "metadata": {},
   "outputs": [],
   "source": [
    "sel = PackedSelection()\n",
    "sel.add(\"anyloose\", ak.any(events.Electron.cutBased == 2, axis=1 )) \n",
    "sel.add(\"veto\", ak.any(events.Electron.cutBased == 1, axis=1 ))"
   ]
  },
  {
   "cell_type": "code",
   "execution_count": 45,
   "metadata": {},
   "outputs": [],
   "source": [
    "comphist = hist.Hist.new.StrCat([\"anyloose\",\"veto\"], name=\"mode\").Regular(25,0,100, name=\"pt\").Double()"
   ]
  },
  {
   "cell_type": "code",
   "execution_count": 46,
   "metadata": {},
   "outputs": [
    {
     "data": {
      "text/html": [
       "<html>\n",
       "<div style=\"display:flex; align-items:center;\">\n",
       "<div style=\"width:290px;\">\n",
       "<svg xmlns=\"http://www.w3.org/2000/svg\" viewBox=\"-20 -270 290 290\">\n",
       "<text text-anchor=\"middle\" x=\"0\" y=\"13\" style=\"fill:currentColor;\">\n",
       "0\n",
       "</text>\n",
       "<text text-anchor=\"middle\" x=\"250\" y=\"13\" style=\"fill:currentColor;\">\n",
       "2\n",
       "</text>\n",
       "<text text-anchor=\"middle\" x=\"-10\" y=\"0\" style=\"fill:currentColor;\">\n",
       "0\n",
       "</text>\n",
       "<text text-anchor=\"middle\" x=\"-10\" y=\"-250\" style=\"fill:currentColor;\">\n",
       "100\n",
       "</text>\n",
       "<text text-anchor=\"middle\" x=\"125.0\" y=\"13\" style=\"fill:currentColor;\">\n",
       "mode\n",
       "</text>\n",
       "<text text-anchor=\"middle\" x=\"-10\" y=\"-125.0\" transform=\"rotate(-90,-10,-125.0)\" style=\"fill:currentColor;\">\n",
       "pt\n",
       "</text>\n",
       "<rect x=\"0.0\" y=\"-10.0\" width=\"125.0\" height=\"10.0\" opacity=\"0.0\" fill=\"currentColor\" stroke-width=\"0.1\"/>\n",
       "<rect x=\"125.0\" y=\"-10.0\" width=\"125.0\" height=\"10.0\" opacity=\"0.0\" fill=\"currentColor\" stroke-width=\"0.1\"/>\n",
       "<rect x=\"0.0\" y=\"-20.0\" width=\"125.0\" height=\"10.0\" opacity=\"0.4937735849056604\" fill=\"currentColor\" stroke-width=\"0.1\"/>\n",
       "<rect x=\"125.0\" y=\"-20.0\" width=\"125.0\" height=\"10.0\" opacity=\"0.5075471698113208\" fill=\"currentColor\" stroke-width=\"0.1\"/>\n",
       "<rect x=\"0.0\" y=\"-30.0\" width=\"125.0\" height=\"10.0\" opacity=\"0.2918867924528302\" fill=\"currentColor\" stroke-width=\"0.1\"/>\n",
       "<rect x=\"125.0\" y=\"-30.0\" width=\"125.0\" height=\"10.0\" opacity=\"0.2952830188679245\" fill=\"currentColor\" stroke-width=\"0.1\"/>\n",
       "<rect x=\"0.0\" y=\"-40.0\" width=\"125.0\" height=\"10.0\" opacity=\"0.15415094339622643\" fill=\"currentColor\" stroke-width=\"0.1\"/>\n",
       "<rect x=\"125.0\" y=\"-40.0\" width=\"125.0\" height=\"10.0\" opacity=\"0.1641509433962264\" fill=\"currentColor\" stroke-width=\"0.1\"/>\n",
       "<rect x=\"0.0\" y=\"-50.0\" width=\"125.0\" height=\"10.0\" opacity=\"0.11037735849056604\" fill=\"currentColor\" stroke-width=\"0.1\"/>\n",
       "<rect x=\"125.0\" y=\"-50.0\" width=\"125.0\" height=\"10.0\" opacity=\"0.1109433962264151\" fill=\"currentColor\" stroke-width=\"0.1\"/>\n",
       "<rect x=\"0.0\" y=\"-60.0\" width=\"125.0\" height=\"10.0\" opacity=\"0.10962264150943396\" fill=\"currentColor\" stroke-width=\"0.1\"/>\n",
       "<rect x=\"125.0\" y=\"-60.0\" width=\"125.0\" height=\"10.0\" opacity=\"0.09679245283018868\" fill=\"currentColor\" stroke-width=\"0.1\"/>\n",
       "<rect x=\"0.0\" y=\"-70.0\" width=\"125.0\" height=\"10.0\" opacity=\"0.22566037735849037\" fill=\"currentColor\" stroke-width=\"0.1\"/>\n",
       "<rect x=\"125.0\" y=\"-70.0\" width=\"125.0\" height=\"10.0\" opacity=\"0.1745283018867923\" fill=\"currentColor\" stroke-width=\"0.1\"/>\n",
       "<rect x=\"0.0\" y=\"-80.0\" width=\"125.0\" height=\"10.0\" opacity=\"0.9394339622641518\" fill=\"currentColor\" stroke-width=\"0.1\"/>\n",
       "<rect x=\"125.0\" y=\"-80.0\" width=\"125.0\" height=\"10.0\" opacity=\"0.603962264150944\" fill=\"currentColor\" stroke-width=\"0.1\"/>\n",
       "<rect x=\"0.0\" y=\"-90.0\" width=\"125.0\" height=\"10.0\" opacity=\"1.0\" fill=\"currentColor\" stroke-width=\"0.1\"/>\n",
       "<rect x=\"125.0\" y=\"-90.0\" width=\"125.0\" height=\"10.0\" opacity=\"0.5784905660377359\" fill=\"currentColor\" stroke-width=\"0.1\"/>\n",
       "<rect x=\"0.0\" y=\"-100.0\" width=\"125.0\" height=\"10.0\" opacity=\"0.9267924528301886\" fill=\"currentColor\" stroke-width=\"0.1\"/>\n",
       "<rect x=\"125.0\" y=\"-100.0\" width=\"125.0\" height=\"10.0\" opacity=\"0.5169811320754717\" fill=\"currentColor\" stroke-width=\"0.1\"/>\n",
       "<rect x=\"0.0\" y=\"-110.0\" width=\"125.0\" height=\"10.0\" opacity=\"0.6616981132075471\" fill=\"currentColor\" stroke-width=\"0.1\"/>\n",
       "<rect x=\"125.0\" y=\"-110.0\" width=\"125.0\" height=\"10.0\" opacity=\"0.3760377358490566\" fill=\"currentColor\" stroke-width=\"0.1\"/>\n",
       "<rect x=\"0.0\" y=\"-120.0\" width=\"125.0\" height=\"10.0\" opacity=\"0.43132075471698117\" fill=\"currentColor\" stroke-width=\"0.1\"/>\n",
       "<rect x=\"125.0\" y=\"-120.0\" width=\"125.0\" height=\"10.0\" opacity=\"0.24849056603773584\" fill=\"currentColor\" stroke-width=\"0.1\"/>\n",
       "<rect x=\"0.0\" y=\"-130.0\" width=\"125.0\" height=\"10.0\" opacity=\"0.2641509433962264\" fill=\"currentColor\" stroke-width=\"0.1\"/>\n",
       "<rect x=\"125.0\" y=\"-130.0\" width=\"125.0\" height=\"10.0\" opacity=\"0.16433962264150945\" fill=\"currentColor\" stroke-width=\"0.1\"/>\n",
       "<rect x=\"0.0\" y=\"-140.0\" width=\"125.0\" height=\"10.0\" opacity=\"0.18301886792452796\" fill=\"currentColor\" stroke-width=\"0.1\"/>\n",
       "<rect x=\"125.0\" y=\"-140.0\" width=\"125.0\" height=\"10.0\" opacity=\"0.11490566037735829\" fill=\"currentColor\" stroke-width=\"0.1\"/>\n",
       "<rect x=\"0.0\" y=\"-150.0\" width=\"125.0\" height=\"10.0\" opacity=\"0.12547169811320777\" fill=\"currentColor\" stroke-width=\"0.1\"/>\n",
       "<rect x=\"125.0\" y=\"-150.0\" width=\"125.0\" height=\"10.0\" opacity=\"0.0894339622641511\" fill=\"currentColor\" stroke-width=\"0.1\"/>\n",
       "<rect x=\"0.0\" y=\"-160.0\" width=\"125.0\" height=\"10.0\" opacity=\"0.09000000000000001\" fill=\"currentColor\" stroke-width=\"0.1\"/>\n",
       "<rect x=\"125.0\" y=\"-160.0\" width=\"125.0\" height=\"10.0\" opacity=\"0.06358490566037736\" fill=\"currentColor\" stroke-width=\"0.1\"/>\n",
       "<rect x=\"0.0\" y=\"-170.0\" width=\"125.0\" height=\"10.0\" opacity=\"0.06679245283018868\" fill=\"currentColor\" stroke-width=\"0.1\"/>\n",
       "<rect x=\"125.0\" y=\"-170.0\" width=\"125.0\" height=\"10.0\" opacity=\"0.04962264150943396\" fill=\"currentColor\" stroke-width=\"0.1\"/>\n",
       "<rect x=\"0.0\" y=\"-180.0\" width=\"125.0\" height=\"10.0\" opacity=\"0.05018867924528302\" fill=\"currentColor\" stroke-width=\"0.1\"/>\n",
       "<rect x=\"125.0\" y=\"-180.0\" width=\"125.0\" height=\"10.0\" opacity=\"0.03584905660377359\" fill=\"currentColor\" stroke-width=\"0.1\"/>\n",
       "<rect x=\"0.0\" y=\"-190.0\" width=\"125.0\" height=\"10.0\" opacity=\"0.04358490566037736\" fill=\"currentColor\" stroke-width=\"0.1\"/>\n",
       "<rect x=\"125.0\" y=\"-190.0\" width=\"125.0\" height=\"10.0\" opacity=\"0.03226415094339623\" fill=\"currentColor\" stroke-width=\"0.1\"/>\n",
       "<rect x=\"0.0\" y=\"-200.0\" width=\"125.0\" height=\"10.0\" opacity=\"0.02509433962264151\" fill=\"currentColor\" stroke-width=\"0.1\"/>\n",
       "<rect x=\"125.0\" y=\"-200.0\" width=\"125.0\" height=\"10.0\" opacity=\"0.025660377358490565\" fill=\"currentColor\" stroke-width=\"0.1\"/>\n",
       "<rect x=\"0.0\" y=\"-210.0\" width=\"125.0\" height=\"10.0\" opacity=\"0.03226415094339623\" fill=\"currentColor\" stroke-width=\"0.1\"/>\n",
       "<rect x=\"125.0\" y=\"-210.0\" width=\"125.0\" height=\"10.0\" opacity=\"0.022830188679245286\" fill=\"currentColor\" stroke-width=\"0.1\"/>\n",
       "<rect x=\"0.0\" y=\"-220.0\" width=\"125.0\" height=\"10.0\" opacity=\"0.02358490566037736\" fill=\"currentColor\" stroke-width=\"0.1\"/>\n",
       "<rect x=\"125.0\" y=\"-220.0\" width=\"125.0\" height=\"10.0\" opacity=\"0.019056603773584906\" fill=\"currentColor\" stroke-width=\"0.1\"/>\n",
       "<rect x=\"0.0\" y=\"-230.0\" width=\"125.0\" height=\"10.0\" opacity=\"0.017547169811320755\" fill=\"currentColor\" stroke-width=\"0.1\"/>\n",
       "<rect x=\"125.0\" y=\"-230.0\" width=\"125.0\" height=\"10.0\" opacity=\"0.019056603773584906\" fill=\"currentColor\" stroke-width=\"0.1\"/>\n",
       "<rect x=\"0.0\" y=\"-240.0\" width=\"125.0\" height=\"10.0\" opacity=\"0.017169811320754718\" fill=\"currentColor\" stroke-width=\"0.1\"/>\n",
       "<rect x=\"125.0\" y=\"-240.0\" width=\"125.0\" height=\"10.0\" opacity=\"0.017547169811320755\" fill=\"currentColor\" stroke-width=\"0.1\"/>\n",
       "<rect x=\"0.0\" y=\"-250.0\" width=\"125.0\" height=\"10.0\" opacity=\"0.012452830188679246\" fill=\"currentColor\" stroke-width=\"0.1\"/>\n",
       "<rect x=\"125.0\" y=\"-250.0\" width=\"125.0\" height=\"10.0\" opacity=\"0.010377358490566037\" fill=\"currentColor\" stroke-width=\"0.1\"/>\n",
       "</svg>\n",
       "</div>\n",
       "<div style=\"flex=grow:1;\">\n",
       "StrCategory(['anyloose', 'veto'], name='mode')<br/>\n",
       "Regular(25, 0, 100, name='pt')<br/>\n",
       "<hr style=\"margin-top:.2em; margin-bottom:.2em;\"/>\n",
       "Double() Σ=56359.0 <em>(61600.0 with flow)</em>\n",
       "\n",
       "</div>\n",
       "</div>\n",
       "</html>"
      ],
      "text/plain": [
       "Hist(\n",
       "  StrCategory(['anyloose', 'veto'], name='mode'),\n",
       "  Regular(25, 0, 100, name='pt'),\n",
       "  storage=Double()) # Sum: 56359.0 (61600.0 with flow)"
      ]
     },
     "execution_count": 46,
     "metadata": {},
     "output_type": "execute_result"
    }
   ],
   "source": [
    "loose = events[sel.all(\"anyloose\")]\n",
    "veto = events[sel.all(\"veto\")]\n",
    "comphist.fill(mode=\"anyloose\", pt = ak.flatten(loose.Electron.pt ))\n",
    "comphist.fill(mode=\"veto\", pt = ak.flatten(veto.Electron.pt ))"
   ]
  },
  {
   "cell_type": "code",
   "execution_count": 47,
   "metadata": {},
   "outputs": [
    {
     "data": {
      "text/plain": [
       "<matplotlib.legend.Legend at 0x7f098553fc40>"
      ]
     },
     "execution_count": 47,
     "metadata": {},
     "output_type": "execute_result"
    },
    {
     "data": {
      "image/png": "[encoded data removed]",
      "text/plain": [
       "<Figure size 640x480 with 1 Axes>"
      ]
     },
     "metadata": {},
     "output_type": "display_data"
    }
   ],
   "source": [
    "fig, ax = plt.subplots()\n",
    "hep.histplot(\n",
    "    [comphist[\"anyloose\",:],comphist[\"veto\",:]],\n",
    "    label=[\"anyloose\",\"veto\"],\n",
    "    ax=ax\n",
    ")\n",
    "ax.legend()"
   ]
  },
  {
   "cell_type": "code",
   "execution_count": 48,
   "metadata": {},
   "outputs": [
    {
     "name": "stdout",
     "output_type": "stream",
     "text": [
      "Total events:  297347\n",
      "Events which have at least one loose electron (x) =  26860\n",
      "Events where electrons are vetoed out (y) =  18483\n",
      "x+y =  45343\n"
     ]
    }
   ],
   "source": [
    "print(\"Total events: \", len(events))\n",
    "print(\"Events which have at least one loose electron (x) = \", len(loose))\n",
    "print(\"Events where electrons are vetoed out (y) = \", len(veto))\n",
    "print(\"x+y = \", len(loose)+len(veto))"
   ]
  },
  {
   "cell_type": "code",
   "execution_count": 54,
   "metadata": {},
   "outputs": [],
   "source": [
    "from coffea import util\n",
    "from monoHbbtools.Utilities import get_timestamp, normalize\n",
    "from monoHbbtools.Load import crossSections"
   ]
  },
  {
   "cell_type": "code",
   "execution_count": 50,
   "metadata": {},
   "outputs": [],
   "source": [
    "Output = util.load(\"BackgroundDijets.coffea\")"
   ]
  },
  {
   "cell_type": "code",
   "execution_count": 58,
   "metadata": {},
   "outputs": [
    {
     "name": "stdout",
     "output_type": "stream",
     "text": [
      "Ratio:  1.029993980602151 \n",
      "Factor:  35261435.3\n",
      "ratio * factor =  36319066.1063922\n"
     ]
    },
    {
     "data": {
      "text/plain": [
       "<matplotlib.legend.Legend at 0x7f0983f3abc0>"
      ]
     },
     "execution_count": 58,
     "metadata": {},
     "output_type": "execute_result"
    },
    {
     "data": {
      "image/png": "[encoded data removed]",
      "text/plain": [
       "<Figure size 640x480 with 1 Axes>"
      ]
     },
     "metadata": {},
     "output_type": "display_data"
    }
   ],
   "source": [
    "\n",
    "Data_hist = Output[\"MET_Run2018\"][\"Histograms\"][\"DiJet\"]\n",
    "Zjets_hist = Output[\"ZJets_NuNu\"][\"Histograms\"][\"DiJet\"]\n",
    "\n",
    "\n",
    "\n",
    "Integrated_Luminosity = crossSections.lumis[2018] \n",
    "\n",
    "xsec_Z1Jets_ZpT_50To150 = crossSections.crossSections[\"Z1Jets_NuNu_ZpT_50To150_18\"]\n",
    "xsec_Z1Jets_ZpT_150to250 = crossSections.crossSections[\"Z1Jets_NuNu_ZpT_150To250_18\"]\n",
    "xsec_Z1Jets_ZpT_250to400 = crossSections.crossSections[\"Z1Jets_NuNu_ZpT_250To400_18\"]\n",
    "xsec_Z1Jets_ZpT_400toinf =crossSections.crossSections[\"Z1Jets_NuNu_ZpT_400Toinf_18\"]\n",
    "xsec_Z2Jets_ZpT_50To150 = crossSections.crossSections[\"Z2Jets_NuNu_ZpT_50To150_18\"]\n",
    "xsec_Z2Jets_ZpT_150to250 = crossSections.crossSections[\"Z2Jets_NuNu_ZpT_150To250_18\"]\n",
    "xsec_Z2Jets_ZpT_250to400 = crossSections.crossSections[\"Z2Jets_NuNu_ZpT_250To400_18\"]\n",
    "xsec_ZJets_ZpT_400toinf = crossSections.crossSections[\"Z2Jets_NuNu_ZpT_400Toinf_18\"]\n",
    "\n",
    "\n",
    "ratio = (Output[\"ZJets_NuNu\"][\"Cutflow\"][\"Total_Events\"] / Output[\"MET_Run2018\"][\"Cutflow\"][\"Total_Events\"] )\n",
    "factor = Integrated_Luminosity * xsec_Z1Jets_ZpT_50To150\n",
    "print(\"Ratio: \", ratio ,\"\\nFactor: \" , factor)\n",
    "print(\"ratio * factor = \", ratio * factor)\n",
    "Zjets_hist = Zjets_hist * factor * ratio\n",
    "\n",
    "fig, ax = plt.subplots()\n",
    "hep.histplot(\n",
    "    Zjets_hist,\n",
    "    histtype=\"fill\",\n",
    "    color=\"#4E3636\",\n",
    "    #marker=[],\n",
    "    label=\"ZJets_NuNu\",\n",
    "    edgecolor=\"black\",\n",
    "    lw=1,\n",
    "    ax=ax\n",
    "    )\n",
    "hep.histplot(\n",
    "    Data_hist ,\n",
    "    histtype='errorbar',\n",
    "    yerr=0,\n",
    "    xerr=20,\n",
    "    color=\"black\",\n",
    "    marker='o',\n",
    "    markersize=5,\n",
    "    linestyle=\"None\",\n",
    "    label=\"MET_Run2018\",\n",
    "    #edgecolor=\"black\",\n",
    "    lw=0,\n",
    "    ax=ax\n",
    "    )\n",
    "# Measured data\n",
    "# ax.errorbar(\n",
    "#    center,\n",
    "#    hist,\n",
    "#    xerr=xerrs,\n",
    "#    yerr=yerrs,\n",
    "#    linestyle=\"None\",\n",
    "#   color=\"black\",\n",
    "#    marker=\"o\",\n",
    "#    label=\"Data\"\n",
    "# )\n",
    "\n",
    "hep.cms.label(\"Preliminary\", data= False)\n",
    "ax.set_ylabel(\"Events\")\n",
    "ax.set_xlabel(\"Mass (GeV)\")\n",
    "#ax.set_yscale(\"log\")\n",
    "ax.set_title(r\"ak4 $b \\bar{b}$ mass\",pad=40, color=\"#192655\")\n",
    "fig.text(0.01,0.01,\"Generated : \"+get_timestamp(), fontsize = \"10\")\n",
    "fig.text(0.87,0.01,\" Mode: Overlayed\", fontsize = \"10\")\n",
    "fig.legend(loc= (0.57,0.64))"
   ]
  },
  {
   "cell_type": "code",
   "execution_count": 60,
   "metadata": {},
   "outputs": [
    {
     "data": {
      "text/plain": [
       "<Array [302448, 302448, ... 302448, 302448] type='297347 * uint32[parameters={\"_...'>"
      ]
     },
     "execution_count": 60,
     "metadata": {},
     "output_type": "execute_result"
    }
   ],
   "source": [
    "events.run"
   ]
  },
  {
   "cell_type": "code",
   "execution_count": 2,
   "metadata": {},
   "outputs": [
    {
     "name": "stdout",
     "output_type": "stream",
     "text": [
      "{1, 2, 3, 4}\n"
     ]
    }
   ],
   "source": [
    "List = [1,4,4,3,2]\n",
    "Set= set({})\n",
    "for entry in List :\n",
    "    Set.add(entry)\n",
    "print(Set)"
   ]
  }
 ],
 "metadata": {
  "kernelspec": {
   "display_name": "Python 3 (ipykernel)",
   "language": "python",
   "name": "python3"
  },
  "language_info": {
   "codemirror_mode": {
    "name": "ipython",
    "version": 3
   },
   "file_extension": ".py",
   "mimetype": "text/x-python",
   "name": "python",
   "nbconvert_exporter": "python",
   "pygments_lexer": "ipython3",
   "version": "3.10.12"
  }
 },
 "nbformat": 4,
 "nbformat_minor": 4
}
