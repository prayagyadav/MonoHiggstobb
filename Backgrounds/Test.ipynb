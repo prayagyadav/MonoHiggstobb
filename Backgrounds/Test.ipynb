{
 "cells": [
  {
   "cell_type": "code",
   "execution_count": 2,
   "metadata": {},
   "outputs": [],
   "source": [
    "import awkward as ak\n",
    "import hist\n",
    "from coffea.nanoevents import NanoEventsFactory, NanoAODSchema\n",
    "from coffea.analysis_tools import PackedSelection\n",
    "import numpy as np\n",
    "import mplhep as hep\n",
    "import matplotlib.pyplot as plt"
   ]
  },
  {
   "cell_type": "code",
   "execution_count": 3,
   "metadata": {},
   "outputs": [],
   "source": [
    "filename = \"/home/prayag/Coffea/data/3BF5BC57-5D24-1C4D-B277-7B0BAA5DF3C7.root\"\n",
    "events = NanoEventsFactory.from_root(\n",
    "    filename,\n",
    "    schemaclass=NanoAODSchema.v7\n",
    ").events()"
   ]
  },
  {
   "cell_type": "code",
   "execution_count": 4,
   "metadata": {},
   "outputs": [],
   "source": [
    "from monoHbbtools.Utilities import lumicalc"
   ]
  },
  {
   "cell_type": "code",
   "execution_count": 5,
   "metadata": {},
   "outputs": [
    {
     "data": {
      "text/plain": [
       "{316928: CompletedProcess(args='brilcalc -lumi -c web -r 316928', returncode=127, stdout=b'', stderr=b'/bin/bash: line 1: brilcalc: command not found\\n'),\n",
       " 316944: CompletedProcess(args='brilcalc -lumi -c web -r 316944', returncode=127, stdout=b'', stderr=b'/bin/bash: line 1: brilcalc: command not found\\n'),\n",
       " 315420: CompletedProcess(args='brilcalc -lumi -c web -r 315420', returncode=127, stdout=b'', stderr=b'/bin/bash: line 1: brilcalc: command not found\\n'),\n",
       " 316455: CompletedProcess(args='brilcalc -lumi -c web -r 316455', returncode=127, stdout=b'', stderr=b'/bin/bash: line 1: brilcalc: command not found\\n'),\n",
       " 316456: CompletedProcess(args='brilcalc -lumi -c web -r 316456', returncode=127, stdout=b'', stderr=b'/bin/bash: line 1: brilcalc: command not found\\n'),\n",
       " 316457: CompletedProcess(args='brilcalc -lumi -c web -r 316457', returncode=127, stdout=b'', stderr=b'/bin/bash: line 1: brilcalc: command not found\\n'),\n",
       " 316469: CompletedProcess(args='brilcalc -lumi -c web -r 316469', returncode=127, stdout=b'', stderr=b'/bin/bash: line 1: brilcalc: command not found\\n'),\n",
       " 316470: CompletedProcess(args='brilcalc -lumi -c web -r 316470', returncode=127, stdout=b'', stderr=b'/bin/bash: line 1: brilcalc: command not found\\n'),\n",
       " 316985: CompletedProcess(args='brilcalc -lumi -c web -r 316985', returncode=127, stdout=b'', stderr=b'/bin/bash: line 1: brilcalc: command not found\\n'),\n",
       " 316993: CompletedProcess(args='brilcalc -lumi -c web -r 316993', returncode=127, stdout=b'', stderr=b'/bin/bash: line 1: brilcalc: command not found\\n'),\n",
       " 316994: CompletedProcess(args='brilcalc -lumi -c web -r 316994', returncode=127, stdout=b'', stderr=b'/bin/bash: line 1: brilcalc: command not found\\n'),\n",
       " 316995: CompletedProcess(args='brilcalc -lumi -c web -r 316995', returncode=127, stdout=b'', stderr=b'/bin/bash: line 1: brilcalc: command not found\\n'),\n",
       " 315973: CompletedProcess(args='brilcalc -lumi -c web -r 315973', returncode=127, stdout=b'', stderr=b'/bin/bash: line 1: brilcalc: command not found\\n'),\n",
       " 315974: CompletedProcess(args='brilcalc -lumi -c web -r 315974', returncode=127, stdout=b'', stderr=b'/bin/bash: line 1: brilcalc: command not found\\n'),\n",
       " 316505: CompletedProcess(args='brilcalc -lumi -c web -r 316505', returncode=127, stdout=b'', stderr=b'/bin/bash: line 1: brilcalc: command not found\\n'),\n",
       " 315488: CompletedProcess(args='brilcalc -lumi -c web -r 315488', returncode=127, stdout=b'', stderr=b'/bin/bash: line 1: brilcalc: command not found\\n'),\n",
       " 316569: CompletedProcess(args='brilcalc -lumi -c web -r 316569', returncode=127, stdout=b'', stderr=b'/bin/bash: line 1: brilcalc: command not found\\n'),\n",
       " 316059: CompletedProcess(args='brilcalc -lumi -c web -r 316059', returncode=127, stdout=b'', stderr=b'/bin/bash: line 1: brilcalc: command not found\\n'),\n",
       " 316060: CompletedProcess(args='brilcalc -lumi -c web -r 316060', returncode=127, stdout=b'', stderr=b'/bin/bash: line 1: brilcalc: command not found\\n'),\n",
       " 315555: CompletedProcess(args='brilcalc -lumi -c web -r 315555', returncode=127, stdout=b'', stderr=b'/bin/bash: line 1: brilcalc: command not found\\n'),\n",
       " 316590: CompletedProcess(args='brilcalc -lumi -c web -r 316590', returncode=127, stdout=b'', stderr=b'/bin/bash: line 1: brilcalc: command not found\\n'),\n",
       " 316082: CompletedProcess(args='brilcalc -lumi -c web -r 316082', returncode=127, stdout=b'', stderr=b'/bin/bash: line 1: brilcalc: command not found\\n'),\n",
       " 316613: CompletedProcess(args='brilcalc -lumi -c web -r 316613', returncode=127, stdout=b'', stderr=b'/bin/bash: line 1: brilcalc: command not found\\n'),\n",
       " 316615: CompletedProcess(args='brilcalc -lumi -c web -r 316615', returncode=127, stdout=b'', stderr=b'/bin/bash: line 1: brilcalc: command not found\\n'),\n",
       " 316110: CompletedProcess(args='brilcalc -lumi -c web -r 316110', returncode=127, stdout=b'', stderr=b'/bin/bash: line 1: brilcalc: command not found\\n'),\n",
       " 316114: CompletedProcess(args='brilcalc -lumi -c web -r 316114', returncode=127, stdout=b'', stderr=b'/bin/bash: line 1: brilcalc: command not found\\n'),\n",
       " 316664: CompletedProcess(args='brilcalc -lumi -c web -r 316664', returncode=127, stdout=b'', stderr=b'/bin/bash: line 1: brilcalc: command not found\\n'),\n",
       " 316665: CompletedProcess(args='brilcalc -lumi -c web -r 316665', returncode=127, stdout=b'', stderr=b'/bin/bash: line 1: brilcalc: command not found\\n'),\n",
       " 315640: CompletedProcess(args='brilcalc -lumi -c web -r 315640', returncode=127, stdout=b'', stderr=b'/bin/bash: line 1: brilcalc: command not found\\n'),\n",
       " 316153: CompletedProcess(args='brilcalc -lumi -c web -r 316153', returncode=127, stdout=b'', stderr=b'/bin/bash: line 1: brilcalc: command not found\\n'),\n",
       " 316666: CompletedProcess(args='brilcalc -lumi -c web -r 316666', returncode=127, stdout=b'', stderr=b'/bin/bash: line 1: brilcalc: command not found\\n'),\n",
       " 316667: CompletedProcess(args='brilcalc -lumi -c web -r 316667', returncode=127, stdout=b'', stderr=b'/bin/bash: line 1: brilcalc: command not found\\n'),\n",
       " 315645: CompletedProcess(args='brilcalc -lumi -c web -r 315645', returncode=127, stdout=b'', stderr=b'/bin/bash: line 1: brilcalc: command not found\\n'),\n",
       " 315648: CompletedProcess(args='brilcalc -lumi -c web -r 315648', returncode=127, stdout=b'', stderr=b'/bin/bash: line 1: brilcalc: command not found\\n'),\n",
       " 316186: CompletedProcess(args='brilcalc -lumi -c web -r 316186', returncode=127, stdout=b'', stderr=b'/bin/bash: line 1: brilcalc: command not found\\n'),\n",
       " 316187: CompletedProcess(args='brilcalc -lumi -c web -r 316187', returncode=127, stdout=b'', stderr=b'/bin/bash: line 1: brilcalc: command not found\\n'),\n",
       " 316700: CompletedProcess(args='brilcalc -lumi -c web -r 316700', returncode=127, stdout=b'', stderr=b'/bin/bash: line 1: brilcalc: command not found\\n'),\n",
       " 316701: CompletedProcess(args='brilcalc -lumi -c web -r 316701', returncode=127, stdout=b'', stderr=b'/bin/bash: line 1: brilcalc: command not found\\n'),\n",
       " 316702: CompletedProcess(args='brilcalc -lumi -c web -r 316702', returncode=127, stdout=b'', stderr=b'/bin/bash: line 1: brilcalc: command not found\\n'),\n",
       " 316199: CompletedProcess(args='brilcalc -lumi -c web -r 316199', returncode=127, stdout=b'', stderr=b'/bin/bash: line 1: brilcalc: command not found\\n'),\n",
       " 315689: CompletedProcess(args='brilcalc -lumi -c web -r 315689', returncode=127, stdout=b'', stderr=b'/bin/bash: line 1: brilcalc: command not found\\n'),\n",
       " 316201: CompletedProcess(args='brilcalc -lumi -c web -r 316201', returncode=127, stdout=b'', stderr=b'/bin/bash: line 1: brilcalc: command not found\\n'),\n",
       " 316715: CompletedProcess(args='brilcalc -lumi -c web -r 316715', returncode=127, stdout=b'', stderr=b'/bin/bash: line 1: brilcalc: command not found\\n'),\n",
       " 315690: CompletedProcess(args='brilcalc -lumi -c web -r 315690', returncode=127, stdout=b'', stderr=b'/bin/bash: line 1: brilcalc: command not found\\n'),\n",
       " 316202: CompletedProcess(args='brilcalc -lumi -c web -r 316202', returncode=127, stdout=b'', stderr=b'/bin/bash: line 1: brilcalc: command not found\\n'),\n",
       " 316718: CompletedProcess(args='brilcalc -lumi -c web -r 316718', returncode=127, stdout=b'', stderr=b'/bin/bash: line 1: brilcalc: command not found\\n'),\n",
       " 316716: CompletedProcess(args='brilcalc -lumi -c web -r 316716', returncode=127, stdout=b'', stderr=b'/bin/bash: line 1: brilcalc: command not found\\n'),\n",
       " 316721: CompletedProcess(args='brilcalc -lumi -c web -r 316721', returncode=127, stdout=b'', stderr=b'/bin/bash: line 1: brilcalc: command not found\\n'),\n",
       " 316722: CompletedProcess(args='brilcalc -lumi -c web -r 316722', returncode=127, stdout=b'', stderr=b'/bin/bash: line 1: brilcalc: command not found\\n'),\n",
       " 316723: CompletedProcess(args='brilcalc -lumi -c web -r 316723', returncode=127, stdout=b'', stderr=b'/bin/bash: line 1: brilcalc: command not found\\n'),\n",
       " 315702: CompletedProcess(args='brilcalc -lumi -c web -r 315702', returncode=127, stdout=b'', stderr=b'/bin/bash: line 1: brilcalc: command not found\\n'),\n",
       " 315703: CompletedProcess(args='brilcalc -lumi -c web -r 315703', returncode=127, stdout=b'', stderr=b'/bin/bash: line 1: brilcalc: command not found\\n'),\n",
       " 316216: CompletedProcess(args='brilcalc -lumi -c web -r 316216', returncode=127, stdout=b'', stderr=b'/bin/bash: line 1: brilcalc: command not found\\n'),\n",
       " 315704: CompletedProcess(args='brilcalc -lumi -c web -r 315704', returncode=127, stdout=b'', stderr=b'/bin/bash: line 1: brilcalc: command not found\\n'),\n",
       " 316218: CompletedProcess(args='brilcalc -lumi -c web -r 316218', returncode=127, stdout=b'', stderr=b'/bin/bash: line 1: brilcalc: command not found\\n'),\n",
       " 316217: CompletedProcess(args='brilcalc -lumi -c web -r 316217', returncode=127, stdout=b'', stderr=b'/bin/bash: line 1: brilcalc: command not found\\n'),\n",
       " 316219: CompletedProcess(args='brilcalc -lumi -c web -r 316219', returncode=127, stdout=b'', stderr=b'/bin/bash: line 1: brilcalc: command not found\\n'),\n",
       " 315713: CompletedProcess(args='brilcalc -lumi -c web -r 315713', returncode=127, stdout=b'', stderr=b'/bin/bash: line 1: brilcalc: command not found\\n'),\n",
       " 315721: CompletedProcess(args='brilcalc -lumi -c web -r 315721', returncode=127, stdout=b'', stderr=b'/bin/bash: line 1: brilcalc: command not found\\n'),\n",
       " 316240: CompletedProcess(args='brilcalc -lumi -c web -r 316240', returncode=127, stdout=b'', stderr=b'/bin/bash: line 1: brilcalc: command not found\\n'),\n",
       " 316241: CompletedProcess(args='brilcalc -lumi -c web -r 316241', returncode=127, stdout=b'', stderr=b'/bin/bash: line 1: brilcalc: command not found\\n'),\n",
       " 316758: CompletedProcess(args='brilcalc -lumi -c web -r 316758', returncode=127, stdout=b'', stderr=b'/bin/bash: line 1: brilcalc: command not found\\n'),\n",
       " 315741: CompletedProcess(args='brilcalc -lumi -c web -r 315741', returncode=127, stdout=b'', stderr=b'/bin/bash: line 1: brilcalc: command not found\\n'),\n",
       " 316766: CompletedProcess(args='brilcalc -lumi -c web -r 316766', returncode=127, stdout=b'', stderr=b'/bin/bash: line 1: brilcalc: command not found\\n'),\n",
       " 316271: CompletedProcess(args='brilcalc -lumi -c web -r 316271', returncode=127, stdout=b'', stderr=b'/bin/bash: line 1: brilcalc: command not found\\n'),\n",
       " 315764: CompletedProcess(args='brilcalc -lumi -c web -r 315764', returncode=127, stdout=b'', stderr=b'/bin/bash: line 1: brilcalc: command not found\\n'),\n",
       " 315770: CompletedProcess(args='brilcalc -lumi -c web -r 315770', returncode=127, stdout=b'', stderr=b'/bin/bash: line 1: brilcalc: command not found\\n'),\n",
       " 315264: CompletedProcess(args='brilcalc -lumi -c web -r 315264', returncode=127, stdout=b'', stderr=b'/bin/bash: line 1: brilcalc: command not found\\n'),\n",
       " 315267: CompletedProcess(args='brilcalc -lumi -c web -r 315267', returncode=127, stdout=b'', stderr=b'/bin/bash: line 1: brilcalc: command not found\\n'),\n",
       " 315270: CompletedProcess(args='brilcalc -lumi -c web -r 315270', returncode=127, stdout=b'', stderr=b'/bin/bash: line 1: brilcalc: command not found\\n'),\n",
       " 315784: CompletedProcess(args='brilcalc -lumi -c web -r 315784', returncode=127, stdout=b'', stderr=b'/bin/bash: line 1: brilcalc: command not found\\n'),\n",
       " 315785: CompletedProcess(args='brilcalc -lumi -c web -r 315785', returncode=127, stdout=b'', stderr=b'/bin/bash: line 1: brilcalc: command not found\\n'),\n",
       " 315790: CompletedProcess(args='brilcalc -lumi -c web -r 315790', returncode=127, stdout=b'', stderr=b'/bin/bash: line 1: brilcalc: command not found\\n'),\n",
       " 315800: CompletedProcess(args='brilcalc -lumi -c web -r 315800', returncode=127, stdout=b'', stderr=b'/bin/bash: line 1: brilcalc: command not found\\n'),\n",
       " 315322: CompletedProcess(args='brilcalc -lumi -c web -r 315322', returncode=127, stdout=b'', stderr=b'/bin/bash: line 1: brilcalc: command not found\\n'),\n",
       " 316361: CompletedProcess(args='brilcalc -lumi -c web -r 316361', returncode=127, stdout=b'', stderr=b'/bin/bash: line 1: brilcalc: command not found\\n'),\n",
       " 316362: CompletedProcess(args='brilcalc -lumi -c web -r 316362', returncode=127, stdout=b'', stderr=b'/bin/bash: line 1: brilcalc: command not found\\n'),\n",
       " 316363: CompletedProcess(args='brilcalc -lumi -c web -r 316363', returncode=127, stdout=b'', stderr=b'/bin/bash: line 1: brilcalc: command not found\\n'),\n",
       " 316876: CompletedProcess(args='brilcalc -lumi -c web -r 316876', returncode=127, stdout=b'', stderr=b'/bin/bash: line 1: brilcalc: command not found\\n'),\n",
       " 316877: CompletedProcess(args='brilcalc -lumi -c web -r 316877', returncode=127, stdout=b'', stderr=b'/bin/bash: line 1: brilcalc: command not found\\n'),\n",
       " 315339: CompletedProcess(args='brilcalc -lumi -c web -r 315339', returncode=127, stdout=b'', stderr=b'/bin/bash: line 1: brilcalc: command not found\\n'),\n",
       " 316380: CompletedProcess(args='brilcalc -lumi -c web -r 316380', returncode=127, stdout=b'', stderr=b'/bin/bash: line 1: brilcalc: command not found\\n'),\n",
       " 315357: CompletedProcess(args='brilcalc -lumi -c web -r 315357', returncode=127, stdout=b'', stderr=b'/bin/bash: line 1: brilcalc: command not found\\n'),\n",
       " 315361: CompletedProcess(args='brilcalc -lumi -c web -r 315361', returncode=127, stdout=b'', stderr=b'/bin/bash: line 1: brilcalc: command not found\\n'),\n",
       " 315363: CompletedProcess(args='brilcalc -lumi -c web -r 315363', returncode=127, stdout=b'', stderr=b'/bin/bash: line 1: brilcalc: command not found\\n'),\n",
       " 315366: CompletedProcess(args='brilcalc -lumi -c web -r 315366', returncode=127, stdout=b'', stderr=b'/bin/bash: line 1: brilcalc: command not found\\n')}"
      ]
     },
     "execution_count": 5,
     "metadata": {},
     "output_type": "execute_result"
    }
   ],
   "source": [
    "lumicalc.Generate_Luminosity_file(\"Zjetsnunu_MET_Run2018.coffea\")"
   ]
  },
  {
   "cell_type": "code",
   "execution_count": 6,
   "metadata": {},
   "outputs": [],
   "source": [
    "import subprocess"
   ]
  },
  {
   "cell_type": "code",
   "execution_count": 9,
   "metadata": {},
   "outputs": [
    {
     "name": "stdout",
     "output_type": "stream",
     "text": [
      "b'BackgroundDijets.coffea\\nplotter_Zjetsnunu.py\\nprocessor_Zjetsnunu.py\\n__pycache__\\nrunner_Zjetsnunu.py\\nTest.ipynb\\ntest_processor.py\\ntest_runner.py\\nZjetsnunu_MET_Run2018.coffea\\nZjetsnunu_ZJets_NuNu.coffea\\nZnunuCombined.png\\nZnunuCombinedwithMETcut.png\\nZnunuMET_Run2018.png\\nZnunuZJets_NuNu.png\\n'\n"
     ]
    }
   ],
   "source": [
    "output = subprocess.run(\"ls\", shell=True, executable=\"/bin/bash\", capture_output=True)\n",
    "print(output.stdout)"
   ]
  },
  {
   "cell_type": "code",
   "execution_count": 20,
   "metadata": {},
   "outputs": [],
   "source": [
    "out = subprocess.check_output([\"ls\",\"-lhrt\"]).decode(\"ASCII\")\n",
    "out_list = out.split(\"\\n\")\n",
    "with open(\"test.txt\",\"w\") as outfile :    \n",
    "    outfile.writelines([line+\"\\n\" for line in out_list])"
   ]
  }
 ],
 "metadata": {
  "kernelspec": {
   "display_name": "Python 3 (ipykernel)",
   "language": "python",
   "name": "python3"
  },
  "language_info": {
   "codemirror_mode": {
    "name": "ipython",
    "version": 3
   },
   "file_extension": ".py",
   "mimetype": "text/x-python",
   "name": "python",
   "nbconvert_exporter": "python",
   "pygments_lexer": "ipython3",
   "version": "3.10.12"
  }
 },
 "nbformat": 4,
 "nbformat_minor": 4
}
