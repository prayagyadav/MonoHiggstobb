{
 "cells": [
  {
   "cell_type": "code",
   "execution_count": 53,
   "metadata": {},
   "outputs": [],
   "source": [
    "import awkward as ak\n",
    "import hist\n",
    "from coffea.nanoevents import NanoEventsFactory, NanoAODSchema\n",
    "from coffea.analysis_tools import PackedSelection\n",
    "import numpy as np\n",
    "import mplhep as hep\n",
    "import matplotlib.pyplot as plt"
   ]
  },
  {
   "cell_type": "code",
   "execution_count": 54,
   "metadata": {},
   "outputs": [],
   "source": [
    "filename = \"/home/prayag/Coffea/data/3BF5BC57-5D24-1C4D-B277-7B0BAA5DF3C7.root\"\n",
    "events = NanoEventsFactory.from_root(\n",
    "    filename,\n",
    "    schemaclass=NanoAODSchema.v7\n",
    ").events()"
   ]
  },
  {
   "cell_type": "code",
   "execution_count": 55,
   "metadata": {},
   "outputs": [
    {
     "name": "stdout",
     "output_type": "stream",
     "text": [
      "Total events:  297347\n",
      "Number of jets:  [8, 13, 18, 7, 13, 13, 17, 11, 12, 13, 17, ... 8, 10, 15, 17, 7, 24, 9, 16, 15, 19]\n",
      "Third event:  [63.2, 44.9, 23.6, 22.9, 17.7, 16.4, 16, ... 11, 10.3, 9.67, 9.01, 8.59, 8.09, 8.01]\n",
      "Delta-phi of third event:  [-1.72, 2.79, -0.0972, 0.436, 2.39, -1.02, ... 0.664, -2.99, -1.41, -3.05, 2.65]\n",
      "Filtered jets:  [8, 12, 16, 7, 12, 11, 14, 10, 8, 11, 15, ... 8, 10, 14, 13, 6, 19, 8, 15, 13, 18]\n",
      "Filtered Third event:  [63.2, 44.9, 22.9, 17.7, 16.4, 16, 13.4, ... 11, 10.3, 9.67, 9.01, 8.59, 8.09, 8.01]\n"
     ]
    }
   ],
   "source": [
    "print(\"Total events: \", len(events))\n",
    "print(\"Number of jets: \", ak.num(events.Jet))\n",
    "print(\"Third event: \", events.Jet[2][\"pt\"])\n",
    "delta_phi = events.Jet.delta_phi(events.MET)\n",
    "events.Jet = events.Jet[abs(delta_phi) > 0.4]\n",
    "print(\"Delta-phi of third event: \", delta_phi[2])\n",
    "print(\"Filtered jets: \", ak.num(events.Jet))\n",
    "print(\"Filtered Third event: \", events.Jet[2][\"pt\"] )"
   ]
  },
  {
   "cell_type": "code",
   "execution_count": 57,
   "metadata": {},
   "outputs": [
    {
     "name": "stdout",
     "output_type": "stream",
     "text": [
      "297142\n",
      "106536\n"
     ]
    }
   ],
   "source": [
    "Jets = events.Jet[ak.num(events.Jet) > 1]\n",
    "print(len(Jets))\n",
    "ljet_cut = Jets[:,0].pt > 50.0\n",
    "sjets_cut = Jets[:,1].pt > 30.0\n",
    "newJets = Jets[ljet_cut & sjets_cut]\n",
    "print(len(newJets))"
   ]
  },
  {
   "cell_type": "code",
   "execution_count": null,
   "metadata": {},
   "outputs": [
    {
     "name": "stdout",
     "output_type": "stream",
     "text": [
      "[[Jet, Jet, Jet, Jet, Jet, Jet, Jet, Jet, ... Jet, Jet, Jet, Jet, Jet, Jet, Jet]]\n"
     ]
    }
   ],
   "source": [
    "print(events.Jet[ak.num(events.Jet) > 1])"
   ]
  }
 ],
 "metadata": {
  "kernelspec": {
   "display_name": "Python 3 (ipykernel)",
   "language": "python",
   "name": "python3"
  },
  "language_info": {
   "codemirror_mode": {
    "name": "ipython",
    "version": 3
   },
   "file_extension": ".py",
   "mimetype": "text/x-python",
   "name": "python",
   "nbconvert_exporter": "python",
   "pygments_lexer": "ipython3",
   "version": "3.10.12"
  }
 },
 "nbformat": 4,
 "nbformat_minor": 4
}
