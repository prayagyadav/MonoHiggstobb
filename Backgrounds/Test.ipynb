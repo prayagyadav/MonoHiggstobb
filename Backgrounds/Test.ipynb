{
 "cells": [
  {
   "cell_type": "code",
   "execution_count": 1,
   "metadata": {},
   "outputs": [],
   "source": [
    "import awkward as ak\n",
    "import hist\n",
    "from coffea.nanoevents import NanoEventsFactory, NanoAODSchema\n",
    "from coffea.analysis_tools import PackedSelection\n",
    "import numpy as np\n",
    "import mplhep as hep\n",
    "import matplotlib.pyplot as plt"
   ]
  },
  {
   "cell_type": "code",
   "execution_count": 2,
   "metadata": {},
   "outputs": [],
   "source": [
    "filename = \"/home/prayag/Coffea/data/3BF5BC57-5D24-1C4D-B277-7B0BAA5DF3C7.root\"\n",
    "events = NanoEventsFactory.from_root(\n",
    "    filename,\n",
    "    schemaclass=NanoAODSchema.v7\n",
    ").events()"
   ]
  },
  {
   "cell_type": "code",
   "execution_count": 33,
   "metadata": {},
   "outputs": [],
   "source": [
    "from monoHbbtools.Utilities import lumicalc\n",
    "import json"
   ]
  },
  {
   "cell_type": "code",
   "execution_count": 40,
   "metadata": {},
   "outputs": [
    {
     "name": "stdout",
     "output_type": "stream",
     "text": [
      "Number of lines read:  1118\n",
      "Number of blocks:  86\n"
     ]
    }
   ],
   "source": [
    "with open(\"currentRunLumi.txt\",\"r\") as file :\n",
    "    #read all the lines\n",
    "    lines = file.readlines()\n",
    "    nlines = len(lines)\n",
    "    print(\"Number of lines read: \", nlines)\n",
    "\n",
    "    #create blocks\n",
    "    blocks=[]\n",
    "    for line_index in range(len(lines)) :\n",
    "        block = []\n",
    "        line = lines[line_index]\n",
    "        if line.startswith(\"#Data\"):\n",
    "            for i in range(0,12):\n",
    "                block.append(lines[line_index+i])\n",
    "            blocks.append(block)\n",
    "    print(\"Number of blocks: \",len(blocks))\n",
    "    \n",
    "    #create luminosity json lookup\n",
    "    lumi_lookup = {\"Delivered\":{}, \"Recorded\":{}, \"Sum\":{}}\n",
    "    integrated_delivered = 0\n",
    "    integrated_recorded = 0\n",
    "    for block in blocks :\n",
    "        lumiline = block[4]\n",
    "        lumiline = lumiline.strip(\"|\")\n",
    "        lumiline = lumiline.strip(\"|\\n\")\n",
    "        varlist = lumiline.split(\" | \")\n",
    "        run_fill = varlist[0].strip()\n",
    "        delivered  = float(varlist[-2]) #in per microbarn\n",
    "        delivered *= 1e-9 #in per picobarn\n",
    "        recorded = float(varlist[-1]) #in per microbarn\n",
    "        recorded *= 1e-9 #in per picobarn\n",
    "        lumi_lookup[\"Delivered\"][run_fill] = delivered\n",
    "        lumi_lookup[\"Recorded\"][run_fill] = recorded \n",
    "        integrated_delivered += delivered\n",
    "        integrated_recorded += recorded\n",
    "    lumi_lookup[\"Sum\"][\"Delivered\"] = integrated_delivered\n",
    "    lumi_lookup[\"Sum\"][\"Recorded\"] = integrated_recorded\n",
    "\n",
    "    #save the json file\n",
    "    with open(\"lumi_lookup.json\",\"w\") as output :\n",
    "        output.write(json.dumps(lumi_lookup, indent=4))\n",
    "\n"
   ]
  },
  {
   "cell_type": "code",
   "execution_count": 41,
   "metadata": {},
   "outputs": [],
   "source": [
    "from coffea import util"
   ]
  },
  {
   "cell_type": "code",
   "execution_count": 47,
   "metadata": {},
   "outputs": [
    {
     "data": {
      "text/plain": [
       "{'MET_Run2018': {'Cutflow': {'Total_Events': 16571425,\n",
       "   'triggered_events': 16571425,\n",
       "   'filtered_events': 12096435,\n",
       "   'Events_with_good_jets': 295066,\n",
       "   'ak4bJetsTight': 39241,\n",
       "   'ak4bJetsTight_with_MET_cut': 102491,\n",
       "   'bbDiJets': 6263,\n",
       "   'bbDiJets_with_MET_cut': 17398},\n",
       "  'Histograms': {'DiJet': Hist(Regular(50, 0, 1000, label='Axis 0'), storage=Double()) # Sum: 6132.0 (6263.0 with flow),\n",
       "   'DiJetMETcut': Hist(Regular(50, 0, 1000, label='Axis 0'), storage=Double()) # Sum: 17118.0 (17398.0 with flow)},\n",
       "  'RunSet': {315264,\n",
       "   315267,\n",
       "   315270,\n",
       "   315322,\n",
       "   315339,\n",
       "   315357,\n",
       "   315361,\n",
       "   315363,\n",
       "   315366,\n",
       "   315420,\n",
       "   315488,\n",
       "   315555,\n",
       "   315640,\n",
       "   315645,\n",
       "   315648,\n",
       "   315689,\n",
       "   315690,\n",
       "   315702,\n",
       "   315703,\n",
       "   315704,\n",
       "   315713,\n",
       "   315721,\n",
       "   315741,\n",
       "   315764,\n",
       "   315770,\n",
       "   315784,\n",
       "   315785,\n",
       "   315790,\n",
       "   315800,\n",
       "   315973,\n",
       "   315974,\n",
       "   316059,\n",
       "   316060,\n",
       "   316082,\n",
       "   316110,\n",
       "   316114,\n",
       "   316153,\n",
       "   316186,\n",
       "   316187,\n",
       "   316199,\n",
       "   316201,\n",
       "   316202,\n",
       "   316216,\n",
       "   316217,\n",
       "   316218,\n",
       "   316219,\n",
       "   316240,\n",
       "   316241,\n",
       "   316271,\n",
       "   316361,\n",
       "   316362,\n",
       "   316363,\n",
       "   316380,\n",
       "   316455,\n",
       "   316456,\n",
       "   316457,\n",
       "   316469,\n",
       "   316470,\n",
       "   316505,\n",
       "   316569,\n",
       "   316590,\n",
       "   316613,\n",
       "   316615,\n",
       "   316664,\n",
       "   316665,\n",
       "   316666,\n",
       "   316667,\n",
       "   316700,\n",
       "   316701,\n",
       "   316702,\n",
       "   316715,\n",
       "   316716,\n",
       "   316718,\n",
       "   316721,\n",
       "   316722,\n",
       "   316723,\n",
       "   316758,\n",
       "   316766,\n",
       "   316876,\n",
       "   316877,\n",
       "   316928,\n",
       "   316944,\n",
       "   316985,\n",
       "   316993,\n",
       "   316994,\n",
       "   316995}}}"
      ]
     },
     "execution_count": 47,
     "metadata": {},
     "output_type": "execute_result"
    }
   ],
   "source": [
    "util.load(\"Zjetsnunu_MET_Run2018.coffea\")"
   ]
  }
 ],
 "metadata": {
  "kernelspec": {
   "display_name": "Python 3 (ipykernel)",
   "language": "python",
   "name": "python3"
  },
  "language_info": {
   "codemirror_mode": {
    "name": "ipython",
    "version": 3
   },
   "file_extension": ".py",
   "mimetype": "text/x-python",
   "name": "python",
   "nbconvert_exporter": "python",
   "pygments_lexer": "ipython3",
   "version": "3.10.12"
  }
 },
 "nbformat": 4,
 "nbformat_minor": 4
}
