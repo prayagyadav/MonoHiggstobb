{
 "cells": [
  {
   "cell_type": "code",
   "execution_count": 4,
   "metadata": {},
   "outputs": [],
   "source": [
    "from monoHbbtools import Load\n",
    "from coffea import util"
   ]
  },
  {
   "cell_type": "code",
   "execution_count": 5,
   "metadata": {},
   "outputs": [],
   "source": [
    "from monoHbbtools import Utilities"
   ]
  },
  {
   "cell_type": "code",
   "execution_count": 6,
   "metadata": {},
   "outputs": [
    {
     "data": {
      "text/plain": [
       "'2023-10-19 18:52:34'"
      ]
     },
     "execution_count": 6,
     "metadata": {},
     "output_type": "execute_result"
    }
   ],
   "source": [
    "Utilities.get_timestamp()"
   ]
  },
  {
   "cell_type": "code",
   "execution_count": 7,
   "metadata": {},
   "outputs": [
    {
     "data": {
      "text/plain": [
       "{'Z1Jets_Nu_Nu': {'Cutflow': {'Total_Events': 5315107,\n",
       "   'ReducedEvents': 704110,\n",
       "   'ak4bJetsTight': 4,\n",
       "   'bbDiJets': 0},\n",
       "  'Histograms': {'DiJet': Hist(Regular(50, 0, 1000, label='Axis 0'), storage=Double())}},\n",
       " 'MET': {'Cutflow': {'Total_Events': 22985157,\n",
       "   'ReducedEvents': 1366384,\n",
       "   'ak4bJetsTight': 5578,\n",
       "   'bbDiJets': 963},\n",
       "  'Histograms': {'DiJet': Hist(Regular(50, 0, 1000, label='Axis 0'), storage=Double()) # Sum: 950.0 (963.0 with flow)}}}"
      ]
     },
     "execution_count": 7,
     "metadata": {},
     "output_type": "execute_result"
    }
   ],
   "source": [
    "file = util.load(\"Zjetsnunu.coffea\")\n",
    "file"
   ]
  },
  {
   "cell_type": "code",
   "execution_count": 8,
   "metadata": {},
   "outputs": [
    {
     "data": {
      "text/plain": [
       "[Hist(Regular(50, 0, 1000, label='Axis 0'), storage=Double()) # Sum: 950.0 (963.0 with flow),\n",
       " Hist(Regular(50, 0, 1000, label='Axis 0'), storage=Double())]"
      ]
     },
     "execution_count": 8,
     "metadata": {},
     "output_type": "execute_result"
    }
   ],
   "source": [
    "Hist_List = [file[\"MET\"][\"Histograms\"][\"DiJet\"], file[\"Z1Jets_Nu_Nu\"][\"Histograms\"][\"DiJet\"] ]\n",
    "Hist_List"
   ]
  },
  {
   "cell_type": "code",
   "execution_count": 9,
   "metadata": {},
   "outputs": [
    {
     "data": {
      "text/plain": [
       "[Hist(Regular(50, 0, 1000, label='Axis 0'), storage=Double()),\n",
       " Hist(Regular(50, 0, 1000, label='Axis 0'), storage=Double()) # Sum: 950.0 (963.0 with flow)]"
      ]
     },
     "execution_count": 9,
     "metadata": {},
     "output_type": "execute_result"
    }
   ],
   "source": [
    "sorted(Hist_List, key = lambda x :  x.sum())"
   ]
  },
  {
   "cell_type": "code",
   "execution_count": 10,
   "metadata": {},
   "outputs": [],
   "source": [
    "import mplhep as hep\n",
    "from coffea import util\n",
    "import numpy as np\n",
    "import matplotlib.pyplot as plt\n",
    "from monoHbbtools.Utilities import get_timestamp"
   ]
  },
  {
   "cell_type": "code",
   "execution_count": 11,
   "metadata": {},
   "outputs": [
    {
     "name": "stdout",
     "output_type": "stream",
     "text": [
      "[]\n",
      "[100.]\n"
     ]
    }
   ],
   "source": [
    "a = np.array([])\n",
    "print(a)\n",
    "b = np.append(a, 100)\n",
    "print(b)"
   ]
  },
  {
   "cell_type": "code",
   "execution_count": 12,
   "metadata": {},
   "outputs": [],
   "source": [
    "filename = \"Zjetsnunu.coffea\"\n",
    "Output = util.load(filename)\n",
    "\n",
    "def get_plotting_essentials(input_dict) :\n",
    "    #Input is a dictionary\n",
    "\n",
    "    #Sort the dictionary by Dijet integral\n",
    "    #sorted_dict =  sorted(input_dict, key = )\n",
    "\n",
    "    Hist_List = []\n",
    "    Hist_sumlist = []\n",
    "    Color_List = [\"#4E3636\",\"#116D6E\",\"#321E1E\"]\n",
    "    label_List = []\n",
    "    hist_index = []\n",
    "    for key in input_dict.keys() :\n",
    "        Hist_List.append(input_dict[key][\"Histograms\"][\"DiJet\"])\n",
    "        print(Hist_List)\n",
    "        Hist_sumlist.append(input_dict[key][\"Histograms\"][\"DiJet\"].sum())\n",
    "        hist_index.append\n",
    "        label_List.append(key)\n",
    "    nHists = len(Hist_List)\n",
    "    #sorted_histlist = sorted(Hist_List, key = lambda x :  x.sum(), reverse=True) # To sort the histograms in descending order of their integrals\n",
    "    sorted_histlist = sorted(Hist_List, key = Hist_sumlist, reverse=True)\n",
    "    #sorted_labellist = sorted(Hist_List, key = lambda x :  x.sum(), reverse=True) # To sort the histogram labels in descending order of their integrals\n",
    "    sorted_labellist = sorted(label_List, key = Hist_sumlist, reverse=True)\n",
    "    return sorted_histlist , sorted_labellist , Color_List, nHists"
   ]
  },
  {
   "cell_type": "code",
   "execution_count": 24,
   "metadata": {},
   "outputs": [
    {
     "data": {
      "text/plain": [
       "[Hist(Regular(50, 0, 1000, label='Axis 0'), storage=Double()) # Sum: 950.0 (963.0 with flow),\n",
       " Hist(Regular(50, 0, 1000, label='Axis 0'), storage=Double())]"
      ]
     },
     "execution_count": 24,
     "metadata": {},
     "output_type": "execute_result"
    }
   ],
   "source": [
    "Hists = [(key, Output[key][\"Histograms\"][\"DiJet\"] ) for key in Output.keys()]\n",
    "sorted_hists_tuple = sorted(Hists , key = lambda x : x[1].sum() , reverse=True)\n",
    "sorted_hists = [i[1] for i in sorted_hists_tuple]\n",
    "sorted_hists"
   ]
  },
  {
   "cell_type": "code",
   "execution_count": 25,
   "metadata": {},
   "outputs": [],
   "source": [
    "def get_plotting_essentials(Output) :\n",
    "    color_list = [\"#4E3636\",\"#116D6E\",\"#321E1E\"]\n",
    "    hist_tuple = [(key, Output[key][\"Histograms\"][\"DiJet\"] ) for key in Output.keys()]\n",
    "    sorted_hist_tuple = sorted(hist_tuple , key = lambda x : x[1].sum() , reverse=True)\n",
    "    sorted_hists = [i[1] for i in sorted_hist_tuple]\n",
    "    sorted_labels = [i[0] for i in sorted_hist_tuple]\n",
    "    color_list = color_list[:len(sorted_hists)]\n",
    "    return sorted_hists, sorted_labels, color_list "
   ]
  },
  {
   "cell_type": "code",
   "execution_count": 26,
   "metadata": {},
   "outputs": [
    {
     "data": {
      "text/plain": [
       "<matplotlib.legend.Legend at 0x7f3da8b03c40>"
      ]
     },
     "execution_count": 26,
     "metadata": {},
     "output_type": "execute_result"
    },
    {
     "data": {
      "image/png": "[encoded data removed]",
      "text/plain": [
       "<Figure size 640x480 with 1 Axes>"
      ]
     },
     "metadata": {},
     "output_type": "display_data"
    }
   ],
   "source": [
    "Hist_List , label_List , Color_List = get_plotting_essentials(Output)\n",
    "fig, ax = plt.subplots()\n",
    "hep.histplot(\n",
    "    Hist_List,\n",
    "    histtype=\"fill\",\n",
    "    color=Color_List,\n",
    "    label=label_List,\n",
    "    edgecolor=\"black\",\n",
    "    lw=1,\n",
    "    ax=ax\n",
    "    )\n",
    "hep.cms.label(\"Preliminary\", data= False)\n",
    "ax.set_ylabel(\"Events\")\n",
    "ax.set_xlabel(\"Mass (GeV)\")\n",
    "ax.set_title(r\"$b \\bar{b}$ mass\",pad=40, color=\"#192655\")\n",
    "fig.text(0.01,0.01,\"Generated : \"+get_timestamp(), fontsize = \"10\")\n",
    "fig.text(0.87,0.01,\" Mode: Overlayed\", fontsize = \"10\")\n",
    "fig.legend(loc= (0.57,0.64))"
   ]
  },
  {
   "cell_type": "code",
   "execution_count": 31,
   "metadata": {},
   "outputs": [],
   "source": [
    "\n",
    "from coffea import util, processor\n",
    "from monoHbbtools import Load\n",
    "import awkward as ak\n",
    "\n",
    "def getDataset(keymap, files=None):\n",
    "    fileset = Load.Loadfileset(\"../monoHbbtools/Load/newfileset.json\")\n",
    "    fileset_dict = fileset.getraw()\n",
    "    MCmaps = [\"Z1Jets_NuNu\"]\n",
    "\n",
    "    if keymap == \"MET\" :\n",
    "        runnerfileset = Load.buildFileset(fileset_dict[\"Data\"][keymap],\"fnal\")\n",
    "    elif keymap in MCmaps :\n",
    "        runnerfileset = Load.buildFileset(fileset_dict[\"MC\"][keymap],\"fnal\")\n",
    "    \n",
    "    flat_list={}\n",
    "    flat_list[keymap] = []\n",
    "    for key in runnerfileset.keys() :\n",
    "        flat_list[keymap] += runnerfileset[key]\n",
    "    \n",
    "    outputfileset = {keymap : flat_list[keymap][:files]}\n",
    "    if files == None :\n",
    "        print(\"No max files provided.\\nFalling back to full dataset...\")\n",
    "    \n",
    "    return outputfileset\n"
   ]
  },
  {
   "cell_type": "code",
   "execution_count": 32,
   "metadata": {},
   "outputs": [
    {
     "name": "stdout",
     "output_type": "stream",
     "text": [
      "No max files provided.\n",
      "Falling back to full dataset...\n"
     ]
    },
    {
     "data": {
      "text/plain": [
       "{'Z1Jets_NuNu': ['root://cmsxrootd.fnal.gov///store/mc/RunIISummer20UL18NanoAODv9/Z1JetsToNuNu_M-50_LHEFilterPtZ-50To150_MatchEWPDG20_TuneCP5_13TeV-amcatnloFXFX-pythia8/NANOAODSIM/106X_upgrade2018_realistic_v16_L1v1-v2/230000/0F8CC648-9AF6-B044-802A-0EB7C835E0A2.root',\n",
       "  'root://cmsxrootd.fnal.gov///store/mc/RunIISummer20UL18NanoAODv9/Z1JetsToNuNu_M-50_LHEFilterPtZ-50To150_MatchEWPDG20_TuneCP5_13TeV-amcatnloFXFX-pythia8/NANOAODSIM/106X_upgrade2018_realistic_v16_L1v1-v2/230000/28D97AEC-59D5-B740-A770-93FE1BAEE2B4.root',\n",
       "  'root://cmsxrootd.fnal.gov///store/mc/RunIISummer20UL18NanoAODv9/Z1JetsToNuNu_M-50_LHEFilterPtZ-50To150_MatchEWPDG20_TuneCP5_13TeV-amcatnloFXFX-pythia8/NANOAODSIM/106X_upgrade2018_realistic_v16_L1v1-v2/230000/2B925668-38A5-4143-9090-3B46B6662049.root',\n",
       "  'root://cmsxrootd.fnal.gov///store/mc/RunIISummer20UL18NanoAODv9/Z1JetsToNuNu_M-50_LHEFilterPtZ-50To150_MatchEWPDG20_TuneCP5_13TeV-amcatnloFXFX-pythia8/NANOAODSIM/106X_upgrade2018_realistic_v16_L1v1-v2/230000/373220FE-7D93-1949-A25D-7BE33791B87B.root',\n",
       "  'root://cmsxrootd.fnal.gov///store/mc/RunIISummer20UL18NanoAODv9/Z1JetsToNuNu_M-50_LHEFilterPtZ-50To150_MatchEWPDG20_TuneCP5_13TeV-amcatnloFXFX-pythia8/NANOAODSIM/106X_upgrade2018_realistic_v16_L1v1-v2/230000/3FF32798-425D-374E-BF20-A8F4DD33691B.root',\n",
       "  'root://cmsxrootd.fnal.gov///store/mc/RunIISummer20UL18NanoAODv9/Z1JetsToNuNu_M-50_LHEFilterPtZ-50To150_MatchEWPDG20_TuneCP5_13TeV-amcatnloFXFX-pythia8/NANOAODSIM/106X_upgrade2018_realistic_v16_L1v1-v2/230000/442F3DF1-29F1-EC4D-9F80-D74D75BFD65D.root',\n",
       "  'root://cmsxrootd.fnal.gov///store/mc/RunIISummer20UL18NanoAODv9/Z1JetsToNuNu_M-50_LHEFilterPtZ-50To150_MatchEWPDG20_TuneCP5_13TeV-amcatnloFXFX-pythia8/NANOAODSIM/106X_upgrade2018_realistic_v16_L1v1-v2/230000/450CC5AC-2585-D14A-A8E6-AF3C9BD6860B.root',\n",
       "  'root://cmsxrootd.fnal.gov///store/mc/RunIISummer20UL18NanoAODv9/Z1JetsToNuNu_M-50_LHEFilterPtZ-50To150_MatchEWPDG20_TuneCP5_13TeV-amcatnloFXFX-pythia8/NANOAODSIM/106X_upgrade2018_realistic_v16_L1v1-v2/230000/500E543C-BE5D-3A40-80BE-569B4F688DAE.root',\n",
       "  'root://cmsxrootd.fnal.gov///store/mc/RunIISummer20UL18NanoAODv9/Z1JetsToNuNu_M-50_LHEFilterPtZ-50To150_MatchEWPDG20_TuneCP5_13TeV-amcatnloFXFX-pythia8/NANOAODSIM/106X_upgrade2018_realistic_v16_L1v1-v2/230000/57D78002-BD4B-7E41-9774-D067D38DF575.root',\n",
       "  'root://cmsxrootd.fnal.gov///store/mc/RunIISummer20UL18NanoAODv9/Z1JetsToNuNu_M-50_LHEFilterPtZ-50To150_MatchEWPDG20_TuneCP5_13TeV-amcatnloFXFX-pythia8/NANOAODSIM/106X_upgrade2018_realistic_v16_L1v1-v2/230000/5E14B521-0512-904E-AF7B-AEFE77120693.root',\n",
       "  'root://cmsxrootd.fnal.gov///store/mc/RunIISummer20UL18NanoAODv9/Z1JetsToNuNu_M-50_LHEFilterPtZ-50To150_MatchEWPDG20_TuneCP5_13TeV-amcatnloFXFX-pythia8/NANOAODSIM/106X_upgrade2018_realistic_v16_L1v1-v2/230000/75F8D48B-C50E-9548-8CE8-58670E7B2942.root',\n",
       "  'root://cmsxrootd.fnal.gov///store/mc/RunIISummer20UL18NanoAODv9/Z1JetsToNuNu_M-50_LHEFilterPtZ-50To150_MatchEWPDG20_TuneCP5_13TeV-amcatnloFXFX-pythia8/NANOAODSIM/106X_upgrade2018_realistic_v16_L1v1-v2/230000/774CABA9-A167-D141-A5AC-7DA19E0269F0.root',\n",
       "  'root://cmsxrootd.fnal.gov///store/mc/RunIISummer20UL18NanoAODv9/Z1JetsToNuNu_M-50_LHEFilterPtZ-50To150_MatchEWPDG20_TuneCP5_13TeV-amcatnloFXFX-pythia8/NANOAODSIM/106X_upgrade2018_realistic_v16_L1v1-v2/230000/8114C171-0DEB-4740-B274-292523B1C3E4.root',\n",
       "  'root://cmsxrootd.fnal.gov///store/mc/RunIISummer20UL18NanoAODv9/Z1JetsToNuNu_M-50_LHEFilterPtZ-50To150_MatchEWPDG20_TuneCP5_13TeV-amcatnloFXFX-pythia8/NANOAODSIM/106X_upgrade2018_realistic_v16_L1v1-v2/230000/86E82BB1-558E-0841-98FC-7756570670C8.root',\n",
       "  'root://cmsxrootd.fnal.gov///store/mc/RunIISummer20UL18NanoAODv9/Z1JetsToNuNu_M-50_LHEFilterPtZ-50To150_MatchEWPDG20_TuneCP5_13TeV-amcatnloFXFX-pythia8/NANOAODSIM/106X_upgrade2018_realistic_v16_L1v1-v2/230000/ACB4CFBF-F722-E145-9C05-855F786A88E0.root',\n",
       "  'root://cmsxrootd.fnal.gov///store/mc/RunIISummer20UL18NanoAODv9/Z1JetsToNuNu_M-50_LHEFilterPtZ-50To150_MatchEWPDG20_TuneCP5_13TeV-amcatnloFXFX-pythia8/NANOAODSIM/106X_upgrade2018_realistic_v16_L1v1-v2/230000/ACC49384-CFF1-0540-815D-22DB364CA7AE.root',\n",
       "  'root://cmsxrootd.fnal.gov///store/mc/RunIISummer20UL18NanoAODv9/Z1JetsToNuNu_M-50_LHEFilterPtZ-50To150_MatchEWPDG20_TuneCP5_13TeV-amcatnloFXFX-pythia8/NANOAODSIM/106X_upgrade2018_realistic_v16_L1v1-v2/230000/AFCA3463-0875-3240-B97A-310210E2A34C.root',\n",
       "  'root://cmsxrootd.fnal.gov///store/mc/RunIISummer20UL18NanoAODv9/Z1JetsToNuNu_M-50_LHEFilterPtZ-50To150_MatchEWPDG20_TuneCP5_13TeV-amcatnloFXFX-pythia8/NANOAODSIM/106X_upgrade2018_realistic_v16_L1v1-v2/230000/B15B3B29-9AC7-7747-AFBF-B7E867A27687.root',\n",
       "  'root://cmsxrootd.fnal.gov///store/mc/RunIISummer20UL18NanoAODv9/Z1JetsToNuNu_M-50_LHEFilterPtZ-50To150_MatchEWPDG20_TuneCP5_13TeV-amcatnloFXFX-pythia8/NANOAODSIM/106X_upgrade2018_realistic_v16_L1v1-v2/230000/F2BEB2CA-CDD0-9546-BA3E-5BEA709CF2F2.root',\n",
       "  'root://cmsxrootd.fnal.gov///store/mc/RunIISummer20UL18NanoAODv9/Z1JetsToNuNu_M-50_LHEFilterPtZ-50To150_MatchEWPDG20_TuneCP5_13TeV-amcatnloFXFX-pythia8/NANOAODSIM/106X_upgrade2018_realistic_v16_L1v1-v2/250000/00CDF22E-EE1E-BC4E-9E95-44A9E13FA390.root',\n",
       "  'root://cmsxrootd.fnal.gov///store/mc/RunIISummer20UL18NanoAODv9/Z1JetsToNuNu_M-50_LHEFilterPtZ-50To150_MatchEWPDG20_TuneCP5_13TeV-amcatnloFXFX-pythia8/NANOAODSIM/106X_upgrade2018_realistic_v16_L1v1-v2/250000/11A4DA34-78B3-1D4C-B6D3-E511B2AA1F3F.root',\n",
       "  'root://cmsxrootd.fnal.gov///store/mc/RunIISummer20UL18NanoAODv9/Z1JetsToNuNu_M-50_LHEFilterPtZ-50To150_MatchEWPDG20_TuneCP5_13TeV-amcatnloFXFX-pythia8/NANOAODSIM/106X_upgrade2018_realistic_v16_L1v1-v2/250000/27FF2BF9-3662-CE41-AC55-91AA8146C5EC.root',\n",
       "  'root://cmsxrootd.fnal.gov///store/mc/RunIISummer20UL18NanoAODv9/Z1JetsToNuNu_M-50_LHEFilterPtZ-50To150_MatchEWPDG20_TuneCP5_13TeV-amcatnloFXFX-pythia8/NANOAODSIM/106X_upgrade2018_realistic_v16_L1v1-v2/250000/3F9DC829-2FEA-6146-AE46-CB1EB5B5ABBB.root',\n",
       "  'root://cmsxrootd.fnal.gov///store/mc/RunIISummer20UL18NanoAODv9/Z1JetsToNuNu_M-50_LHEFilterPtZ-50To150_MatchEWPDG20_TuneCP5_13TeV-amcatnloFXFX-pythia8/NANOAODSIM/106X_upgrade2018_realistic_v16_L1v1-v2/250000/4912817E-B08C-D142-AA9C-B42E9161CBCE.root',\n",
       "  'root://cmsxrootd.fnal.gov///store/mc/RunIISummer20UL18NanoAODv9/Z1JetsToNuNu_M-50_LHEFilterPtZ-50To150_MatchEWPDG20_TuneCP5_13TeV-amcatnloFXFX-pythia8/NANOAODSIM/106X_upgrade2018_realistic_v16_L1v1-v2/250000/69DB652F-7374-144E-8926-3447ED2C180E.root',\n",
       "  'root://cmsxrootd.fnal.gov///store/mc/RunIISummer20UL18NanoAODv9/Z1JetsToNuNu_M-50_LHEFilterPtZ-50To150_MatchEWPDG20_TuneCP5_13TeV-amcatnloFXFX-pythia8/NANOAODSIM/106X_upgrade2018_realistic_v16_L1v1-v2/250000/6B82B0A6-0A12-5247-A2B9-DA00953E7D5F.root',\n",
       "  'root://cmsxrootd.fnal.gov///store/mc/RunIISummer20UL18NanoAODv9/Z1JetsToNuNu_M-50_LHEFilterPtZ-50To150_MatchEWPDG20_TuneCP5_13TeV-amcatnloFXFX-pythia8/NANOAODSIM/106X_upgrade2018_realistic_v16_L1v1-v2/250000/7B2C65F6-0296-6548-9BA0-3345B227E9C3.root',\n",
       "  'root://cmsxrootd.fnal.gov///store/mc/RunIISummer20UL18NanoAODv9/Z1JetsToNuNu_M-50_LHEFilterPtZ-50To150_MatchEWPDG20_TuneCP5_13TeV-amcatnloFXFX-pythia8/NANOAODSIM/106X_upgrade2018_realistic_v16_L1v1-v2/250000/C34C0DB9-A7EA-1945-A581-A0260AA38124.root',\n",
       "  'root://cmsxrootd.fnal.gov///store/mc/RunIISummer20UL18NanoAODv9/Z1JetsToNuNu_M-50_LHEFilterPtZ-50To150_MatchEWPDG20_TuneCP5_13TeV-amcatnloFXFX-pythia8/NANOAODSIM/106X_upgrade2018_realistic_v16_L1v1-v2/250000/D026FD8D-9446-5845-BCAF-E77EC3DEE5C0.root',\n",
       "  'root://cmsxrootd.fnal.gov///store/mc/RunIISummer20UL18NanoAODv9/Z1JetsToNuNu_M-50_LHEFilterPtZ-50To150_MatchEWPDG20_TuneCP5_13TeV-amcatnloFXFX-pythia8/NANOAODSIM/106X_upgrade2018_realistic_v16_L1v1-v2/250000/DA550CC2-C77C-CF47-B6EC-30E803943EAD.root',\n",
       "  'root://cmsxrootd.fnal.gov///store/mc/RunIISummer20UL18NanoAODv9/Z1JetsToNuNu_M-50_LHEFilterPtZ-50To150_MatchEWPDG20_TuneCP5_13TeV-amcatnloFXFX-pythia8/NANOAODSIM/106X_upgrade2018_realistic_v16_L1v1-v2/250000/DF53B96D-5619-C14E-80F6-02152DD7D039.root',\n",
       "  'root://cmsxrootd.fnal.gov///store/mc/RunIISummer20UL18NanoAODv9/Z1JetsToNuNu_M-50_LHEFilterPtZ-50To150_MatchEWPDG20_TuneCP5_13TeV-amcatnloFXFX-pythia8/NANOAODSIM/106X_upgrade2018_realistic_v16_L1v1-v2/250000/F23108B5-5B42-DB4F-B952-4B8F058210DE.root',\n",
       "  'root://cmsxrootd.fnal.gov///store/mc/RunIISummer20UL18NanoAODv9/Z1JetsToNuNu_M-50_LHEFilterPtZ-50To150_MatchEWPDG20_TuneCP5_13TeV-amcatnloFXFX-pythia8/NANOAODSIM/106X_upgrade2018_realistic_v16_L1v1-v2/250000/FCE3EB49-9BDE-8947-AD32-9962F69140C7.root',\n",
       "  'root://cmsxrootd.fnal.gov///store/mc/RunIISummer20UL18NanoAODv9/Z1JetsToNuNu_M-50_LHEFilterPtZ-50To150_MatchEWPDG20_TuneCP5_13TeV-amcatnloFXFX-pythia8/NANOAODSIM/106X_upgrade2018_realistic_v16_L1v1-v2/40000/0ED61A90-34E1-CF4D-9585-954D695638C6.root',\n",
       "  'root://cmsxrootd.fnal.gov///store/mc/RunIISummer20UL18NanoAODv9/Z1JetsToNuNu_M-50_LHEFilterPtZ-50To150_MatchEWPDG20_TuneCP5_13TeV-amcatnloFXFX-pythia8/NANOAODSIM/106X_upgrade2018_realistic_v16_L1v1-v2/40000/25B3880A-633E-9342-BE9E-CD9396CC1975.root',\n",
       "  'root://cmsxrootd.fnal.gov///store/mc/RunIISummer20UL18NanoAODv9/Z1JetsToNuNu_M-50_LHEFilterPtZ-50To150_MatchEWPDG20_TuneCP5_13TeV-amcatnloFXFX-pythia8/NANOAODSIM/106X_upgrade2018_realistic_v16_L1v1-v2/40000/2807A287-65DD-5C41-B3B6-EE347F939DF9.root',\n",
       "  'root://cmsxrootd.fnal.gov///store/mc/RunIISummer20UL18NanoAODv9/Z1JetsToNuNu_M-50_LHEFilterPtZ-50To150_MatchEWPDG20_TuneCP5_13TeV-amcatnloFXFX-pythia8/NANOAODSIM/106X_upgrade2018_realistic_v16_L1v1-v2/40000/364B0769-5F61-804D-AC6C-C08DB8852DDD.root',\n",
       "  'root://cmsxrootd.fnal.gov///store/mc/RunIISummer20UL18NanoAODv9/Z1JetsToNuNu_M-50_LHEFilterPtZ-50To150_MatchEWPDG20_TuneCP5_13TeV-amcatnloFXFX-pythia8/NANOAODSIM/106X_upgrade2018_realistic_v16_L1v1-v2/40000/3C0AEE74-B3B0-3E4E-B2A1-FA05879421E5.root',\n",
       "  'root://cmsxrootd.fnal.gov///store/mc/RunIISummer20UL18NanoAODv9/Z1JetsToNuNu_M-50_LHEFilterPtZ-50To150_MatchEWPDG20_TuneCP5_13TeV-amcatnloFXFX-pythia8/NANOAODSIM/106X_upgrade2018_realistic_v16_L1v1-v2/40000/4A57C0EE-F2F9-654F-8887-E09B32E4CCBE.root',\n",
       "  'root://cmsxrootd.fnal.gov///store/mc/RunIISummer20UL18NanoAODv9/Z1JetsToNuNu_M-50_LHEFilterPtZ-50To150_MatchEWPDG20_TuneCP5_13TeV-amcatnloFXFX-pythia8/NANOAODSIM/106X_upgrade2018_realistic_v16_L1v1-v2/40000/6317F96B-8FB1-274A-9CCE-EA16216942F0.root',\n",
       "  'root://cmsxrootd.fnal.gov///store/mc/RunIISummer20UL18NanoAODv9/Z1JetsToNuNu_M-50_LHEFilterPtZ-50To150_MatchEWPDG20_TuneCP5_13TeV-amcatnloFXFX-pythia8/NANOAODSIM/106X_upgrade2018_realistic_v16_L1v1-v2/40000/821FC280-518E-824B-9995-887D70648CE5.root',\n",
       "  'root://cmsxrootd.fnal.gov///store/mc/RunIISummer20UL18NanoAODv9/Z1JetsToNuNu_M-50_LHEFilterPtZ-50To150_MatchEWPDG20_TuneCP5_13TeV-amcatnloFXFX-pythia8/NANOAODSIM/106X_upgrade2018_realistic_v16_L1v1-v2/40000/997B64B3-CCD0-5F4D-8ADA-6F239F43E366.root',\n",
       "  'root://cmsxrootd.fnal.gov///store/mc/RunIISummer20UL18NanoAODv9/Z1JetsToNuNu_M-50_LHEFilterPtZ-50To150_MatchEWPDG20_TuneCP5_13TeV-amcatnloFXFX-pythia8/NANOAODSIM/106X_upgrade2018_realistic_v16_L1v1-v2/40000/A6A72931-E4D7-9145-AE32-477274D49E75.root',\n",
       "  'root://cmsxrootd.fnal.gov///store/mc/RunIISummer20UL18NanoAODv9/Z1JetsToNuNu_M-50_LHEFilterPtZ-50To150_MatchEWPDG20_TuneCP5_13TeV-amcatnloFXFX-pythia8/NANOAODSIM/106X_upgrade2018_realistic_v16_L1v1-v2/40000/BFB048C4-29C4-F348-96E7-D1803AD54F69.root',\n",
       "  'root://cmsxrootd.fnal.gov///store/mc/RunIISummer20UL18NanoAODv9/Z1JetsToNuNu_M-50_LHEFilterPtZ-50To150_MatchEWPDG20_TuneCP5_13TeV-amcatnloFXFX-pythia8/NANOAODSIM/106X_upgrade2018_realistic_v16_L1v1-v2/40000/C353D3C0-11CF-9F4B-ADA7-EA15F8FC8FEE.root',\n",
       "  'root://cmsxrootd.fnal.gov///store/mc/RunIISummer20UL18NanoAODv9/Z1JetsToNuNu_M-50_LHEFilterPtZ-50To150_MatchEWPDG20_TuneCP5_13TeV-amcatnloFXFX-pythia8/NANOAODSIM/106X_upgrade2018_realistic_v16_L1v1-v2/40000/C381E5BC-2440-D440-82EA-EADC78837CA4.root',\n",
       "  'root://cmsxrootd.fnal.gov///store/mc/RunIISummer20UL18NanoAODv9/Z1JetsToNuNu_M-50_LHEFilterPtZ-50To150_MatchEWPDG20_TuneCP5_13TeV-amcatnloFXFX-pythia8/NANOAODSIM/106X_upgrade2018_realistic_v16_L1v1-v2/40000/C6A78F36-AD72-5D4D-8378-26268B55E60D.root',\n",
       "  'root://cmsxrootd.fnal.gov///store/mc/RunIISummer20UL18NanoAODv9/Z1JetsToNuNu_M-50_LHEFilterPtZ-50To150_MatchEWPDG20_TuneCP5_13TeV-amcatnloFXFX-pythia8/NANOAODSIM/106X_upgrade2018_realistic_v16_L1v1-v2/40000/DD8D3508-F6EA-164F-9D8E-0DF17D30A1C5.root',\n",
       "  'root://cmsxrootd.fnal.gov///store/mc/RunIISummer20UL18NanoAODv9/Z1JetsToNuNu_M-50_LHEFilterPtZ-50To150_MatchEWPDG20_TuneCP5_13TeV-amcatnloFXFX-pythia8/NANOAODSIM/106X_upgrade2018_realistic_v16_L1v1-v2/40000/E240371D-3D70-D747-8457-4347FF08B7A3.root',\n",
       "  'root://cmsxrootd.fnal.gov///store/mc/RunIISummer20UL18NanoAODv9/Z1JetsToNuNu_M-50_LHEFilterPtZ-50To150_MatchEWPDG20_TuneCP5_13TeV-amcatnloFXFX-pythia8/NANOAODSIM/106X_upgrade2018_realistic_v16_L1v1-v2/40000/F93597BD-BF17-9540-837B-D8F71C22EF65.root',\n",
       "  'root://cmsxrootd.fnal.gov///store/mc/RunIISummer20UL18NanoAODv9/Z1JetsToNuNu_M-50_LHEFilterPtZ-50To150_MatchEWPDG20_TuneCP5_13TeV-amcatnloFXFX-pythia8/NANOAODSIM/106X_upgrade2018_realistic_v16_L1v1-v2/40000/FD041BF8-D1BC-5943-91E8-14682BADD4B2.root',\n",
       "  'root://cmsxrootd.fnal.gov///store/mc/RunIISummer20UL18NanoAODv9/Z1JetsToNuNu_M-50_LHEFilterPtZ-150To250_MatchEWPDG20_TuneCP5_13TeV-amcatnloFXFX-pythia8/NANOAODSIM/106X_upgrade2018_realistic_v16_L1v1-v2/100000/172EBACB-6262-9F4B-A0F4-2FAAFDE0C5E4.root',\n",
       "  'root://cmsxrootd.fnal.gov///store/mc/RunIISummer20UL18NanoAODv9/Z1JetsToNuNu_M-50_LHEFilterPtZ-150To250_MatchEWPDG20_TuneCP5_13TeV-amcatnloFXFX-pythia8/NANOAODSIM/106X_upgrade2018_realistic_v16_L1v1-v2/100000/330D8B69-4B47-1E4B-A887-693EBC256F72.root',\n",
       "  'root://cmsxrootd.fnal.gov///store/mc/RunIISummer20UL18NanoAODv9/Z1JetsToNuNu_M-50_LHEFilterPtZ-150To250_MatchEWPDG20_TuneCP5_13TeV-amcatnloFXFX-pythia8/NANOAODSIM/106X_upgrade2018_realistic_v16_L1v1-v2/230000/052AD5E6-E633-A542-B34D-83889E4AB789.root',\n",
       "  'root://cmsxrootd.fnal.gov///store/mc/RunIISummer20UL18NanoAODv9/Z1JetsToNuNu_M-50_LHEFilterPtZ-150To250_MatchEWPDG20_TuneCP5_13TeV-amcatnloFXFX-pythia8/NANOAODSIM/106X_upgrade2018_realistic_v16_L1v1-v2/230000/1BF2E489-37E5-754D-A274-01940D7E7CE8.root',\n",
       "  'root://cmsxrootd.fnal.gov///store/mc/RunIISummer20UL18NanoAODv9/Z1JetsToNuNu_M-50_LHEFilterPtZ-150To250_MatchEWPDG20_TuneCP5_13TeV-amcatnloFXFX-pythia8/NANOAODSIM/106X_upgrade2018_realistic_v16_L1v1-v2/230000/4A5C2A10-1E56-4840-8B26-9FA597BF9038.root',\n",
       "  'root://cmsxrootd.fnal.gov///store/mc/RunIISummer20UL18NanoAODv9/Z1JetsToNuNu_M-50_LHEFilterPtZ-150To250_MatchEWPDG20_TuneCP5_13TeV-amcatnloFXFX-pythia8/NANOAODSIM/106X_upgrade2018_realistic_v16_L1v1-v2/230000/4B55BAE4-6936-4A44-98D0-A5BB981D1CAE.root',\n",
       "  'root://cmsxrootd.fnal.gov///store/mc/RunIISummer20UL18NanoAODv9/Z1JetsToNuNu_M-50_LHEFilterPtZ-150To250_MatchEWPDG20_TuneCP5_13TeV-amcatnloFXFX-pythia8/NANOAODSIM/106X_upgrade2018_realistic_v16_L1v1-v2/230000/66523924-F086-A945-B6B3-F2E7365CBFE6.root',\n",
       "  'root://cmsxrootd.fnal.gov///store/mc/RunIISummer20UL18NanoAODv9/Z1JetsToNuNu_M-50_LHEFilterPtZ-150To250_MatchEWPDG20_TuneCP5_13TeV-amcatnloFXFX-pythia8/NANOAODSIM/106X_upgrade2018_realistic_v16_L1v1-v2/230000/C167ED44-7A5A-D84E-9061-8DA9E6B6B809.root',\n",
       "  'root://cmsxrootd.fnal.gov///store/mc/RunIISummer20UL18NanoAODv9/Z1JetsToNuNu_M-50_LHEFilterPtZ-150To250_MatchEWPDG20_TuneCP5_13TeV-amcatnloFXFX-pythia8/NANOAODSIM/106X_upgrade2018_realistic_v16_L1v1-v2/230000/C29AC3CB-B8DD-A64C-8361-2F0DDDE32C51.root',\n",
       "  'root://cmsxrootd.fnal.gov///store/mc/RunIISummer20UL18NanoAODv9/Z1JetsToNuNu_M-50_LHEFilterPtZ-150To250_MatchEWPDG20_TuneCP5_13TeV-amcatnloFXFX-pythia8/NANOAODSIM/106X_upgrade2018_realistic_v16_L1v1-v2/230000/D67AB11B-FC3D-DD41-9547-A7CED105CDC6.root',\n",
       "  'root://cmsxrootd.fnal.gov///store/mc/RunIISummer20UL18NanoAODv9/Z1JetsToNuNu_M-50_LHEFilterPtZ-150To250_MatchEWPDG20_TuneCP5_13TeV-amcatnloFXFX-pythia8/NANOAODSIM/106X_upgrade2018_realistic_v16_L1v1-v2/230000/D9ED41E1-0433-CB47-8B96-E5A5B4594D1E.root',\n",
       "  'root://cmsxrootd.fnal.gov///store/mc/RunIISummer20UL18NanoAODv9/Z1JetsToNuNu_M-50_LHEFilterPtZ-150To250_MatchEWPDG20_TuneCP5_13TeV-amcatnloFXFX-pythia8/NANOAODSIM/106X_upgrade2018_realistic_v16_L1v1-v2/230000/F2D13FB1-F0C9-FF42-A043-4CD62438D838.root',\n",
       "  'root://cmsxrootd.fnal.gov///store/mc/RunIISummer20UL18NanoAODv9/Z1JetsToNuNu_M-50_LHEFilterPtZ-150To250_MatchEWPDG20_TuneCP5_13TeV-amcatnloFXFX-pythia8/NANOAODSIM/106X_upgrade2018_realistic_v16_L1v1-v2/2430000/42A0F618-6AE4-DD42-BE1C-D45C4BD389EF.root',\n",
       "  'root://cmsxrootd.fnal.gov///store/mc/RunIISummer20UL18NanoAODv9/Z1JetsToNuNu_M-50_LHEFilterPtZ-150To250_MatchEWPDG20_TuneCP5_13TeV-amcatnloFXFX-pythia8/NANOAODSIM/106X_upgrade2018_realistic_v16_L1v1-v2/2430000/8E550E37-45DD-8B4F-ADAF-461502BD08B5.root',\n",
       "  'root://cmsxrootd.fnal.gov///store/mc/RunIISummer20UL18NanoAODv9/Z1JetsToNuNu_M-50_LHEFilterPtZ-150To250_MatchEWPDG20_TuneCP5_13TeV-amcatnloFXFX-pythia8/NANOAODSIM/106X_upgrade2018_realistic_v16_L1v1-v2/2430000/CAF8B75F-BF06-9545-94A2-B835E903D36A.root',\n",
       "  'root://cmsxrootd.fnal.gov///store/mc/RunIISummer20UL18NanoAODv9/Z1JetsToNuNu_M-50_LHEFilterPtZ-150To250_MatchEWPDG20_TuneCP5_13TeV-amcatnloFXFX-pythia8/NANOAODSIM/106X_upgrade2018_realistic_v16_L1v1-v2/250000/0E38D7A2-5DE5-CC44-9A4B-A283573267EA.root',\n",
       "  'root://cmsxrootd.fnal.gov///store/mc/RunIISummer20UL18NanoAODv9/Z1JetsToNuNu_M-50_LHEFilterPtZ-150To250_MatchEWPDG20_TuneCP5_13TeV-amcatnloFXFX-pythia8/NANOAODSIM/106X_upgrade2018_realistic_v16_L1v1-v2/250000/1351BC63-BE76-B341-9A36-0EFFB4C9E2BF.root',\n",
       "  'root://cmsxrootd.fnal.gov///store/mc/RunIISummer20UL18NanoAODv9/Z1JetsToNuNu_M-50_LHEFilterPtZ-150To250_MatchEWPDG20_TuneCP5_13TeV-amcatnloFXFX-pythia8/NANOAODSIM/106X_upgrade2018_realistic_v16_L1v1-v2/250000/1DA1ACB3-8897-9942-871C-C3C5B1D8CE5C.root',\n",
       "  'root://cmsxrootd.fnal.gov///store/mc/RunIISummer20UL18NanoAODv9/Z1JetsToNuNu_M-50_LHEFilterPtZ-150To250_MatchEWPDG20_TuneCP5_13TeV-amcatnloFXFX-pythia8/NANOAODSIM/106X_upgrade2018_realistic_v16_L1v1-v2/250000/1DC2A77D-E0FF-5F40-8416-CBAB754A6BF8.root',\n",
       "  'root://cmsxrootd.fnal.gov///store/mc/RunIISummer20UL18NanoAODv9/Z1JetsToNuNu_M-50_LHEFilterPtZ-150To250_MatchEWPDG20_TuneCP5_13TeV-amcatnloFXFX-pythia8/NANOAODSIM/106X_upgrade2018_realistic_v16_L1v1-v2/250000/1EF1A3B9-18A5-3742-B2CE-3EB07F27BD78.root',\n",
       "  'root://cmsxrootd.fnal.gov///store/mc/RunIISummer20UL18NanoAODv9/Z1JetsToNuNu_M-50_LHEFilterPtZ-150To250_MatchEWPDG20_TuneCP5_13TeV-amcatnloFXFX-pythia8/NANOAODSIM/106X_upgrade2018_realistic_v16_L1v1-v2/250000/2115DC88-184A-DA42-B1BD-5FF931343924.root',\n",
       "  'root://cmsxrootd.fnal.gov///store/mc/RunIISummer20UL18NanoAODv9/Z1JetsToNuNu_M-50_LHEFilterPtZ-150To250_MatchEWPDG20_TuneCP5_13TeV-amcatnloFXFX-pythia8/NANOAODSIM/106X_upgrade2018_realistic_v16_L1v1-v2/250000/26DE5243-9641-FD42-A8C4-3326D2669DA8.root',\n",
       "  'root://cmsxrootd.fnal.gov///store/mc/RunIISummer20UL18NanoAODv9/Z1JetsToNuNu_M-50_LHEFilterPtZ-150To250_MatchEWPDG20_TuneCP5_13TeV-amcatnloFXFX-pythia8/NANOAODSIM/106X_upgrade2018_realistic_v16_L1v1-v2/250000/2B3DF153-1E31-584E-A75E-288F7953246D.root',\n",
       "  'root://cmsxrootd.fnal.gov///store/mc/RunIISummer20UL18NanoAODv9/Z1JetsToNuNu_M-50_LHEFilterPtZ-150To250_MatchEWPDG20_TuneCP5_13TeV-amcatnloFXFX-pythia8/NANOAODSIM/106X_upgrade2018_realistic_v16_L1v1-v2/250000/2CEA40AA-501F-7B48-A81B-D4E4219FE521.root',\n",
       "  'root://cmsxrootd.fnal.gov///store/mc/RunIISummer20UL18NanoAODv9/Z1JetsToNuNu_M-50_LHEFilterPtZ-150To250_MatchEWPDG20_TuneCP5_13TeV-amcatnloFXFX-pythia8/NANOAODSIM/106X_upgrade2018_realistic_v16_L1v1-v2/250000/3000EB3B-7052-3943-961C-4F2A13996E9D.root',\n",
       "  'root://cmsxrootd.fnal.gov///store/mc/RunIISummer20UL18NanoAODv9/Z1JetsToNuNu_M-50_LHEFilterPtZ-150To250_MatchEWPDG20_TuneCP5_13TeV-amcatnloFXFX-pythia8/NANOAODSIM/106X_upgrade2018_realistic_v16_L1v1-v2/250000/3207D803-9EE0-2048-A30C-95EB833D17CD.root',\n",
       "  'root://cmsxrootd.fnal.gov///store/mc/RunIISummer20UL18NanoAODv9/Z1JetsToNuNu_M-50_LHEFilterPtZ-150To250_MatchEWPDG20_TuneCP5_13TeV-amcatnloFXFX-pythia8/NANOAODSIM/106X_upgrade2018_realistic_v16_L1v1-v2/250000/37756E22-BDE8-9143-A87B-828E5CA0245D.root',\n",
       "  'root://cmsxrootd.fnal.gov///store/mc/RunIISummer20UL18NanoAODv9/Z1JetsToNuNu_M-50_LHEFilterPtZ-150To250_MatchEWPDG20_TuneCP5_13TeV-amcatnloFXFX-pythia8/NANOAODSIM/106X_upgrade2018_realistic_v16_L1v1-v2/250000/382519DC-96CD-5447-B544-BCA8F1A43A01.root',\n",
       "  'root://cmsxrootd.fnal.gov///store/mc/RunIISummer20UL18NanoAODv9/Z1JetsToNuNu_M-50_LHEFilterPtZ-150To250_MatchEWPDG20_TuneCP5_13TeV-amcatnloFXFX-pythia8/NANOAODSIM/106X_upgrade2018_realistic_v16_L1v1-v2/250000/393CE2DC-C11F-5C49-A135-721E18F7D494.root',\n",
       "  'root://cmsxrootd.fnal.gov///store/mc/RunIISummer20UL18NanoAODv9/Z1JetsToNuNu_M-50_LHEFilterPtZ-150To250_MatchEWPDG20_TuneCP5_13TeV-amcatnloFXFX-pythia8/NANOAODSIM/106X_upgrade2018_realistic_v16_L1v1-v2/250000/3BD9B929-21FA-5D4A-AA59-4BF226EFBE9B.root',\n",
       "  'root://cmsxrootd.fnal.gov///store/mc/RunIISummer20UL18NanoAODv9/Z1JetsToNuNu_M-50_LHEFilterPtZ-150To250_MatchEWPDG20_TuneCP5_13TeV-amcatnloFXFX-pythia8/NANOAODSIM/106X_upgrade2018_realistic_v16_L1v1-v2/250000/59059BD6-28FB-F444-8FCE-78521591495F.root',\n",
       "  'root://cmsxrootd.fnal.gov///store/mc/RunIISummer20UL18NanoAODv9/Z1JetsToNuNu_M-50_LHEFilterPtZ-150To250_MatchEWPDG20_TuneCP5_13TeV-amcatnloFXFX-pythia8/NANOAODSIM/106X_upgrade2018_realistic_v16_L1v1-v2/250000/6474E4E7-A963-674C-86FF-4AA051A7511F.root',\n",
       "  'root://cmsxrootd.fnal.gov///store/mc/RunIISummer20UL18NanoAODv9/Z1JetsToNuNu_M-50_LHEFilterPtZ-150To250_MatchEWPDG20_TuneCP5_13TeV-amcatnloFXFX-pythia8/NANOAODSIM/106X_upgrade2018_realistic_v16_L1v1-v2/250000/6DA8F328-9DA6-8848-999A-15920F0D3CC2.root',\n",
       "  'root://cmsxrootd.fnal.gov///store/mc/RunIISummer20UL18NanoAODv9/Z1JetsToNuNu_M-50_LHEFilterPtZ-150To250_MatchEWPDG20_TuneCP5_13TeV-amcatnloFXFX-pythia8/NANOAODSIM/106X_upgrade2018_realistic_v16_L1v1-v2/250000/708F000B-ABA3-4648-B226-3BDAF11AF3AC.root',\n",
       "  'root://cmsxrootd.fnal.gov///store/mc/RunIISummer20UL18NanoAODv9/Z1JetsToNuNu_M-50_LHEFilterPtZ-150To250_MatchEWPDG20_TuneCP5_13TeV-amcatnloFXFX-pythia8/NANOAODSIM/106X_upgrade2018_realistic_v16_L1v1-v2/250000/895D3434-25D5-D348-9F97-0DA547BCEA70.root',\n",
       "  'root://cmsxrootd.fnal.gov///store/mc/RunIISummer20UL18NanoAODv9/Z1JetsToNuNu_M-50_LHEFilterPtZ-150To250_MatchEWPDG20_TuneCP5_13TeV-amcatnloFXFX-pythia8/NANOAODSIM/106X_upgrade2018_realistic_v16_L1v1-v2/250000/A88F9B69-36E1-8E4A-BAD6-7909C7988AB4.root',\n",
       "  'root://cmsxrootd.fnal.gov///store/mc/RunIISummer20UL18NanoAODv9/Z1JetsToNuNu_M-50_LHEFilterPtZ-150To250_MatchEWPDG20_TuneCP5_13TeV-amcatnloFXFX-pythia8/NANOAODSIM/106X_upgrade2018_realistic_v16_L1v1-v2/250000/AD74EF49-A5B0-C644-85A9-ACED41DC7A7F.root',\n",
       "  'root://cmsxrootd.fnal.gov///store/mc/RunIISummer20UL18NanoAODv9/Z1JetsToNuNu_M-50_LHEFilterPtZ-150To250_MatchEWPDG20_TuneCP5_13TeV-amcatnloFXFX-pythia8/NANOAODSIM/106X_upgrade2018_realistic_v16_L1v1-v2/250000/B5E36429-4F6F-264A-A122-DD04BCFE15C8.root',\n",
       "  'root://cmsxrootd.fnal.gov///store/mc/RunIISummer20UL18NanoAODv9/Z1JetsToNuNu_M-50_LHEFilterPtZ-150To250_MatchEWPDG20_TuneCP5_13TeV-amcatnloFXFX-pythia8/NANOAODSIM/106X_upgrade2018_realistic_v16_L1v1-v2/250000/CC0CF192-463D-9B40-A8C9-374D0C48FC6A.root',\n",
       "  'root://cmsxrootd.fnal.gov///store/mc/RunIISummer20UL18NanoAODv9/Z1JetsToNuNu_M-50_LHEFilterPtZ-150To250_MatchEWPDG20_TuneCP5_13TeV-amcatnloFXFX-pythia8/NANOAODSIM/106X_upgrade2018_realistic_v16_L1v1-v2/250000/D30C9B24-B953-6C46-B04C-FB6CBF2FED73.root',\n",
       "  'root://cmsxrootd.fnal.gov///store/mc/RunIISummer20UL18NanoAODv9/Z1JetsToNuNu_M-50_LHEFilterPtZ-150To250_MatchEWPDG20_TuneCP5_13TeV-amcatnloFXFX-pythia8/NANOAODSIM/106X_upgrade2018_realistic_v16_L1v1-v2/250000/E11BC0F7-31A2-9942-9DEF-480CC624C232.root',\n",
       "  'root://cmsxrootd.fnal.gov///store/mc/RunIISummer20UL18NanoAODv9/Z1JetsToNuNu_M-50_LHEFilterPtZ-150To250_MatchEWPDG20_TuneCP5_13TeV-amcatnloFXFX-pythia8/NANOAODSIM/106X_upgrade2018_realistic_v16_L1v1-v2/250000/F3DE5D70-D056-9E41-A6AC-A3E90A6A2327.root',\n",
       "  'root://cmsxrootd.fnal.gov///store/mc/RunIISummer20UL18NanoAODv9/Z1JetsToNuNu_M-50_LHEFilterPtZ-150To250_MatchEWPDG20_TuneCP5_13TeV-amcatnloFXFX-pythia8/NANOAODSIM/106X_upgrade2018_realistic_v16_L1v1-v2/250000/F6E6BB34-4AA6-834F-AD55-CCB1DFE58778.root',\n",
       "  'root://cmsxrootd.fnal.gov///store/mc/RunIISummer20UL18NanoAODv9/Z1JetsToNuNu_M-50_LHEFilterPtZ-150To250_MatchEWPDG20_TuneCP5_13TeV-amcatnloFXFX-pythia8/NANOAODSIM/106X_upgrade2018_realistic_v16_L1v1-v2/250000/FB657CD0-BA0C-3441-A93A-E255692808B5.root',\n",
       "  'root://cmsxrootd.fnal.gov///store/mc/RunIISummer20UL18NanoAODv9/Z1JetsToNuNu_M-50_LHEFilterPtZ-150To250_MatchEWPDG20_TuneCP5_13TeV-amcatnloFXFX-pythia8/NANOAODSIM/106X_upgrade2018_realistic_v16_L1v1-v2/250000/FFA68F3C-FB3D-7148-B828-4B26D48328A8.root',\n",
       "  'root://cmsxrootd.fnal.gov///store/mc/RunIISummer20UL18NanoAODv9/Z1JetsToNuNu_M-50_LHEFilterPtZ-150To250_MatchEWPDG20_TuneCP5_13TeV-amcatnloFXFX-pythia8/NANOAODSIM/106X_upgrade2018_realistic_v16_L1v1-v2/250000/FFEE37C2-72E1-F24B-9386-4EB1EA4766D2.root',\n",
       "  'root://cmsxrootd.fnal.gov///store/mc/RunIISummer20UL18NanoAODv9/Z1JetsToNuNu_M-50_LHEFilterPtZ-150To250_MatchEWPDG20_TuneCP5_13TeV-amcatnloFXFX-pythia8/NANOAODSIM/106X_upgrade2018_realistic_v16_L1v1-v2/2510000/10CBFB41-05A8-AE46-8816-6B0DB242D3D7.root',\n",
       "  'root://cmsxrootd.fnal.gov///store/mc/RunIISummer20UL18NanoAODv9/Z1JetsToNuNu_M-50_LHEFilterPtZ-150To250_MatchEWPDG20_TuneCP5_13TeV-amcatnloFXFX-pythia8/NANOAODSIM/106X_upgrade2018_realistic_v16_L1v1-v2/260000/955022CA-B48C-3A4B-8A67-85B9CCA8AA25.root',\n",
       "  'root://cmsxrootd.fnal.gov///store/mc/RunIISummer20UL18NanoAODv9/Z1JetsToNuNu_M-50_LHEFilterPtZ-150To250_MatchEWPDG20_TuneCP5_13TeV-amcatnloFXFX-pythia8/NANOAODSIM/106X_upgrade2018_realistic_v16_L1v1-v2/260000/A211646B-45E1-6443-A6CA-325CBCB486DC.root',\n",
       "  'root://cmsxrootd.fnal.gov///store/mc/RunIISummer20UL18NanoAODv9/Z1JetsToNuNu_M-50_LHEFilterPtZ-250To400_MatchEWPDG20_TuneCP5_13TeV-amcatnloFXFX-pythia8/NANOAODSIM/106X_upgrade2018_realistic_v16_L1v1-v2/100000/0125BE86-EAB7-0A41-991C-0AAAE0E1B411.root',\n",
       "  'root://cmsxrootd.fnal.gov///store/mc/RunIISummer20UL18NanoAODv9/Z1JetsToNuNu_M-50_LHEFilterPtZ-250To400_MatchEWPDG20_TuneCP5_13TeV-amcatnloFXFX-pythia8/NANOAODSIM/106X_upgrade2018_realistic_v16_L1v1-v2/100000/214C20C9-FE96-624E-B066-9E93A3ECCCC6.root',\n",
       "  'root://cmsxrootd.fnal.gov///store/mc/RunIISummer20UL18NanoAODv9/Z1JetsToNuNu_M-50_LHEFilterPtZ-250To400_MatchEWPDG20_TuneCP5_13TeV-amcatnloFXFX-pythia8/NANOAODSIM/106X_upgrade2018_realistic_v16_L1v1-v2/100000/3E536136-2534-EC47-8626-53294A2550EA.root',\n",
       "  'root://cmsxrootd.fnal.gov///store/mc/RunIISummer20UL18NanoAODv9/Z1JetsToNuNu_M-50_LHEFilterPtZ-250To400_MatchEWPDG20_TuneCP5_13TeV-amcatnloFXFX-pythia8/NANOAODSIM/106X_upgrade2018_realistic_v16_L1v1-v2/100000/5637DB31-C5D5-C540-9DEE-7BF3A36639C6.root',\n",
       "  'root://cmsxrootd.fnal.gov///store/mc/RunIISummer20UL18NanoAODv9/Z1JetsToNuNu_M-50_LHEFilterPtZ-250To400_MatchEWPDG20_TuneCP5_13TeV-amcatnloFXFX-pythia8/NANOAODSIM/106X_upgrade2018_realistic_v16_L1v1-v2/100000/744B87C0-3BCF-D24B-9C39-040068FA6683.root',\n",
       "  'root://cmsxrootd.fnal.gov///store/mc/RunIISummer20UL18NanoAODv9/Z1JetsToNuNu_M-50_LHEFilterPtZ-250To400_MatchEWPDG20_TuneCP5_13TeV-amcatnloFXFX-pythia8/NANOAODSIM/106X_upgrade2018_realistic_v16_L1v1-v2/100000/92E650A8-5A4E-084B-B683-27424E71CF1A.root',\n",
       "  'root://cmsxrootd.fnal.gov///store/mc/RunIISummer20UL18NanoAODv9/Z1JetsToNuNu_M-50_LHEFilterPtZ-250To400_MatchEWPDG20_TuneCP5_13TeV-amcatnloFXFX-pythia8/NANOAODSIM/106X_upgrade2018_realistic_v16_L1v1-v2/100000/CC12637F-0865-7F4C-8317-B5542DBD2F88.root',\n",
       "  'root://cmsxrootd.fnal.gov///store/mc/RunIISummer20UL18NanoAODv9/Z1JetsToNuNu_M-50_LHEFilterPtZ-250To400_MatchEWPDG20_TuneCP5_13TeV-amcatnloFXFX-pythia8/NANOAODSIM/106X_upgrade2018_realistic_v16_L1v1-v2/100000/EE5A9D37-9073-4E45-9423-B78C5D96C1A7.root',\n",
       "  'root://cmsxrootd.fnal.gov///store/mc/RunIISummer20UL18NanoAODv9/Z1JetsToNuNu_M-50_LHEFilterPtZ-250To400_MatchEWPDG20_TuneCP5_13TeV-amcatnloFXFX-pythia8/NANOAODSIM/106X_upgrade2018_realistic_v16_L1v1-v2/230000/03806A3A-F0E5-BF43-94CD-312947CA3343.root',\n",
       "  'root://cmsxrootd.fnal.gov///store/mc/RunIISummer20UL18NanoAODv9/Z1JetsToNuNu_M-50_LHEFilterPtZ-250To400_MatchEWPDG20_TuneCP5_13TeV-amcatnloFXFX-pythia8/NANOAODSIM/106X_upgrade2018_realistic_v16_L1v1-v2/230000/163F8F32-68C1-9144-B4D9-22F5DE4BBB74.root',\n",
       "  'root://cmsxrootd.fnal.gov///store/mc/RunIISummer20UL18NanoAODv9/Z1JetsToNuNu_M-50_LHEFilterPtZ-250To400_MatchEWPDG20_TuneCP5_13TeV-amcatnloFXFX-pythia8/NANOAODSIM/106X_upgrade2018_realistic_v16_L1v1-v2/230000/4DFFFFA9-AE34-9F4A-9CB4-D3AA4B09C94D.root',\n",
       "  'root://cmsxrootd.fnal.gov///store/mc/RunIISummer20UL18NanoAODv9/Z1JetsToNuNu_M-50_LHEFilterPtZ-250To400_MatchEWPDG20_TuneCP5_13TeV-amcatnloFXFX-pythia8/NANOAODSIM/106X_upgrade2018_realistic_v16_L1v1-v2/230000/5ECDC9E1-4E9F-9349-9F26-B19E44977F08.root',\n",
       "  'root://cmsxrootd.fnal.gov///store/mc/RunIISummer20UL18NanoAODv9/Z1JetsToNuNu_M-50_LHEFilterPtZ-250To400_MatchEWPDG20_TuneCP5_13TeV-amcatnloFXFX-pythia8/NANOAODSIM/106X_upgrade2018_realistic_v16_L1v1-v2/230000/73B8835B-D1EA-D640-BB79-0213F206BE09.root',\n",
       "  'root://cmsxrootd.fnal.gov///store/mc/RunIISummer20UL18NanoAODv9/Z1JetsToNuNu_M-50_LHEFilterPtZ-250To400_MatchEWPDG20_TuneCP5_13TeV-amcatnloFXFX-pythia8/NANOAODSIM/106X_upgrade2018_realistic_v16_L1v1-v2/230000/87862A0C-C9AC-3140-99FF-6E85BF9FDF0C.root',\n",
       "  'root://cmsxrootd.fnal.gov///store/mc/RunIISummer20UL18NanoAODv9/Z1JetsToNuNu_M-50_LHEFilterPtZ-250To400_MatchEWPDG20_TuneCP5_13TeV-amcatnloFXFX-pythia8/NANOAODSIM/106X_upgrade2018_realistic_v16_L1v1-v2/230000/B09B281A-726E-B04E-851B-8ABA251499CC.root',\n",
       "  'root://cmsxrootd.fnal.gov///store/mc/RunIISummer20UL18NanoAODv9/Z1JetsToNuNu_M-50_LHEFilterPtZ-250To400_MatchEWPDG20_TuneCP5_13TeV-amcatnloFXFX-pythia8/NANOAODSIM/106X_upgrade2018_realistic_v16_L1v1-v2/230000/C6779E7A-8902-9E4B-9673-615DF5F83F9E.root',\n",
       "  'root://cmsxrootd.fnal.gov///store/mc/RunIISummer20UL18NanoAODv9/Z1JetsToNuNu_M-50_LHEFilterPtZ-250To400_MatchEWPDG20_TuneCP5_13TeV-amcatnloFXFX-pythia8/NANOAODSIM/106X_upgrade2018_realistic_v16_L1v1-v2/230000/DC48EB48-2E19-8D46-BAB3-E4B844D20354.root',\n",
       "  'root://cmsxrootd.fnal.gov///store/mc/RunIISummer20UL18NanoAODv9/Z1JetsToNuNu_M-50_LHEFilterPtZ-250To400_MatchEWPDG20_TuneCP5_13TeV-amcatnloFXFX-pythia8/NANOAODSIM/106X_upgrade2018_realistic_v16_L1v1-v2/230000/DFFC8A87-FAE8-C149-A4DA-BEF01FE2E25C.root',\n",
       "  'root://cmsxrootd.fnal.gov///store/mc/RunIISummer20UL18NanoAODv9/Z1JetsToNuNu_M-50_LHEFilterPtZ-250To400_MatchEWPDG20_TuneCP5_13TeV-amcatnloFXFX-pythia8/NANOAODSIM/106X_upgrade2018_realistic_v16_L1v1-v2/2430000/047E9D4D-3D9A-144C-8392-69E70F078F66.root',\n",
       "  'root://cmsxrootd.fnal.gov///store/mc/RunIISummer20UL18NanoAODv9/Z1JetsToNuNu_M-50_LHEFilterPtZ-250To400_MatchEWPDG20_TuneCP5_13TeV-amcatnloFXFX-pythia8/NANOAODSIM/106X_upgrade2018_realistic_v16_L1v1-v2/2430000/2F30EF2B-EDD1-514C-B300-A5885D25CE3C.root',\n",
       "  'root://cmsxrootd.fnal.gov///store/mc/RunIISummer20UL18NanoAODv9/Z1JetsToNuNu_M-50_LHEFilterPtZ-250To400_MatchEWPDG20_TuneCP5_13TeV-amcatnloFXFX-pythia8/NANOAODSIM/106X_upgrade2018_realistic_v16_L1v1-v2/2430000/3227950C-46B1-DF4D-A05D-2944AB5DA641.root',\n",
       "  'root://cmsxrootd.fnal.gov///store/mc/RunIISummer20UL18NanoAODv9/Z1JetsToNuNu_M-50_LHEFilterPtZ-250To400_MatchEWPDG20_TuneCP5_13TeV-amcatnloFXFX-pythia8/NANOAODSIM/106X_upgrade2018_realistic_v16_L1v1-v2/2430000/5BF19748-9B28-294C-8FF7-BA63FB4AB0DC.root',\n",
       "  'root://cmsxrootd.fnal.gov///store/mc/RunIISummer20UL18NanoAODv9/Z1JetsToNuNu_M-50_LHEFilterPtZ-250To400_MatchEWPDG20_TuneCP5_13TeV-amcatnloFXFX-pythia8/NANOAODSIM/106X_upgrade2018_realistic_v16_L1v1-v2/2430000/665B10DD-44A0-8448-933B-6129CEB8CA92.root',\n",
       "  'root://cmsxrootd.fnal.gov///store/mc/RunIISummer20UL18NanoAODv9/Z1JetsToNuNu_M-50_LHEFilterPtZ-250To400_MatchEWPDG20_TuneCP5_13TeV-amcatnloFXFX-pythia8/NANOAODSIM/106X_upgrade2018_realistic_v16_L1v1-v2/2430000/77299169-C4DD-9C47-99BF-D0746C53B71E.root',\n",
       "  'root://cmsxrootd.fnal.gov///store/mc/RunIISummer20UL18NanoAODv9/Z1JetsToNuNu_M-50_LHEFilterPtZ-250To400_MatchEWPDG20_TuneCP5_13TeV-amcatnloFXFX-pythia8/NANOAODSIM/106X_upgrade2018_realistic_v16_L1v1-v2/2430000/AF80C1D5-BB69-B541-B135-F9369C870415.root',\n",
       "  'root://cmsxrootd.fnal.gov///store/mc/RunIISummer20UL18NanoAODv9/Z1JetsToNuNu_M-50_LHEFilterPtZ-250To400_MatchEWPDG20_TuneCP5_13TeV-amcatnloFXFX-pythia8/NANOAODSIM/106X_upgrade2018_realistic_v16_L1v1-v2/2430000/C42C60EB-EF3D-644B-96E4-90FA9F637821.root',\n",
       "  'root://cmsxrootd.fnal.gov///store/mc/RunIISummer20UL18NanoAODv9/Z1JetsToNuNu_M-50_LHEFilterPtZ-250To400_MatchEWPDG20_TuneCP5_13TeV-amcatnloFXFX-pythia8/NANOAODSIM/106X_upgrade2018_realistic_v16_L1v1-v2/2430000/F759C65F-66A7-8441-9BE2-C014E2730179.root',\n",
       "  'root://cmsxrootd.fnal.gov///store/mc/RunIISummer20UL18NanoAODv9/Z1JetsToNuNu_M-50_LHEFilterPtZ-250To400_MatchEWPDG20_TuneCP5_13TeV-amcatnloFXFX-pythia8/NANOAODSIM/106X_upgrade2018_realistic_v16_L1v1-v2/2430000/FBDC5197-607B-0647-B5A0-73FBA2E2B8DA.root',\n",
       "  'root://cmsxrootd.fnal.gov///store/mc/RunIISummer20UL18NanoAODv9/Z1JetsToNuNu_M-50_LHEFilterPtZ-250To400_MatchEWPDG20_TuneCP5_13TeV-amcatnloFXFX-pythia8/NANOAODSIM/106X_upgrade2018_realistic_v16_L1v1-v2/250000/09AC5623-010E-0F49-A94C-AE6189F5F46B.root',\n",
       "  'root://cmsxrootd.fnal.gov///store/mc/RunIISummer20UL18NanoAODv9/Z1JetsToNuNu_M-50_LHEFilterPtZ-250To400_MatchEWPDG20_TuneCP5_13TeV-amcatnloFXFX-pythia8/NANOAODSIM/106X_upgrade2018_realistic_v16_L1v1-v2/250000/20624ACC-52E6-464D-A7C9-DD5C0D448F97.root',\n",
       "  'root://cmsxrootd.fnal.gov///store/mc/RunIISummer20UL18NanoAODv9/Z1JetsToNuNu_M-50_LHEFilterPtZ-250To400_MatchEWPDG20_TuneCP5_13TeV-amcatnloFXFX-pythia8/NANOAODSIM/106X_upgrade2018_realistic_v16_L1v1-v2/250000/2F69CC5A-E99B-9C4C-9504-E3E54CD90A9F.root',\n",
       "  'root://cmsxrootd.fnal.gov///store/mc/RunIISummer20UL18NanoAODv9/Z1JetsToNuNu_M-50_LHEFilterPtZ-400ToInf_MatchEWPDG20_TuneCP5_13TeV-amcatnloFXFX-pythia8/NANOAODSIM/106X_upgrade2018_realistic_v16_L1v1-v2/2430000/D96F633E-4E9F-E840-9D6A-7A0F2C9A4782.root',\n",
       "  'root://cmsxrootd.fnal.gov///store/mc/RunIISummer20UL18NanoAODv9/Z1JetsToNuNu_M-50_LHEFilterPtZ-400ToInf_MatchEWPDG20_TuneCP5_13TeV-amcatnloFXFX-pythia8/NANOAODSIM/106X_upgrade2018_realistic_v16_L1v1-v2/2500000/2D1166D3-D36E-FE48-831B-3E5129DF86B2.root',\n",
       "  'root://cmsxrootd.fnal.gov///store/mc/RunIISummer20UL18NanoAODv9/Z1JetsToNuNu_M-50_LHEFilterPtZ-400ToInf_MatchEWPDG20_TuneCP5_13TeV-amcatnloFXFX-pythia8/NANOAODSIM/106X_upgrade2018_realistic_v16_L1v1-v2/2500000/33149834-1AD6-2C46-8485-2C66D20CB2A8.root',\n",
       "  'root://cmsxrootd.fnal.gov///store/mc/RunIISummer20UL18NanoAODv9/Z1JetsToNuNu_M-50_LHEFilterPtZ-400ToInf_MatchEWPDG20_TuneCP5_13TeV-amcatnloFXFX-pythia8/NANOAODSIM/106X_upgrade2018_realistic_v16_L1v1-v2/2500000/62E8F2D1-AE67-D640-B170-CD1FF2B09173.root',\n",
       "  'root://cmsxrootd.fnal.gov///store/mc/RunIISummer20UL18NanoAODv9/Z1JetsToNuNu_M-50_LHEFilterPtZ-400ToInf_MatchEWPDG20_TuneCP5_13TeV-amcatnloFXFX-pythia8/NANOAODSIM/106X_upgrade2018_realistic_v16_L1v1-v2/2500000/86447787-D4E6-BA47-AA87-D107E96FFC97.root',\n",
       "  'root://cmsxrootd.fnal.gov///store/mc/RunIISummer20UL18NanoAODv9/Z1JetsToNuNu_M-50_LHEFilterPtZ-400ToInf_MatchEWPDG20_TuneCP5_13TeV-amcatnloFXFX-pythia8/NANOAODSIM/106X_upgrade2018_realistic_v16_L1v1-v2/2500000/AD3183C7-5E9C-CE48-B78C-E3FD93A89DA6.root',\n",
       "  'root://cmsxrootd.fnal.gov///store/mc/RunIISummer20UL18NanoAODv9/Z1JetsToNuNu_M-50_LHEFilterPtZ-400ToInf_MatchEWPDG20_TuneCP5_13TeV-amcatnloFXFX-pythia8/NANOAODSIM/106X_upgrade2018_realistic_v16_L1v1-v2/2500000/D7759B05-89E5-5845-A3F4-6E6A8BB810E5.root',\n",
       "  'root://cmsxrootd.fnal.gov///store/mc/RunIISummer20UL18NanoAODv9/Z1JetsToNuNu_M-50_LHEFilterPtZ-400ToInf_MatchEWPDG20_TuneCP5_13TeV-amcatnloFXFX-pythia8/NANOAODSIM/106X_upgrade2018_realistic_v16_L1v1-v2/2500000/EF553829-6F65-3F4A-898F-B585BA595E1C.root',\n",
       "  'root://cmsxrootd.fnal.gov///store/mc/RunIISummer20UL18NanoAODv9/Z1JetsToNuNu_M-50_LHEFilterPtZ-400ToInf_MatchEWPDG20_TuneCP5_13TeV-amcatnloFXFX-pythia8/NANOAODSIM/106X_upgrade2018_realistic_v16_L1v1-v2/2510000/A5E9C1A0-62F8-DE41-B17B-E22DEA6F2606.root',\n",
       "  'root://cmsxrootd.fnal.gov///store/mc/RunIISummer20UL18NanoAODv9/Z1JetsToNuNu_M-50_LHEFilterPtZ-400ToInf_MatchEWPDG20_TuneCP5_13TeV-amcatnloFXFX-pythia8/NANOAODSIM/106X_upgrade2018_realistic_v16_L1v1-v2/40000/09418B1F-1D9C-0B40-B39F-F7987A70E57B.root',\n",
       "  'root://cmsxrootd.fnal.gov///store/mc/RunIISummer20UL18NanoAODv9/Z1JetsToNuNu_M-50_LHEFilterPtZ-400ToInf_MatchEWPDG20_TuneCP5_13TeV-amcatnloFXFX-pythia8/NANOAODSIM/106X_upgrade2018_realistic_v16_L1v1-v2/40000/0E0B3E09-C6C4-AB40-960F-570B51849C81.root',\n",
       "  'root://cmsxrootd.fnal.gov///store/mc/RunIISummer20UL18NanoAODv9/Z1JetsToNuNu_M-50_LHEFilterPtZ-400ToInf_MatchEWPDG20_TuneCP5_13TeV-amcatnloFXFX-pythia8/NANOAODSIM/106X_upgrade2018_realistic_v16_L1v1-v2/40000/486396C0-DB4C-D945-917A-2CFF9B9973E9.root',\n",
       "  'root://cmsxrootd.fnal.gov///store/mc/RunIISummer20UL18NanoAODv9/Z1JetsToNuNu_M-50_LHEFilterPtZ-400ToInf_MatchEWPDG20_TuneCP5_13TeV-amcatnloFXFX-pythia8/NANOAODSIM/106X_upgrade2018_realistic_v16_L1v1-v2/40000/4A2C9A6E-FBC0-BD4B-BF52-7D1D95AC629A.root',\n",
       "  'root://cmsxrootd.fnal.gov///store/mc/RunIISummer20UL18NanoAODv9/Z1JetsToNuNu_M-50_LHEFilterPtZ-400ToInf_MatchEWPDG20_TuneCP5_13TeV-amcatnloFXFX-pythia8/NANOAODSIM/106X_upgrade2018_realistic_v16_L1v1-v2/40000/78525F1D-B9D7-EF4C-BCCF-AE2C9EDDBF31.root',\n",
       "  'root://cmsxrootd.fnal.gov///store/mc/RunIISummer20UL18NanoAODv9/Z1JetsToNuNu_M-50_LHEFilterPtZ-400ToInf_MatchEWPDG20_TuneCP5_13TeV-amcatnloFXFX-pythia8/NANOAODSIM/106X_upgrade2018_realistic_v16_L1v1-v2/40000/9285003B-9D02-5B49-ABD9-080E04195C60.root',\n",
       "  'root://cmsxrootd.fnal.gov///store/mc/RunIISummer20UL18NanoAODv9/Z1JetsToNuNu_M-50_LHEFilterPtZ-400ToInf_MatchEWPDG20_TuneCP5_13TeV-amcatnloFXFX-pythia8/NANOAODSIM/106X_upgrade2018_realistic_v16_L1v1-v2/40000/ABF1687F-0B68-574C-843A-AB816037EBAA.root',\n",
       "  'root://cmsxrootd.fnal.gov///store/mc/RunIISummer20UL18NanoAODv9/Z1JetsToNuNu_M-50_LHEFilterPtZ-400ToInf_MatchEWPDG20_TuneCP5_13TeV-amcatnloFXFX-pythia8/NANOAODSIM/106X_upgrade2018_realistic_v16_L1v1-v2/40000/E43A7827-B825-7E45-B7F9-DD72C039A2A9.root',\n",
       "  'root://cmsxrootd.fnal.gov///store/mc/RunIISummer20UL18NanoAODv9/Z1JetsToNuNu_M-50_LHEFilterPtZ-400ToInf_MatchEWPDG20_TuneCP5_13TeV-amcatnloFXFX-pythia8/NANOAODSIM/106X_upgrade2018_realistic_v16_L1v1-v2/40000/ECE2E51B-5895-B54A-ADB3-AC4229242D0E.root',\n",
       "  'root://cmsxrootd.fnal.gov///store/mc/RunIISummer20UL18NanoAODv9/Z1JetsToNuNu_M-50_LHEFilterPtZ-400ToInf_MatchEWPDG20_TuneCP5_13TeV-amcatnloFXFX-pythia8/NANOAODSIM/106X_upgrade2018_realistic_v16_L1v1-v2/40000/F4BD4404-7B9F-DE4B-9E50-F567F1EE7831.root',\n",
       "  'root://cmsxrootd.fnal.gov///store/mc/RunIISummer20UL18NanoAODv9/Z1JetsToNuNu_M-50_LHEFilterPtZ-400ToInf_MatchEWPDG20_TuneCP5_13TeV-amcatnloFXFX-pythia8/NANOAODSIM/106X_upgrade2018_realistic_v16_L1v1-v2/40000/FE9D24BF-4C4C-E24B-BF00-CCFBC94154F0.root',\n",
       "  'root://cmsxrootd.fnal.gov///store/mc/RunIISummer20UL18NanoAODv9/Z2JetsToNuNu_M-50_LHEFilterPtZ-50To150_MatchEWPDG20_TuneCP5_13TeV-amcatnloFXFX-pythia8/NANOAODSIM/106X_upgrade2018_realistic_v16_L1v1-v2/260000/139DD796-FB80-FB4C-832C-32910737F15C.root',\n",
       "  'root://cmsxrootd.fnal.gov///store/mc/RunIISummer20UL18NanoAODv9/Z2JetsToNuNu_M-50_LHEFilterPtZ-50To150_MatchEWPDG20_TuneCP5_13TeV-amcatnloFXFX-pythia8/NANOAODSIM/106X_upgrade2018_realistic_v16_L1v1-v2/260000/1533FD48-0478-D046-9619-984D2795AB13.root',\n",
       "  'root://cmsxrootd.fnal.gov///store/mc/RunIISummer20UL18NanoAODv9/Z2JetsToNuNu_M-50_LHEFilterPtZ-50To150_MatchEWPDG20_TuneCP5_13TeV-amcatnloFXFX-pythia8/NANOAODSIM/106X_upgrade2018_realistic_v16_L1v1-v2/260000/19810505-436D-8746-910B-7B2709F97A92.root',\n",
       "  'root://cmsxrootd.fnal.gov///store/mc/RunIISummer20UL18NanoAODv9/Z2JetsToNuNu_M-50_LHEFilterPtZ-50To150_MatchEWPDG20_TuneCP5_13TeV-amcatnloFXFX-pythia8/NANOAODSIM/106X_upgrade2018_realistic_v16_L1v1-v2/260000/1B5897F4-2F3B-F44C-8719-A3D98929605B.root',\n",
       "  'root://cmsxrootd.fnal.gov///store/mc/RunIISummer20UL18NanoAODv9/Z2JetsToNuNu_M-50_LHEFilterPtZ-50To150_MatchEWPDG20_TuneCP5_13TeV-amcatnloFXFX-pythia8/NANOAODSIM/106X_upgrade2018_realistic_v16_L1v1-v2/260000/22D75D69-14D9-E843-96EC-E96A88475AD9.root',\n",
       "  'root://cmsxrootd.fnal.gov///store/mc/RunIISummer20UL18NanoAODv9/Z2JetsToNuNu_M-50_LHEFilterPtZ-50To150_MatchEWPDG20_TuneCP5_13TeV-amcatnloFXFX-pythia8/NANOAODSIM/106X_upgrade2018_realistic_v16_L1v1-v2/260000/29FD7267-3D90-DE48-B0EA-E395773D0F99.root',\n",
       "  'root://cmsxrootd.fnal.gov///store/mc/RunIISummer20UL18NanoAODv9/Z2JetsToNuNu_M-50_LHEFilterPtZ-50To150_MatchEWPDG20_TuneCP5_13TeV-amcatnloFXFX-pythia8/NANOAODSIM/106X_upgrade2018_realistic_v16_L1v1-v2/260000/31413D3A-32C8-7D46-AE65-9D1E565CF1B1.root',\n",
       "  'root://cmsxrootd.fnal.gov///store/mc/RunIISummer20UL18NanoAODv9/Z2JetsToNuNu_M-50_LHEFilterPtZ-50To150_MatchEWPDG20_TuneCP5_13TeV-amcatnloFXFX-pythia8/NANOAODSIM/106X_upgrade2018_realistic_v16_L1v1-v2/260000/317487C0-4C65-0845-BE53-0F0F27A30B05.root',\n",
       "  'root://cmsxrootd.fnal.gov///store/mc/RunIISummer20UL18NanoAODv9/Z2JetsToNuNu_M-50_LHEFilterPtZ-50To150_MatchEWPDG20_TuneCP5_13TeV-amcatnloFXFX-pythia8/NANOAODSIM/106X_upgrade2018_realistic_v16_L1v1-v2/260000/32532E69-69F7-1B49-8CE5-72D0ADDFA870.root',\n",
       "  'root://cmsxrootd.fnal.gov///store/mc/RunIISummer20UL18NanoAODv9/Z2JetsToNuNu_M-50_LHEFilterPtZ-50To150_MatchEWPDG20_TuneCP5_13TeV-amcatnloFXFX-pythia8/NANOAODSIM/106X_upgrade2018_realistic_v16_L1v1-v2/260000/379500C3-780E-6446-953F-D8C2CA0F10F8.root',\n",
       "  'root://cmsxrootd.fnal.gov///store/mc/RunIISummer20UL18NanoAODv9/Z2JetsToNuNu_M-50_LHEFilterPtZ-50To150_MatchEWPDG20_TuneCP5_13TeV-amcatnloFXFX-pythia8/NANOAODSIM/106X_upgrade2018_realistic_v16_L1v1-v2/260000/46FE22DB-C484-BE42-911A-9449FE1D5B77.root',\n",
       "  'root://cmsxrootd.fnal.gov///store/mc/RunIISummer20UL18NanoAODv9/Z2JetsToNuNu_M-50_LHEFilterPtZ-50To150_MatchEWPDG20_TuneCP5_13TeV-amcatnloFXFX-pythia8/NANOAODSIM/106X_upgrade2018_realistic_v16_L1v1-v2/260000/476DF161-E152-924A-9354-58A412BF68EE.root',\n",
       "  'root://cmsxrootd.fnal.gov///store/mc/RunIISummer20UL18NanoAODv9/Z2JetsToNuNu_M-50_LHEFilterPtZ-50To150_MatchEWPDG20_TuneCP5_13TeV-amcatnloFXFX-pythia8/NANOAODSIM/106X_upgrade2018_realistic_v16_L1v1-v2/260000/4780B36A-9B7E-B946-AA22-8132F229C288.root',\n",
       "  'root://cmsxrootd.fnal.gov///store/mc/RunIISummer20UL18NanoAODv9/Z2JetsToNuNu_M-50_LHEFilterPtZ-50To150_MatchEWPDG20_TuneCP5_13TeV-amcatnloFXFX-pythia8/NANOAODSIM/106X_upgrade2018_realistic_v16_L1v1-v2/260000/4E49D319-1AE0-D441-A65E-81A725B3352F.root',\n",
       "  'root://cmsxrootd.fnal.gov///store/mc/RunIISummer20UL18NanoAODv9/Z2JetsToNuNu_M-50_LHEFilterPtZ-50To150_MatchEWPDG20_TuneCP5_13TeV-amcatnloFXFX-pythia8/NANOAODSIM/106X_upgrade2018_realistic_v16_L1v1-v2/260000/57A07748-171A-2047-BB88-2A709CF3715A.root',\n",
       "  'root://cmsxrootd.fnal.gov///store/mc/RunIISummer20UL18NanoAODv9/Z2JetsToNuNu_M-50_LHEFilterPtZ-50To150_MatchEWPDG20_TuneCP5_13TeV-amcatnloFXFX-pythia8/NANOAODSIM/106X_upgrade2018_realistic_v16_L1v1-v2/260000/580B9C1E-0E48-9A47-86F4-9EBF0C172DA6.root',\n",
       "  'root://cmsxrootd.fnal.gov///store/mc/RunIISummer20UL18NanoAODv9/Z2JetsToNuNu_M-50_LHEFilterPtZ-50To150_MatchEWPDG20_TuneCP5_13TeV-amcatnloFXFX-pythia8/NANOAODSIM/106X_upgrade2018_realistic_v16_L1v1-v2/260000/59039DDF-82C2-5E43-86B2-3E4ED2314516.root',\n",
       "  'root://cmsxrootd.fnal.gov///store/mc/RunIISummer20UL18NanoAODv9/Z2JetsToNuNu_M-50_LHEFilterPtZ-50To150_MatchEWPDG20_TuneCP5_13TeV-amcatnloFXFX-pythia8/NANOAODSIM/106X_upgrade2018_realistic_v16_L1v1-v2/260000/62975159-54C5-304C-BF9B-36F39C863886.root',\n",
       "  'root://cmsxrootd.fnal.gov///store/mc/RunIISummer20UL18NanoAODv9/Z2JetsToNuNu_M-50_LHEFilterPtZ-50To150_MatchEWPDG20_TuneCP5_13TeV-amcatnloFXFX-pythia8/NANOAODSIM/106X_upgrade2018_realistic_v16_L1v1-v2/260000/63BF8863-1003-0540-AA4D-D169DF469615.root',\n",
       "  'root://cmsxrootd.fnal.gov///store/mc/RunIISummer20UL18NanoAODv9/Z2JetsToNuNu_M-50_LHEFilterPtZ-50To150_MatchEWPDG20_TuneCP5_13TeV-amcatnloFXFX-pythia8/NANOAODSIM/106X_upgrade2018_realistic_v16_L1v1-v2/260000/704819C7-C281-C349-BA99-90907AC17213.root',\n",
       "  'root://cmsxrootd.fnal.gov///store/mc/RunIISummer20UL18NanoAODv9/Z2JetsToNuNu_M-50_LHEFilterPtZ-50To150_MatchEWPDG20_TuneCP5_13TeV-amcatnloFXFX-pythia8/NANOAODSIM/106X_upgrade2018_realistic_v16_L1v1-v2/260000/72690B7A-408F-A94C-894D-19123254396E.root',\n",
       "  'root://cmsxrootd.fnal.gov///store/mc/RunIISummer20UL18NanoAODv9/Z2JetsToNuNu_M-50_LHEFilterPtZ-150To250_MatchEWPDG20_TuneCP5_13TeV-amcatnloFXFX-pythia8/NANOAODSIM/106X_upgrade2018_realistic_v16_L1v1-v2/2520000/4258322E-C506-D948-A741-8215643FA65B.root',\n",
       "  'root://cmsxrootd.fnal.gov///store/mc/RunIISummer20UL18NanoAODv9/Z2JetsToNuNu_M-50_LHEFilterPtZ-150To250_MatchEWPDG20_TuneCP5_13TeV-amcatnloFXFX-pythia8/NANOAODSIM/106X_upgrade2018_realistic_v16_L1v1-v2/2520000/8192962A-B27D-A84D-84BE-56308098E439.root',\n",
       "  'root://cmsxrootd.fnal.gov///store/mc/RunIISummer20UL18NanoAODv9/Z2JetsToNuNu_M-50_LHEFilterPtZ-150To250_MatchEWPDG20_TuneCP5_13TeV-amcatnloFXFX-pythia8/NANOAODSIM/106X_upgrade2018_realistic_v16_L1v1-v2/2520000/8C6B134F-085B-E149-B522-8A9A22C5B890.root',\n",
       "  'root://cmsxrootd.fnal.gov///store/mc/RunIISummer20UL18NanoAODv9/Z2JetsToNuNu_M-50_LHEFilterPtZ-150To250_MatchEWPDG20_TuneCP5_13TeV-amcatnloFXFX-pythia8/NANOAODSIM/106X_upgrade2018_realistic_v16_L1v1-v2/2520000/8E72F398-6707-C04C-85E7-595171BACFE1.root',\n",
       "  'root://cmsxrootd.fnal.gov///store/mc/RunIISummer20UL18NanoAODv9/Z2JetsToNuNu_M-50_LHEFilterPtZ-150To250_MatchEWPDG20_TuneCP5_13TeV-amcatnloFXFX-pythia8/NANOAODSIM/106X_upgrade2018_realistic_v16_L1v1-v2/2520000/A3CCE28F-2CBD-8543-AAF7-44F8D878D03D.root',\n",
       "  'root://cmsxrootd.fnal.gov///store/mc/RunIISummer20UL18NanoAODv9/Z2JetsToNuNu_M-50_LHEFilterPtZ-150To250_MatchEWPDG20_TuneCP5_13TeV-amcatnloFXFX-pythia8/NANOAODSIM/106X_upgrade2018_realistic_v16_L1v1-v2/2520000/BFED2698-0375-B141-A07F-6AD3E3533A00.root',\n",
       "  'root://cmsxrootd.fnal.gov///store/mc/RunIISummer20UL18NanoAODv9/Z2JetsToNuNu_M-50_LHEFilterPtZ-150To250_MatchEWPDG20_TuneCP5_13TeV-amcatnloFXFX-pythia8/NANOAODSIM/106X_upgrade2018_realistic_v16_L1v1-v2/2520000/FDAEB4F9-C2E8-7E41-B780-9F3BA8503DB1.root',\n",
       "  'root://cmsxrootd.fnal.gov///store/mc/RunIISummer20UL18NanoAODv9/Z2JetsToNuNu_M-50_LHEFilterPtZ-150To250_MatchEWPDG20_TuneCP5_13TeV-amcatnloFXFX-pythia8/NANOAODSIM/106X_upgrade2018_realistic_v16_L1v1-v2/2530000/03AFC0DD-530C-DB4E-ABA3-8ABD8BF419F0.root',\n",
       "  'root://cmsxrootd.fnal.gov///store/mc/RunIISummer20UL18NanoAODv9/Z2JetsToNuNu_M-50_LHEFilterPtZ-150To250_MatchEWPDG20_TuneCP5_13TeV-amcatnloFXFX-pythia8/NANOAODSIM/106X_upgrade2018_realistic_v16_L1v1-v2/2530000/07A5046E-3F34-584D-AFE4-271C2840050C.root',\n",
       "  'root://cmsxrootd.fnal.gov///store/mc/RunIISummer20UL18NanoAODv9/Z2JetsToNuNu_M-50_LHEFilterPtZ-150To250_MatchEWPDG20_TuneCP5_13TeV-amcatnloFXFX-pythia8/NANOAODSIM/106X_upgrade2018_realistic_v16_L1v1-v2/2530000/0CD3BEF5-4EE0-B94D-B5D0-303AC025DE72.root',\n",
       "  'root://cmsxrootd.fnal.gov///store/mc/RunIISummer20UL18NanoAODv9/Z2JetsToNuNu_M-50_LHEFilterPtZ-150To250_MatchEWPDG20_TuneCP5_13TeV-amcatnloFXFX-pythia8/NANOAODSIM/106X_upgrade2018_realistic_v16_L1v1-v2/2530000/0F7BFCB3-2F28-C94C-BE92-8651DBF80229.root',\n",
       "  'root://cmsxrootd.fnal.gov///store/mc/RunIISummer20UL18NanoAODv9/Z2JetsToNuNu_M-50_LHEFilterPtZ-150To250_MatchEWPDG20_TuneCP5_13TeV-amcatnloFXFX-pythia8/NANOAODSIM/106X_upgrade2018_realistic_v16_L1v1-v2/2530000/14AB5466-7D7A-F34B-A378-8B553006C089.root',\n",
       "  'root://cmsxrootd.fnal.gov///store/mc/RunIISummer20UL18NanoAODv9/Z2JetsToNuNu_M-50_LHEFilterPtZ-150To250_MatchEWPDG20_TuneCP5_13TeV-amcatnloFXFX-pythia8/NANOAODSIM/106X_upgrade2018_realistic_v16_L1v1-v2/2530000/18F71029-AA5F-AF4E-BB14-5130837C427C.root',\n",
       "  'root://cmsxrootd.fnal.gov///store/mc/RunIISummer20UL18NanoAODv9/Z2JetsToNuNu_M-50_LHEFilterPtZ-150To250_MatchEWPDG20_TuneCP5_13TeV-amcatnloFXFX-pythia8/NANOAODSIM/106X_upgrade2018_realistic_v16_L1v1-v2/2530000/199F8F9A-1887-3A48-B61F-33442DD33F74.root',\n",
       "  'root://cmsxrootd.fnal.gov///store/mc/RunIISummer20UL18NanoAODv9/Z2JetsToNuNu_M-50_LHEFilterPtZ-150To250_MatchEWPDG20_TuneCP5_13TeV-amcatnloFXFX-pythia8/NANOAODSIM/106X_upgrade2018_realistic_v16_L1v1-v2/2530000/21883930-FEDC-1248-B1E8-6A41ECAE0A38.root',\n",
       "  'root://cmsxrootd.fnal.gov///store/mc/RunIISummer20UL18NanoAODv9/Z2JetsToNuNu_M-50_LHEFilterPtZ-150To250_MatchEWPDG20_TuneCP5_13TeV-amcatnloFXFX-pythia8/NANOAODSIM/106X_upgrade2018_realistic_v16_L1v1-v2/2530000/24BA0CE7-7C0A-3048-B21B-1ED0F63FAE2D.root',\n",
       "  'root://cmsxrootd.fnal.gov///store/mc/RunIISummer20UL18NanoAODv9/Z2JetsToNuNu_M-50_LHEFilterPtZ-150To250_MatchEWPDG20_TuneCP5_13TeV-amcatnloFXFX-pythia8/NANOAODSIM/106X_upgrade2018_realistic_v16_L1v1-v2/2530000/28D6F3C0-769D-D74B-A0D1-B8A801285FD0.root',\n",
       "  'root://cmsxrootd.fnal.gov///store/mc/RunIISummer20UL18NanoAODv9/Z2JetsToNuNu_M-50_LHEFilterPtZ-150To250_MatchEWPDG20_TuneCP5_13TeV-amcatnloFXFX-pythia8/NANOAODSIM/106X_upgrade2018_realistic_v16_L1v1-v2/2530000/2BC28963-C55A-1F43-8BE1-50FD5607C0F0.root',\n",
       "  'root://cmsxrootd.fnal.gov///store/mc/RunIISummer20UL18NanoAODv9/Z2JetsToNuNu_M-50_LHEFilterPtZ-150To250_MatchEWPDG20_TuneCP5_13TeV-amcatnloFXFX-pythia8/NANOAODSIM/106X_upgrade2018_realistic_v16_L1v1-v2/2530000/2E6C3694-E61C-8745-97E3-48C6DF5A468B.root',\n",
       "  'root://cmsxrootd.fnal.gov///store/mc/RunIISummer20UL18NanoAODv9/Z2JetsToNuNu_M-50_LHEFilterPtZ-150To250_MatchEWPDG20_TuneCP5_13TeV-amcatnloFXFX-pythia8/NANOAODSIM/106X_upgrade2018_realistic_v16_L1v1-v2/2530000/394200CD-1FCA-BF4D-A961-B7D53578D21C.root',\n",
       "  'root://cmsxrootd.fnal.gov///store/mc/RunIISummer20UL18NanoAODv9/Z2JetsToNuNu_M-50_LHEFilterPtZ-150To250_MatchEWPDG20_TuneCP5_13TeV-amcatnloFXFX-pythia8/NANOAODSIM/106X_upgrade2018_realistic_v16_L1v1-v2/2530000/3B3EDFEE-0632-6241-AD3E-34C75B6C81C7.root',\n",
       "  'root://cmsxrootd.fnal.gov///store/mc/RunIISummer20UL18NanoAODv9/Z2JetsToNuNu_M-50_LHEFilterPtZ-150To250_MatchEWPDG20_TuneCP5_13TeV-amcatnloFXFX-pythia8/NANOAODSIM/106X_upgrade2018_realistic_v16_L1v1-v2/2530000/3E4DD82D-8909-804B-B835-715E5F1A4891.root',\n",
       "  'root://cmsxrootd.fnal.gov///store/mc/RunIISummer20UL18NanoAODv9/Z2JetsToNuNu_M-50_LHEFilterPtZ-150To250_MatchEWPDG20_TuneCP5_13TeV-amcatnloFXFX-pythia8/NANOAODSIM/106X_upgrade2018_realistic_v16_L1v1-v2/2530000/443E460F-9980-BF42-A5D5-C819009D6090.root',\n",
       "  'root://cmsxrootd.fnal.gov///store/mc/RunIISummer20UL18NanoAODv9/Z2JetsToNuNu_M-50_LHEFilterPtZ-150To250_MatchEWPDG20_TuneCP5_13TeV-amcatnloFXFX-pythia8/NANOAODSIM/106X_upgrade2018_realistic_v16_L1v1-v2/2530000/4909F520-3C24-9740-A27B-F3BDB779528E.root',\n",
       "  'root://cmsxrootd.fnal.gov///store/mc/RunIISummer20UL18NanoAODv9/Z2JetsToNuNu_M-50_LHEFilterPtZ-150To250_MatchEWPDG20_TuneCP5_13TeV-amcatnloFXFX-pythia8/NANOAODSIM/106X_upgrade2018_realistic_v16_L1v1-v2/2530000/4976A052-BD3C-4748-813A-E8A157AB662C.root',\n",
       "  'root://cmsxrootd.fnal.gov///store/mc/RunIISummer20UL18NanoAODv9/Z2JetsToNuNu_M-50_LHEFilterPtZ-150To250_MatchEWPDG20_TuneCP5_13TeV-amcatnloFXFX-pythia8/NANOAODSIM/106X_upgrade2018_realistic_v16_L1v1-v2/2530000/4A3B5650-A87F-F14B-844F-8014E2515E4E.root',\n",
       "  'root://cmsxrootd.fnal.gov///store/mc/RunIISummer20UL18NanoAODv9/Z2JetsToNuNu_M-50_LHEFilterPtZ-150To250_MatchEWPDG20_TuneCP5_13TeV-amcatnloFXFX-pythia8/NANOAODSIM/106X_upgrade2018_realistic_v16_L1v1-v2/2530000/4A3F47D4-CE67-7A4A-8EFF-CD9FC1F2C5AC.root',\n",
       "  'root://cmsxrootd.fnal.gov///store/mc/RunIISummer20UL18NanoAODv9/Z2JetsToNuNu_M-50_LHEFilterPtZ-250To400_MatchEWPDG20_TuneCP5_13TeV-amcatnloFXFX-pythia8/NANOAODSIM/106X_upgrade2018_realistic_v16_L1v1-v2/110000/0578AAC5-73D9-2549-81AE-15780AA2AC09.root',\n",
       "  'root://cmsxrootd.fnal.gov///store/mc/RunIISummer20UL18NanoAODv9/Z2JetsToNuNu_M-50_LHEFilterPtZ-250To400_MatchEWPDG20_TuneCP5_13TeV-amcatnloFXFX-pythia8/NANOAODSIM/106X_upgrade2018_realistic_v16_L1v1-v2/110000/10F5455F-F6B7-574D-96AF-BB5BE84F0E96.root',\n",
       "  'root://cmsxrootd.fnal.gov///store/mc/RunIISummer20UL18NanoAODv9/Z2JetsToNuNu_M-50_LHEFilterPtZ-250To400_MatchEWPDG20_TuneCP5_13TeV-amcatnloFXFX-pythia8/NANOAODSIM/106X_upgrade2018_realistic_v16_L1v1-v2/110000/13AABFA5-D2A6-0245-B35D-CD3B62252DE8.root',\n",
       "  'root://cmsxrootd.fnal.gov///store/mc/RunIISummer20UL18NanoAODv9/Z2JetsToNuNu_M-50_LHEFilterPtZ-250To400_MatchEWPDG20_TuneCP5_13TeV-amcatnloFXFX-pythia8/NANOAODSIM/106X_upgrade2018_realistic_v16_L1v1-v2/110000/2386A3A7-BEFB-F24D-8B6E-6F0D3B112E01.root',\n",
       "  'root://cmsxrootd.fnal.gov///store/mc/RunIISummer20UL18NanoAODv9/Z2JetsToNuNu_M-50_LHEFilterPtZ-250To400_MatchEWPDG20_TuneCP5_13TeV-amcatnloFXFX-pythia8/NANOAODSIM/106X_upgrade2018_realistic_v16_L1v1-v2/110000/2BB7E613-FDEE-7D47-A37C-33A2D429B2E9.root',\n",
       "  'root://cmsxrootd.fnal.gov///store/mc/RunIISummer20UL18NanoAODv9/Z2JetsToNuNu_M-50_LHEFilterPtZ-250To400_MatchEWPDG20_TuneCP5_13TeV-amcatnloFXFX-pythia8/NANOAODSIM/106X_upgrade2018_realistic_v16_L1v1-v2/110000/3E5ECEFD-C077-3F41-A0D1-CFCB16AAB356.root',\n",
       "  'root://cmsxrootd.fnal.gov///store/mc/RunIISummer20UL18NanoAODv9/Z2JetsToNuNu_M-50_LHEFilterPtZ-250To400_MatchEWPDG20_TuneCP5_13TeV-amcatnloFXFX-pythia8/NANOAODSIM/106X_upgrade2018_realistic_v16_L1v1-v2/110000/7092D9EC-1234-8B4A-BC13-60C3B5A8100F.root',\n",
       "  'root://cmsxrootd.fnal.gov///store/mc/RunIISummer20UL18NanoAODv9/Z2JetsToNuNu_M-50_LHEFilterPtZ-250To400_MatchEWPDG20_TuneCP5_13TeV-amcatnloFXFX-pythia8/NANOAODSIM/106X_upgrade2018_realistic_v16_L1v1-v2/110000/94150BAB-D7B5-3C47-ACFD-B13896F50BF1.root',\n",
       "  'root://cmsxrootd.fnal.gov///store/mc/RunIISummer20UL18NanoAODv9/Z2JetsToNuNu_M-50_LHEFilterPtZ-250To400_MatchEWPDG20_TuneCP5_13TeV-amcatnloFXFX-pythia8/NANOAODSIM/106X_upgrade2018_realistic_v16_L1v1-v2/110000/A4927473-B99C-3841-8651-44E95288218A.root',\n",
       "  'root://cmsxrootd.fnal.gov///store/mc/RunIISummer20UL18NanoAODv9/Z2JetsToNuNu_M-50_LHEFilterPtZ-250To400_MatchEWPDG20_TuneCP5_13TeV-amcatnloFXFX-pythia8/NANOAODSIM/106X_upgrade2018_realistic_v16_L1v1-v2/110000/B616DA62-F54D-704F-98D4-C975B86F6431.root',\n",
       "  'root://cmsxrootd.fnal.gov///store/mc/RunIISummer20UL18NanoAODv9/Z2JetsToNuNu_M-50_LHEFilterPtZ-250To400_MatchEWPDG20_TuneCP5_13TeV-amcatnloFXFX-pythia8/NANOAODSIM/106X_upgrade2018_realistic_v16_L1v1-v2/110000/D4A3E8BF-D1D3-D144-96CC-B77DC892D0C2.root',\n",
       "  'root://cmsxrootd.fnal.gov///store/mc/RunIISummer20UL18NanoAODv9/Z2JetsToNuNu_M-50_LHEFilterPtZ-250To400_MatchEWPDG20_TuneCP5_13TeV-amcatnloFXFX-pythia8/NANOAODSIM/106X_upgrade2018_realistic_v16_L1v1-v2/110000/E05A337F-B546-5E4B-AE7C-4744A0A3CF01.root',\n",
       "  'root://cmsxrootd.fnal.gov///store/mc/RunIISummer20UL18NanoAODv9/Z2JetsToNuNu_M-50_LHEFilterPtZ-250To400_MatchEWPDG20_TuneCP5_13TeV-amcatnloFXFX-pythia8/NANOAODSIM/106X_upgrade2018_realistic_v16_L1v1-v2/110000/E80B11B5-2212-044A-AFFD-EBE969C0ADBC.root',\n",
       "  'root://cmsxrootd.fnal.gov///store/mc/RunIISummer20UL18NanoAODv9/Z2JetsToNuNu_M-50_LHEFilterPtZ-250To400_MatchEWPDG20_TuneCP5_13TeV-amcatnloFXFX-pythia8/NANOAODSIM/106X_upgrade2018_realistic_v16_L1v1-v2/110000/E959EADF-DBF2-5046-8870-20595C85341D.root',\n",
       "  'root://cmsxrootd.fnal.gov///store/mc/RunIISummer20UL18NanoAODv9/Z2JetsToNuNu_M-50_LHEFilterPtZ-250To400_MatchEWPDG20_TuneCP5_13TeV-amcatnloFXFX-pythia8/NANOAODSIM/106X_upgrade2018_realistic_v16_L1v1-v2/230000/009F15A8-B2C8-3146-AB08-B178FAB6A3F9.root',\n",
       "  'root://cmsxrootd.fnal.gov///store/mc/RunIISummer20UL18NanoAODv9/Z2JetsToNuNu_M-50_LHEFilterPtZ-250To400_MatchEWPDG20_TuneCP5_13TeV-amcatnloFXFX-pythia8/NANOAODSIM/106X_upgrade2018_realistic_v16_L1v1-v2/230000/0302414C-023B-7D4B-A3B2-5BB1E8DF47C6.root',\n",
       "  'root://cmsxrootd.fnal.gov///store/mc/RunIISummer20UL18NanoAODv9/Z2JetsToNuNu_M-50_LHEFilterPtZ-250To400_MatchEWPDG20_TuneCP5_13TeV-amcatnloFXFX-pythia8/NANOAODSIM/106X_upgrade2018_realistic_v16_L1v1-v2/230000/09E7A5B0-D51D-2249-901F-0CAE3DBFDC7D.root',\n",
       "  'root://cmsxrootd.fnal.gov///store/mc/RunIISummer20UL18NanoAODv9/Z2JetsToNuNu_M-50_LHEFilterPtZ-250To400_MatchEWPDG20_TuneCP5_13TeV-amcatnloFXFX-pythia8/NANOAODSIM/106X_upgrade2018_realistic_v16_L1v1-v2/230000/0A346CCA-4B27-534E-B112-829A850A3BDD.root',\n",
       "  'root://cmsxrootd.fnal.gov///store/mc/RunIISummer20UL18NanoAODv9/Z2JetsToNuNu_M-50_LHEFilterPtZ-250To400_MatchEWPDG20_TuneCP5_13TeV-amcatnloFXFX-pythia8/NANOAODSIM/106X_upgrade2018_realistic_v16_L1v1-v2/230000/19A04E33-AACC-F84C-9089-FE4EE7ED80D3.root',\n",
       "  'root://cmsxrootd.fnal.gov///store/mc/RunIISummer20UL18NanoAODv9/Z2JetsToNuNu_M-50_LHEFilterPtZ-250To400_MatchEWPDG20_TuneCP5_13TeV-amcatnloFXFX-pythia8/NANOAODSIM/106X_upgrade2018_realistic_v16_L1v1-v2/230000/1BDE9DB5-CDC6-B341-BA6E-B2DAF96F34FD.root',\n",
       "  'root://cmsxrootd.fnal.gov///store/mc/RunIISummer20UL18NanoAODv9/Z2JetsToNuNu_M-50_LHEFilterPtZ-250To400_MatchEWPDG20_TuneCP5_13TeV-amcatnloFXFX-pythia8/NANOAODSIM/106X_upgrade2018_realistic_v16_L1v1-v2/230000/397F41A8-7D73-9C42-8541-2B6ED831F7B7.root',\n",
       "  'root://cmsxrootd.fnal.gov///store/mc/RunIISummer20UL18NanoAODv9/Z2JetsToNuNu_M-50_LHEFilterPtZ-400ToInf_MatchEWPDG20_TuneCP5_13TeV-amcatnloFXFX-pythia8/NANOAODSIM/106X_upgrade2018_realistic_v16_L1v1-v2/250000/00F85493-F90B-614F-9A15-8FAC7F453087.root',\n",
       "  'root://cmsxrootd.fnal.gov///store/mc/RunIISummer20UL18NanoAODv9/Z2JetsToNuNu_M-50_LHEFilterPtZ-400ToInf_MatchEWPDG20_TuneCP5_13TeV-amcatnloFXFX-pythia8/NANOAODSIM/106X_upgrade2018_realistic_v16_L1v1-v2/250000/2EF80BFA-3194-D74C-A563-15A037A209DC.root',\n",
       "  'root://cmsxrootd.fnal.gov///store/mc/RunIISummer20UL18NanoAODv9/Z2JetsToNuNu_M-50_LHEFilterPtZ-400ToInf_MatchEWPDG20_TuneCP5_13TeV-amcatnloFXFX-pythia8/NANOAODSIM/106X_upgrade2018_realistic_v16_L1v1-v2/250000/45E0C039-841A-3C40-A2B3-0B19D3A14463.root',\n",
       "  'root://cmsxrootd.fnal.gov///store/mc/RunIISummer20UL18NanoAODv9/Z2JetsToNuNu_M-50_LHEFilterPtZ-400ToInf_MatchEWPDG20_TuneCP5_13TeV-amcatnloFXFX-pythia8/NANOAODSIM/106X_upgrade2018_realistic_v16_L1v1-v2/250000/8F7191FA-E6C1-BA4A-B5FA-2DCB22494318.root',\n",
       "  'root://cmsxrootd.fnal.gov///store/mc/RunIISummer20UL18NanoAODv9/Z2JetsToNuNu_M-50_LHEFilterPtZ-400ToInf_MatchEWPDG20_TuneCP5_13TeV-amcatnloFXFX-pythia8/NANOAODSIM/106X_upgrade2018_realistic_v16_L1v1-v2/250000/95F9DB6A-B17A-3145-BE24-FC5F5B140FFE.root',\n",
       "  'root://cmsxrootd.fnal.gov///store/mc/RunIISummer20UL18NanoAODv9/Z2JetsToNuNu_M-50_LHEFilterPtZ-400ToInf_MatchEWPDG20_TuneCP5_13TeV-amcatnloFXFX-pythia8/NANOAODSIM/106X_upgrade2018_realistic_v16_L1v1-v2/250000/964CABF6-12EE-0D4E-A9C9-67BC60BFAE1E.root',\n",
       "  'root://cmsxrootd.fnal.gov///store/mc/RunIISummer20UL18NanoAODv9/Z2JetsToNuNu_M-50_LHEFilterPtZ-400ToInf_MatchEWPDG20_TuneCP5_13TeV-amcatnloFXFX-pythia8/NANOAODSIM/106X_upgrade2018_realistic_v16_L1v1-v2/250000/97692B71-B9D2-244E-8C57-9A53DB39F28C.root',\n",
       "  'root://cmsxrootd.fnal.gov///store/mc/RunIISummer20UL18NanoAODv9/Z2JetsToNuNu_M-50_LHEFilterPtZ-400ToInf_MatchEWPDG20_TuneCP5_13TeV-amcatnloFXFX-pythia8/NANOAODSIM/106X_upgrade2018_realistic_v16_L1v1-v2/250000/99D67605-523D-B64E-8ACD-6358B59A103B.root',\n",
       "  'root://cmsxrootd.fnal.gov///store/mc/RunIISummer20UL18NanoAODv9/Z2JetsToNuNu_M-50_LHEFilterPtZ-400ToInf_MatchEWPDG20_TuneCP5_13TeV-amcatnloFXFX-pythia8/NANOAODSIM/106X_upgrade2018_realistic_v16_L1v1-v2/250000/9A0CE0A0-E9A4-C844-9052-2AFB8725B458.root',\n",
       "  'root://cmsxrootd.fnal.gov///store/mc/RunIISummer20UL18NanoAODv9/Z2JetsToNuNu_M-50_LHEFilterPtZ-400ToInf_MatchEWPDG20_TuneCP5_13TeV-amcatnloFXFX-pythia8/NANOAODSIM/106X_upgrade2018_realistic_v16_L1v1-v2/250000/9B9F9FE8-D54E-4845-9E5C-7A7A64B70D07.root',\n",
       "  'root://cmsxrootd.fnal.gov///store/mc/RunIISummer20UL18NanoAODv9/Z2JetsToNuNu_M-50_LHEFilterPtZ-400ToInf_MatchEWPDG20_TuneCP5_13TeV-amcatnloFXFX-pythia8/NANOAODSIM/106X_upgrade2018_realistic_v16_L1v1-v2/250000/BBA73F6B-7A7A-F34D-B885-8112ABD0AAA5.root',\n",
       "  'root://cmsxrootd.fnal.gov///store/mc/RunIISummer20UL18NanoAODv9/Z2JetsToNuNu_M-50_LHEFilterPtZ-400ToInf_MatchEWPDG20_TuneCP5_13TeV-amcatnloFXFX-pythia8/NANOAODSIM/106X_upgrade2018_realistic_v16_L1v1-v2/250000/CA9D4B4D-8BD0-9B44-BD1F-AB15BDB57E19.root',\n",
       "  'root://cmsxrootd.fnal.gov///store/mc/RunIISummer20UL18NanoAODv9/Z2JetsToNuNu_M-50_LHEFilterPtZ-400ToInf_MatchEWPDG20_TuneCP5_13TeV-amcatnloFXFX-pythia8/NANOAODSIM/106X_upgrade2018_realistic_v16_L1v1-v2/250000/D70FE038-36B4-3449-8B19-10A5C7DA915E.root',\n",
       "  'root://cmsxrootd.fnal.gov///store/mc/RunIISummer20UL18NanoAODv9/Z2JetsToNuNu_M-50_LHEFilterPtZ-400ToInf_MatchEWPDG20_TuneCP5_13TeV-amcatnloFXFX-pythia8/NANOAODSIM/106X_upgrade2018_realistic_v16_L1v1-v2/250000/DB4B65F2-6830-0341-97FF-89B2067CCAF5.root',\n",
       "  'root://cmsxrootd.fnal.gov///store/mc/RunIISummer20UL18NanoAODv9/Z2JetsToNuNu_M-50_LHEFilterPtZ-400ToInf_MatchEWPDG20_TuneCP5_13TeV-amcatnloFXFX-pythia8/NANOAODSIM/106X_upgrade2018_realistic_v16_L1v1-v2/250000/DD4AE989-1360-EA40-8CD9-3B191B905780.root',\n",
       "  'root://cmsxrootd.fnal.gov///store/mc/RunIISummer20UL18NanoAODv9/Z2JetsToNuNu_M-50_LHEFilterPtZ-400ToInf_MatchEWPDG20_TuneCP5_13TeV-amcatnloFXFX-pythia8/NANOAODSIM/106X_upgrade2018_realistic_v16_L1v1-v2/2500000/70AE84F7-86DD-D44E-BCDA-36CA007EE545.root',\n",
       "  'root://cmsxrootd.fnal.gov///store/mc/RunIISummer20UL18NanoAODv9/Z2JetsToNuNu_M-50_LHEFilterPtZ-400ToInf_MatchEWPDG20_TuneCP5_13TeV-amcatnloFXFX-pythia8/NANOAODSIM/106X_upgrade2018_realistic_v16_L1v1-v2/40000/4A79B4F5-9B9B-5F46-AA35-3B65799B10DA.root',\n",
       "  'root://cmsxrootd.fnal.gov///store/mc/RunIISummer20UL18NanoAODv9/Z2JetsToNuNu_M-50_LHEFilterPtZ-400ToInf_MatchEWPDG20_TuneCP5_13TeV-amcatnloFXFX-pythia8/NANOAODSIM/106X_upgrade2018_realistic_v16_L1v1-v2/40000/52171D47-31B4-604F-99E2-8DA21D432E8C.root',\n",
       "  'root://cmsxrootd.fnal.gov///store/mc/RunIISummer20UL18NanoAODv9/Z2JetsToNuNu_M-50_LHEFilterPtZ-400ToInf_MatchEWPDG20_TuneCP5_13TeV-amcatnloFXFX-pythia8/NANOAODSIM/106X_upgrade2018_realistic_v16_L1v1-v2/40000/9076BFA6-493F-CE47-BF97-0DB57D20E97E.root',\n",
       "  'root://cmsxrootd.fnal.gov///store/mc/RunIISummer20UL18NanoAODv9/Z2JetsToNuNu_M-50_LHEFilterPtZ-400ToInf_MatchEWPDG20_TuneCP5_13TeV-amcatnloFXFX-pythia8/NANOAODSIM/106X_upgrade2018_realistic_v16_L1v1-v2/40000/A720557F-C6CA-C544-8D6A-285D3839073A.root',\n",
       "  'root://cmsxrootd.fnal.gov///store/mc/RunIISummer20UL18NanoAODv9/Z2JetsToNuNu_M-50_LHEFilterPtZ-400ToInf_MatchEWPDG20_TuneCP5_13TeV-amcatnloFXFX-pythia8/NANOAODSIM/106X_upgrade2018_realistic_v16_L1v1-v2/40000/B40DCDB4-7664-E44B-B09F-DFEEA352971C.root',\n",
       "  'root://cmsxrootd.fnal.gov///store/mc/RunIISummer20UL18NanoAODv9/Z2JetsToNuNu_M-50_LHEFilterPtZ-400ToInf_MatchEWPDG20_TuneCP5_13TeV-amcatnloFXFX-pythia8/NANOAODSIM/106X_upgrade2018_realistic_v16_L1v1-v2/40000/CC91168D-761C-4945-8AE0-34D4707A14C5.root',\n",
       "  'root://cmsxrootd.fnal.gov///store/mc/RunIISummer20UL18NanoAODv9/Z2JetsToNuNu_M-50_LHEFilterPtZ-400ToInf_MatchEWPDG20_TuneCP5_13TeV-amcatnloFXFX-pythia8/NANOAODSIM/106X_upgrade2018_realistic_v16_L1v1-v2/40000/D04AEB06-1551-254D-A078-34BD34035F0E.root']}"
      ]
     },
     "execution_count": 32,
     "metadata": {},
     "output_type": "execute_result"
    }
   ],
   "source": [
    "getDataset(\"Z1Jets_NuNu\")"
   ]
  },
  {
   "cell_type": "code",
   "execution_count": 33,
   "metadata": {},
   "outputs": [],
   "source": [
    "from coffea import util , processor"
   ]
  },
  {
   "cell_type": "code",
   "execution_count": 41,
   "metadata": {},
   "outputs": [
    {
     "data": {
      "text/plain": [
       "{'MET': {'Cutflow': {'Total_Events': 11502275,\n",
       "   'ReducedEvents': 662607,\n",
       "   'ak4bJetsTight': 27196,\n",
       "   'ak4bJetsTight_with_MET_cut': 2775,\n",
       "   'bbDiJets': 4361,\n",
       "   'bbDiJets_with_MET_cut': 476},\n",
       "  'Histograms': {'DiJet': Hist(Regular(50, 0, 1000, label='Axis 0'), storage=Double()) # Sum: 4273.0 (4361.0 with flow),\n",
       "   'DiJetMETcut': Hist(Regular(50, 0, 1000, label='Axis 0'), storage=Double()) # Sum: 471.0 (476.0 with flow)}},\n",
       " 'Z1Jets_NuNu': {'Cutflow': {'Total_Events': 4081536,\n",
       "   'ReducedEvents': 540821,\n",
       "   'ak4bJetsTight': 18380,\n",
       "   'ak4bJetsTight_with_MET_cut': 0,\n",
       "   'bbDiJets': 243,\n",
       "   'bbDiJets_with_MET_cut': 0},\n",
       "  'Histograms': {'DiJet': Hist(Regular(50, 0, 1000, label='Axis 0'), storage=Double()) # Sum: 243.0,\n",
       "   'DiJetMETcut': Hist(Regular(50, 0, 1000, label='Axis 0'), storage=Double())}}}"
      ]
     },
     "execution_count": 41,
     "metadata": {},
     "output_type": "execute_result"
    }
   ],
   "source": [
    "util.load(\"BackgroundDijets.coffea\")"
   ]
  }
 ],
 "metadata": {
  "kernelspec": {
   "display_name": "Python 3",
   "language": "python",
   "name": "python3"
  },
  "language_info": {
   "codemirror_mode": {
    "name": "ipython",
    "version": 3
   },
   "file_extension": ".py",
   "mimetype": "text/x-python",
   "name": "python",
   "nbconvert_exporter": "python",
   "pygments_lexer": "ipython3",
   "version": "3.10.12"
  }
 },
 "nbformat": 4,
 "nbformat_minor": 2
}
