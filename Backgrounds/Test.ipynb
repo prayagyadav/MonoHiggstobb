{
 "cells": [
  {
   "cell_type": "code",
   "execution_count": 28,
   "metadata": {},
   "outputs": [],
   "source": [
    "from monoHbbtools import Load"
   ]
  },
  {
   "cell_type": "code",
   "execution_count": 29,
   "metadata": {},
   "outputs": [],
   "source": [
    "f = Load.Loadfileset(\"../monoHbbtools/Load/fileset.json\")"
   ]
  },
  {
   "cell_type": "code",
   "execution_count": 30,
   "metadata": {},
   "outputs": [
    {
     "data": {
      "text/html": [
       "<pre style=\"white-space:pre;overflow-x:auto;line-height:normal;font-family:Menlo,'DejaVu Sans Mono',consolas,'Courier New',monospace\">Data : \n",
       "<span style=\"font-weight: bold\">[</span><span style=\"color: #008000; text-decoration-color: #008000\">'MET_Run2018A'</span><span style=\"font-weight: bold\">]</span>\n",
       "</pre>\n"
      ],
      "text/plain": [
       "Data : \n",
       "\u001b[1m[\u001b[0m\u001b[32m'MET_Run2018A'\u001b[0m\u001b[1m]\u001b[0m\n"
      ]
     },
     "metadata": {},
     "output_type": "display_data"
    },
    {
     "data": {
      "text/html": [
       "<pre style=\"white-space:pre;overflow-x:auto;line-height:normal;font-family:Menlo,'DejaVu Sans Mono',consolas,'Courier New',monospace\">MC : \n",
       "<span style=\"font-weight: bold\">[</span><span style=\"color: #008000; text-decoration-color: #008000\">'MonoHbbZpBaryonic'</span><span style=\"font-weight: bold\">]</span>\n",
       "</pre>\n"
      ],
      "text/plain": [
       "MC : \n",
       "\u001b[1m[\u001b[0m\u001b[32m'MonoHbbZpBaryonic'\u001b[0m\u001b[1m]\u001b[0m\n"
      ]
     },
     "metadata": {},
     "output_type": "display_data"
    }
   ],
   "source": [
    "f.Show(1)"
   ]
  },
  {
   "cell_type": "code",
   "execution_count": 31,
   "metadata": {},
   "outputs": [
    {
     "data": {
      "text/html": [
       "<pre style=\"white-space:pre;overflow-x:auto;line-height:normal;font-family:Menlo,'DejaVu Sans Mono',consolas,'Courier New',monospace\">Data : \n",
       "<span style=\"font-weight: bold\">[</span><span style=\"color: #008000; text-decoration-color: #008000\">'MET_Run2018A'</span><span style=\"font-weight: bold\">]</span>\n",
       "\n",
       "\n",
       "</pre>\n"
      ],
      "text/plain": [
       "Data : \n",
       "\u001b[1m[\u001b[0m\u001b[32m'MET_Run2018A'\u001b[0m\u001b[1m]\u001b[0m\n",
       "\n",
       "\n"
      ]
     },
     "metadata": {},
     "output_type": "display_data"
    },
    {
     "data": {
      "text/html": [
       "<pre style=\"white-space:pre;overflow-x:auto;line-height:normal;font-family:Menlo,'DejaVu Sans Mono',consolas,'Courier New',monospace\">        MET_Run2018A : \n",
       "</pre>\n"
      ],
      "text/plain": [
       "        MET_Run2018A : \n"
      ]
     },
     "metadata": {},
     "output_type": "display_data"
    },
    {
     "data": {
      "text/html": [
       "<pre style=\"white-space:pre;overflow-x:auto;line-height:normal;font-family:Menlo,'DejaVu Sans Mono',consolas,'Courier New',monospace\">         root:<span style=\"color: #800080; text-decoration-color: #800080\">//cmsxrootd.fnal.gov///store/data/Run2018A/MET/NANOAOD/UL2018_MiniAODv2_NanoAODv9-v2/110000/</span><span style=\"color: #ff00ff; text-decoration-color: #ff00ff\">0F8C0C8C-</span>\n",
       "<span style=\"color: #ff00ff; text-decoration-color: #ff00ff\">63E4-1D4E-A8DF-506BDB55BD43.root</span>\n",
       "</pre>\n"
      ],
      "text/plain": [
       "         root:\u001b[35m/\u001b[0m\u001b[35m/cmsxrootd.fnal.gov/\u001b[0m\u001b[35m/\u001b[0m\u001b[35m/store/data/Run2018A/MET/NANOAOD/UL2018_MiniAODv2_NanoAODv9-v2/110000/\u001b[0m\u001b[95m0F8C0C8C-\u001b[0m\n",
       "\u001b[95m63E4-1D4E-A8DF-506BDB55BD43.root\u001b[0m\n"
      ]
     },
     "metadata": {},
     "output_type": "display_data"
    },
    {
     "data": {
      "text/html": [
       "<pre style=\"white-space:pre;overflow-x:auto;line-height:normal;font-family:Menlo,'DejaVu Sans Mono',consolas,'Courier New',monospace\">         root:<span style=\"color: #800080; text-decoration-color: #800080\">//cmsxrootd.fnal.gov///store/data/Run2018A/MET/NANOAOD/UL2018_MiniAODv2_NanoAODv9-v2/110000/</span><span style=\"color: #ff00ff; text-decoration-color: #ff00ff\">10C73E73-</span>\n",
       "<span style=\"color: #ff00ff; text-decoration-color: #ff00ff\">0C15-2F4B-9E0B-E3DE1C54A597.root</span>\n",
       "</pre>\n"
      ],
      "text/plain": [
       "         root:\u001b[35m/\u001b[0m\u001b[35m/cmsxrootd.fnal.gov/\u001b[0m\u001b[35m/\u001b[0m\u001b[35m/store/data/Run2018A/MET/NANOAOD/UL2018_MiniAODv2_NanoAODv9-v2/110000/\u001b[0m\u001b[95m10C73E73-\u001b[0m\n",
       "\u001b[95m0C15-2F4B-9E0B-E3DE1C54A597.root\u001b[0m\n"
      ]
     },
     "metadata": {},
     "output_type": "display_data"
    },
    {
     "data": {
      "text/html": [
       "<pre style=\"white-space:pre;overflow-x:auto;line-height:normal;font-family:Menlo,'DejaVu Sans Mono',consolas,'Courier New',monospace\">         root:<span style=\"color: #800080; text-decoration-color: #800080\">//cmsxrootd.fnal.gov///store/data/Run2018A/MET/NANOAOD/UL2018_MiniAODv2_NanoAODv9-v2/110000/</span><span style=\"color: #ff00ff; text-decoration-color: #ff00ff\">1E8B7F5A-</span>\n",
       "<span style=\"color: #ff00ff; text-decoration-color: #ff00ff\">4B29-8F46-B2E1-549805E5CBB2.root</span>\n",
       "</pre>\n"
      ],
      "text/plain": [
       "         root:\u001b[35m/\u001b[0m\u001b[35m/cmsxrootd.fnal.gov/\u001b[0m\u001b[35m/\u001b[0m\u001b[35m/store/data/Run2018A/MET/NANOAOD/UL2018_MiniAODv2_NanoAODv9-v2/110000/\u001b[0m\u001b[95m1E8B7F5A-\u001b[0m\n",
       "\u001b[95m4B29-8F46-B2E1-549805E5CBB2.root\u001b[0m\n"
      ]
     },
     "metadata": {},
     "output_type": "display_data"
    },
    {
     "data": {
      "text/html": [
       "<pre style=\"white-space:pre;overflow-x:auto;line-height:normal;font-family:Menlo,'DejaVu Sans Mono',consolas,'Courier New',monospace\">         root:<span style=\"color: #800080; text-decoration-color: #800080\">//cmsxrootd.fnal.gov///store/data/Run2018A/MET/NANOAOD/UL2018_MiniAODv2_NanoAODv9-v2/110000/</span><span style=\"color: #ff00ff; text-decoration-color: #ff00ff\">1ED54027-</span>\n",
       "<span style=\"color: #ff00ff; text-decoration-color: #ff00ff\">5256-064F-A776-C10A0920256A.root</span>\n",
       "</pre>\n"
      ],
      "text/plain": [
       "         root:\u001b[35m/\u001b[0m\u001b[35m/cmsxrootd.fnal.gov/\u001b[0m\u001b[35m/\u001b[0m\u001b[35m/store/data/Run2018A/MET/NANOAOD/UL2018_MiniAODv2_NanoAODv9-v2/110000/\u001b[0m\u001b[95m1ED54027-\u001b[0m\n",
       "\u001b[95m5256-064F-A776-C10A0920256A.root\u001b[0m\n"
      ]
     },
     "metadata": {},
     "output_type": "display_data"
    },
    {
     "data": {
      "text/html": [
       "<pre style=\"white-space:pre;overflow-x:auto;line-height:normal;font-family:Menlo,'DejaVu Sans Mono',consolas,'Courier New',monospace\">         root:<span style=\"color: #800080; text-decoration-color: #800080\">//pubxrootd.hep.wisc.edu///store/data/Run2018A/MET/NANOAOD/UL2018_MiniAODv2_NanoAODv9-v2/110000/</span><span style=\"color: #ff00ff; text-decoration-color: #ff00ff\">4480C</span>\n",
       "<span style=\"color: #ff00ff; text-decoration-color: #ff00ff\">919-0BD7-B74D-8B6A-BFF37A1DB4DF.root</span>\n",
       "</pre>\n"
      ],
      "text/plain": [
       "         root:\u001b[35m/\u001b[0m\u001b[35m/pubxrootd.hep.wisc.edu/\u001b[0m\u001b[35m/\u001b[0m\u001b[35m/store/data/Run2018A/MET/NANOAOD/UL2018_MiniAODv2_NanoAODv9-v2/110000/\u001b[0m\u001b[95m4480C\u001b[0m\n",
       "\u001b[95m919-0BD7-B74D-8B6A-BFF37A1DB4DF.root\u001b[0m\n"
      ]
     },
     "metadata": {},
     "output_type": "display_data"
    },
    {
     "data": {
      "text/html": [
       "<pre style=\"white-space:pre;overflow-x:auto;line-height:normal;font-family:Menlo,'DejaVu Sans Mono',consolas,'Courier New',monospace\">MC : \n",
       "<span style=\"font-weight: bold\">[</span><span style=\"color: #008000; text-decoration-color: #008000\">'MonoHbbZpBaryonic'</span><span style=\"font-weight: bold\">]</span>\n",
       "\n",
       "\n",
       "</pre>\n"
      ],
      "text/plain": [
       "MC : \n",
       "\u001b[1m[\u001b[0m\u001b[32m'MonoHbbZpBaryonic'\u001b[0m\u001b[1m]\u001b[0m\n",
       "\n",
       "\n"
      ]
     },
     "metadata": {},
     "output_type": "display_data"
    },
    {
     "data": {
      "text/html": [
       "<pre style=\"white-space:pre;overflow-x:auto;line-height:normal;font-family:Menlo,'DejaVu Sans Mono',consolas,'Courier New',monospace\">        MonoHbbZpBaryonic : \n",
       "</pre>\n"
      ],
      "text/plain": [
       "        MonoHbbZpBaryonic : \n"
      ]
     },
     "metadata": {},
     "output_type": "display_data"
    },
    {
     "data": {
      "text/html": [
       "<pre style=\"white-space:pre;overflow-x:auto;line-height:normal;font-family:Menlo,'DejaVu Sans Mono',consolas,'Courier New',monospace\">         root:<span style=\"color: #800080; text-decoration-color: #800080\">//cmsxrootd.fnal.gov///store/mc/RunIIAutumn18NanoAODv7/MonoHTobb_ZpBaryonic_TuneCP2_13TeV_madgraph-py</span>\n",
       "<span style=\"color: #800080; text-decoration-color: #800080\">thia8/NANOAODSIM/Nano02Apr2020_rp_102X_upgrade2018_realistic_v21-v1/00000/</span><span style=\"color: #ff00ff; text-decoration-color: #ff00ff\">1171A356-937B-D346-B31E-D7397CD17A9E.root</span>\n",
       "</pre>\n"
      ],
      "text/plain": [
       "         root:\u001b[35m/\u001b[0m\u001b[35m/cmsxrootd.fnal.gov/\u001b[0m\u001b[35m/\u001b[0m\u001b[35m/store/mc/RunIIAutumn18NanoAODv7/MonoHTobb_ZpBaryonic_TuneCP2_13TeV_madgraph-py\u001b[0m\n",
       "\u001b[35mthia8/NANOAODSIM/Nano02Apr2020_rp_102X_upgrade2018_realistic_v21-v1/00000/\u001b[0m\u001b[95m1171A356-937B-D346-B31E-D7397CD17A9E.root\u001b[0m\n"
      ]
     },
     "metadata": {},
     "output_type": "display_data"
    },
    {
     "data": {
      "text/html": [
       "<pre style=\"white-space:pre;overflow-x:auto;line-height:normal;font-family:Menlo,'DejaVu Sans Mono',consolas,'Courier New',monospace\">         root:<span style=\"color: #800080; text-decoration-color: #800080\">//cmsxrootd.fnal.gov///store/mc/RunIIAutumn18NanoAODv7/MonoHTobb_ZpBaryonic_TuneCP2_13TeV_madgraph-py</span>\n",
       "<span style=\"color: #800080; text-decoration-color: #800080\">thia8/NANOAODSIM/Nano02Apr2020_rp_102X_upgrade2018_realistic_v21-v1/00000/</span><span style=\"color: #ff00ff; text-decoration-color: #ff00ff\">B92C3E7A-425A-2A40-812C-F733C1287C79.root</span>\n",
       "</pre>\n"
      ],
      "text/plain": [
       "         root:\u001b[35m/\u001b[0m\u001b[35m/cmsxrootd.fnal.gov/\u001b[0m\u001b[35m/\u001b[0m\u001b[35m/store/mc/RunIIAutumn18NanoAODv7/MonoHTobb_ZpBaryonic_TuneCP2_13TeV_madgraph-py\u001b[0m\n",
       "\u001b[35mthia8/NANOAODSIM/Nano02Apr2020_rp_102X_upgrade2018_realistic_v21-v1/00000/\u001b[0m\u001b[95mB92C3E7A-425A-2A40-812C-F733C1287C79.root\u001b[0m\n"
      ]
     },
     "metadata": {},
     "output_type": "display_data"
    },
    {
     "data": {
      "text/html": [
       "<pre style=\"white-space:pre;overflow-x:auto;line-height:normal;font-family:Menlo,'DejaVu Sans Mono',consolas,'Courier New',monospace\">         root:<span style=\"color: #800080; text-decoration-color: #800080\">//cmsxrootd.fnal.gov///store/mc/RunIIAutumn18NanoAODv7/MonoHTobb_ZpBaryonic_TuneCP2_13TeV_madgraph-py</span>\n",
       "<span style=\"color: #800080; text-decoration-color: #800080\">thia8/NANOAODSIM/Nano02Apr2020_rp_102X_upgrade2018_realistic_v21-v1/00000/</span><span style=\"color: #ff00ff; text-decoration-color: #ff00ff\">D53C3745-8D33-D34A-8FA2-2B42E1AB5FB4.root</span>\n",
       "</pre>\n"
      ],
      "text/plain": [
       "         root:\u001b[35m/\u001b[0m\u001b[35m/cmsxrootd.fnal.gov/\u001b[0m\u001b[35m/\u001b[0m\u001b[35m/store/mc/RunIIAutumn18NanoAODv7/MonoHTobb_ZpBaryonic_TuneCP2_13TeV_madgraph-py\u001b[0m\n",
       "\u001b[35mthia8/NANOAODSIM/Nano02Apr2020_rp_102X_upgrade2018_realistic_v21-v1/00000/\u001b[0m\u001b[95mD53C3745-8D33-D34A-8FA2-2B42E1AB5FB4.root\u001b[0m\n"
      ]
     },
     "metadata": {},
     "output_type": "display_data"
    },
    {
     "data": {
      "text/html": [
       "<pre style=\"white-space:pre;overflow-x:auto;line-height:normal;font-family:Menlo,'DejaVu Sans Mono',consolas,'Courier New',monospace\">         root:<span style=\"color: #800080; text-decoration-color: #800080\">//cmsxrootd.fnal.gov///store/mc/RunIIAutumn18NanoAODv7/MonoHTobb_ZpBaryonic_TuneCP2_13TeV_madgraph-py</span>\n",
       "<span style=\"color: #800080; text-decoration-color: #800080\">thia8/NANOAODSIM/Nano02Apr2020_rp_102X_upgrade2018_realistic_v21-v1/10000/</span><span style=\"color: #ff00ff; text-decoration-color: #ff00ff\">0EE0D641-EDAE-D547-ABAD-56D54B768C5B.root</span>\n",
       "</pre>\n"
      ],
      "text/plain": [
       "         root:\u001b[35m/\u001b[0m\u001b[35m/cmsxrootd.fnal.gov/\u001b[0m\u001b[35m/\u001b[0m\u001b[35m/store/mc/RunIIAutumn18NanoAODv7/MonoHTobb_ZpBaryonic_TuneCP2_13TeV_madgraph-py\u001b[0m\n",
       "\u001b[35mthia8/NANOAODSIM/Nano02Apr2020_rp_102X_upgrade2018_realistic_v21-v1/10000/\u001b[0m\u001b[95m0EE0D641-EDAE-D547-ABAD-56D54B768C5B.root\u001b[0m\n"
      ]
     },
     "metadata": {},
     "output_type": "display_data"
    },
    {
     "data": {
      "text/html": [
       "<pre style=\"white-space:pre;overflow-x:auto;line-height:normal;font-family:Menlo,'DejaVu Sans Mono',consolas,'Courier New',monospace\">         root:<span style=\"color: #800080; text-decoration-color: #800080\">//cmsxrootd.fnal.gov///store/mc/RunIIAutumn18NanoAODv7/MonoHTobb_ZpBaryonic_TuneCP2_13TeV_madgraph-py</span>\n",
       "<span style=\"color: #800080; text-decoration-color: #800080\">thia8/NANOAODSIM/Nano02Apr2020_rp_102X_upgrade2018_realistic_v21-v1/10000/</span><span style=\"color: #ff00ff; text-decoration-color: #ff00ff\">5DF4AB83-6273-4042-8BF8-35806DF8625E.root</span>\n",
       "</pre>\n"
      ],
      "text/plain": [
       "         root:\u001b[35m/\u001b[0m\u001b[35m/cmsxrootd.fnal.gov/\u001b[0m\u001b[35m/\u001b[0m\u001b[35m/store/mc/RunIIAutumn18NanoAODv7/MonoHTobb_ZpBaryonic_TuneCP2_13TeV_madgraph-py\u001b[0m\n",
       "\u001b[35mthia8/NANOAODSIM/Nano02Apr2020_rp_102X_upgrade2018_realistic_v21-v1/10000/\u001b[0m\u001b[95m5DF4AB83-6273-4042-8BF8-35806DF8625E.root\u001b[0m\n"
      ]
     },
     "metadata": {},
     "output_type": "display_data"
    }
   ],
   "source": [
    "f.Show(2)"
   ]
  },
  {
   "cell_type": "code",
   "execution_count": 32,
   "metadata": {},
   "outputs": [
    {
     "data": {
      "text/html": [
       "<pre style=\"white-space:pre;overflow-x:auto;line-height:normal;font-family:Menlo,'DejaVu Sans Mono',consolas,'Courier New',monospace\">Data : \n",
       "<span style=\"font-weight: bold\">[</span><span style=\"color: #008000; text-decoration-color: #008000\">'MET_Run2018A'</span><span style=\"font-weight: bold\">]</span>\n",
       "\n",
       "\n",
       "</pre>\n"
      ],
      "text/plain": [
       "Data : \n",
       "\u001b[1m[\u001b[0m\u001b[32m'MET_Run2018A'\u001b[0m\u001b[1m]\u001b[0m\n",
       "\n",
       "\n"
      ]
     },
     "metadata": {},
     "output_type": "display_data"
    },
    {
     "data": {
      "text/html": [
       "<pre style=\"white-space:pre;overflow-x:auto;line-height:normal;font-family:Menlo,'DejaVu Sans Mono',consolas,'Courier New',monospace\">        MET_Run2018A : \n",
       "</pre>\n"
      ],
      "text/plain": [
       "        MET_Run2018A : \n"
      ]
     },
     "metadata": {},
     "output_type": "display_data"
    },
    {
     "ename": "AttributeError",
     "evalue": "'list' object has no attribute 'items'",
     "output_type": "error",
     "traceback": [
      "\u001b[0;31m---------------------------------------------------------------------------\u001b[0m",
      "\u001b[0;31mAttributeError\u001b[0m                            Traceback (most recent call last)",
      "\u001b[1;32m/home/prayag/Analysis/Coffea/MonoHiggstobb/Backgrounds/Test.ipynb Cell 5\u001b[0m line \u001b[0;36m1\n\u001b[0;32m----> <a href='vscode-notebook-cell:/home/prayag/Analysis/Coffea/MonoHiggstobb/Backgrounds/Test.ipynb#W5sZmlsZQ%3D%3D?line=0'>1</a>\u001b[0m f\u001b[39m.\u001b[39;49mShow(\u001b[39m3\u001b[39;49m)\n",
      "File \u001b[0;32m~/Analysis/Coffea/MonoHiggstobb/monoHbbtools/Load/__init__.py:28\u001b[0m, in \u001b[0;36mLoadfileset.Show\u001b[0;34m(self, verbosity)\u001b[0m\n\u001b[1;32m     26\u001b[0m \u001b[39mfor\u001b[39;00m subkey , subvalue \u001b[39min\u001b[39;00m value\u001b[39m.\u001b[39mitems() :\n\u001b[1;32m     27\u001b[0m     rich\u001b[39m.\u001b[39mprint(\u001b[39m\"\u001b[39m\u001b[39m\\t\u001b[39;00m\u001b[39m\"\u001b[39m\u001b[39m+\u001b[39msubkey\u001b[39m+\u001b[39m\u001b[39m\"\u001b[39m\u001b[39m : \u001b[39m\u001b[39m\"\u001b[39m)\n\u001b[0;32m---> 28\u001b[0m     \u001b[39mfor\u001b[39;00m subsubkey, subsubvalue \u001b[39min\u001b[39;00m subvalue\u001b[39m.\u001b[39;49mitems() :\n\u001b[1;32m     29\u001b[0m         \u001b[39mtry\u001b[39;00m :\n\u001b[1;32m     30\u001b[0m             \u001b[39mfor\u001b[39;00m file \u001b[39min\u001b[39;00m subvalue :\n",
      "\u001b[0;31mAttributeError\u001b[0m: 'list' object has no attribute 'items'"
     ]
    }
   ],
   "source": [
    "f.Show(3)"
   ]
  },
  {
   "cell_type": "code",
   "execution_count": 33,
   "metadata": {},
   "outputs": [
    {
     "ename": "KeyError",
     "evalue": "'Zjetsnunu'",
     "output_type": "error",
     "traceback": [
      "\u001b[0;31m---------------------------------------------------------------------------\u001b[0m",
      "\u001b[0;31mKeyError\u001b[0m                                  Traceback (most recent call last)",
      "\u001b[1;32m/home/prayag/Analysis/Coffea/MonoHiggstobb/Backgrounds/Test.ipynb Cell 6\u001b[0m line \u001b[0;36m2\n\u001b[1;32m      <a href='vscode-notebook-cell:/home/prayag/Analysis/Coffea/MonoHiggstobb/Backgrounds/Test.ipynb#W6sZmlsZQ%3D%3D?line=0'>1</a>\u001b[0m full \u001b[39m=\u001b[39m f\u001b[39m.\u001b[39mgetraw()\n\u001b[0;32m----> <a href='vscode-notebook-cell:/home/prayag/Analysis/Coffea/MonoHiggstobb/Backgrounds/Test.ipynb#W6sZmlsZQ%3D%3D?line=1'>2</a>\u001b[0m full[\u001b[39m\"\u001b[39;49m\u001b[39mMC\u001b[39;49m\u001b[39m\"\u001b[39;49m][\u001b[39m\"\u001b[39;49m\u001b[39mZjetsnunu\u001b[39;49m\u001b[39m\"\u001b[39;49m]\n",
      "\u001b[0;31mKeyError\u001b[0m: 'Zjetsnunu'"
     ]
    }
   ],
   "source": [
    "full = f.getraw()\n",
    "full[\"MC\"][\"Zjetsnunu\"]"
   ]
  },
  {
   "cell_type": "code",
   "execution_count": null,
   "metadata": {},
   "outputs": [
    {
     "name": "stdout",
     "output_type": "stream",
     "text": [
      "['Data', 'MC']\n"
     ]
    },
    {
     "data": {
      "text/plain": [
       "True"
      ]
     },
     "execution_count": 18,
     "metadata": {},
     "output_type": "execute_result"
    }
   ],
   "source": [
    "l = list(full.keys())\n",
    "print(l)\n",
    "isinstance(l[0], str)"
   ]
  },
  {
   "cell_type": "code",
   "execution_count": null,
   "metadata": {},
   "outputs": [],
   "source": [
    "import numba"
   ]
  },
  {
   "cell_type": "code",
   "execution_count": null,
   "metadata": {},
   "outputs": [],
   "source": [
    "#@numba.jit(forceobj=True)\n",
    "def buildFileset(dict , redirector):\n",
    "    '''\n",
    "    To return a run-able dict with the appropriate redirector.\n",
    "    Please input a dictionary which is only singly-nested\n",
    "    '''\n",
    "    match redirector :\n",
    "        case \"fnal\" | 1 :\n",
    "            redirector_string = \"root://cmsxrootd.fnal.gov//\"\n",
    "        case \"infn\" | 2 :\n",
    "            redirector_string = \"root://xrootd-cms.infn.it//\"\n",
    "        case \"wisc\" | 3 :\n",
    "            redirector_string = \"root://pubxrootd.hep.wisc.edu//\"\n",
    "\n",
    "    temp = dict \n",
    "    output = {}\n",
    "    for key in temp.keys() :\n",
    "        try :\n",
    "            g = temp[key]\n",
    "            if isinstance(g,list):\n",
    "                templist = []\n",
    "                for filename in g :\n",
    "                    templist.append(redirector_string+filename)\n",
    "                output[key] = templist\n",
    "        except :\n",
    "            pass\n",
    "    return output"
   ]
  },
  {
   "cell_type": "code",
   "execution_count": 46,
   "metadata": {},
   "outputs": [],
   "source": [
    "jj = f.getraw()\n",
    "filename = jj[\"Data\"]['MET_Run2018A'][0]"
   ]
  },
  {
   "cell_type": "code",
   "execution_count": 47,
   "metadata": {},
   "outputs": [
    {
     "data": {
      "text/plain": [
       "27"
      ]
     },
     "execution_count": 47,
     "metadata": {},
     "output_type": "execute_result"
    }
   ],
   "source": [
    "j = \"root://cmsxrootd.fnal.gov//\"\n",
    "filename.find(\"/store/\")"
   ]
  }
 ],
 "metadata": {
  "kernelspec": {
   "display_name": "Python 3",
   "language": "python",
   "name": "python3"
  },
  "language_info": {
   "codemirror_mode": {
    "name": "ipython",
    "version": 3
   },
   "file_extension": ".py",
   "mimetype": "text/x-python",
   "name": "python",
   "nbconvert_exporter": "python",
   "pygments_lexer": "ipython3",
   "version": "3.10.12"
  }
 },
 "nbformat": 4,
 "nbformat_minor": 2
}
