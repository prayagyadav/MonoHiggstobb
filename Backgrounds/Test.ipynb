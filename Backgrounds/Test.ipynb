{
 "cells": [
  {
   "cell_type": "code",
   "execution_count": 4,
   "metadata": {},
   "outputs": [],
   "source": [
    "from monoHbbtools import Load\n",
    "from coffea import util"
   ]
  },
  {
   "cell_type": "code",
   "execution_count": 5,
   "metadata": {},
   "outputs": [],
   "source": [
    "from monoHbbtools import Utilities"
   ]
  },
  {
   "cell_type": "code",
   "execution_count": 6,
   "metadata": {},
   "outputs": [
    {
     "data": {
      "text/plain": [
       "'2023-10-19 18:52:34'"
      ]
     },
     "execution_count": 6,
     "metadata": {},
     "output_type": "execute_result"
    }
   ],
   "source": [
    "Utilities.get_timestamp()"
   ]
  },
  {
   "cell_type": "code",
   "execution_count": 7,
   "metadata": {},
   "outputs": [
    {
     "data": {
      "text/plain": [
       "{'Z1Jets_Nu_Nu': {'Cutflow': {'Total_Events': 5315107,\n",
       "   'ReducedEvents': 704110,\n",
       "   'ak4bJetsTight': 4,\n",
       "   'bbDiJets': 0},\n",
       "  'Histograms': {'DiJet': Hist(Regular(50, 0, 1000, label='Axis 0'), storage=Double())}},\n",
       " 'MET': {'Cutflow': {'Total_Events': 22985157,\n",
       "   'ReducedEvents': 1366384,\n",
       "   'ak4bJetsTight': 5578,\n",
       "   'bbDiJets': 963},\n",
       "  'Histograms': {'DiJet': Hist(Regular(50, 0, 1000, label='Axis 0'), storage=Double()) # Sum: 950.0 (963.0 with flow)}}}"
      ]
     },
     "execution_count": 7,
     "metadata": {},
     "output_type": "execute_result"
    }
   ],
   "source": [
    "file = util.load(\"Zjetsnunu.coffea\")\n",
    "file"
   ]
  },
  {
   "cell_type": "code",
   "execution_count": 8,
   "metadata": {},
   "outputs": [
    {
     "data": {
      "text/plain": [
       "[Hist(Regular(50, 0, 1000, label='Axis 0'), storage=Double()) # Sum: 950.0 (963.0 with flow),\n",
       " Hist(Regular(50, 0, 1000, label='Axis 0'), storage=Double())]"
      ]
     },
     "execution_count": 8,
     "metadata": {},
     "output_type": "execute_result"
    }
   ],
   "source": [
    "Hist_List = [file[\"MET\"][\"Histograms\"][\"DiJet\"], file[\"Z1Jets_Nu_Nu\"][\"Histograms\"][\"DiJet\"] ]\n",
    "Hist_List"
   ]
  },
  {
   "cell_type": "code",
   "execution_count": 9,
   "metadata": {},
   "outputs": [
    {
     "data": {
      "text/plain": [
       "[Hist(Regular(50, 0, 1000, label='Axis 0'), storage=Double()),\n",
       " Hist(Regular(50, 0, 1000, label='Axis 0'), storage=Double()) # Sum: 950.0 (963.0 with flow)]"
      ]
     },
     "execution_count": 9,
     "metadata": {},
     "output_type": "execute_result"
    }
   ],
   "source": [
    "sorted(Hist_List, key = lambda x :  x.sum())"
   ]
  },
  {
   "cell_type": "code",
   "execution_count": 10,
   "metadata": {},
   "outputs": [],
   "source": [
    "import mplhep as hep\n",
    "from coffea import util\n",
    "import numpy as np\n",
    "import matplotlib.pyplot as plt\n",
    "from monoHbbtools.Utilities import get_timestamp"
   ]
  },
  {
   "cell_type": "code",
   "execution_count": 11,
   "metadata": {},
   "outputs": [
    {
     "name": "stdout",
     "output_type": "stream",
     "text": [
      "[]\n",
      "[100.]\n"
     ]
    }
   ],
   "source": [
    "a = np.array([])\n",
    "print(a)\n",
    "b = np.append(a, 100)\n",
    "print(b)"
   ]
  },
  {
   "cell_type": "code",
   "execution_count": 12,
   "metadata": {},
   "outputs": [],
   "source": [
    "filename = \"Zjetsnunu.coffea\"\n",
    "Output = util.load(filename)\n",
    "\n",
    "def get_plotting_essentials(input_dict) :\n",
    "    #Input is a dictionary\n",
    "\n",
    "    #Sort the dictionary by Dijet integral\n",
    "    #sorted_dict =  sorted(input_dict, key = )\n",
    "\n",
    "    Hist_List = []\n",
    "    Hist_sumlist = []\n",
    "    Color_List = [\"#4E3636\",\"#116D6E\",\"#321E1E\"]\n",
    "    label_List = []\n",
    "    hist_index = []\n",
    "    for key in input_dict.keys() :\n",
    "        Hist_List.append(input_dict[key][\"Histograms\"][\"DiJet\"])\n",
    "        print(Hist_List)\n",
    "        Hist_sumlist.append(input_dict[key][\"Histograms\"][\"DiJet\"].sum())\n",
    "        hist_index.append\n",
    "        label_List.append(key)\n",
    "    nHists = len(Hist_List)\n",
    "    #sorted_histlist = sorted(Hist_List, key = lambda x :  x.sum(), reverse=True) # To sort the histograms in descending order of their integrals\n",
    "    sorted_histlist = sorted(Hist_List, key = Hist_sumlist, reverse=True)\n",
    "    #sorted_labellist = sorted(Hist_List, key = lambda x :  x.sum(), reverse=True) # To sort the histogram labels in descending order of their integrals\n",
    "    sorted_labellist = sorted(label_List, key = Hist_sumlist, reverse=True)\n",
    "    return sorted_histlist , sorted_labellist , Color_List, nHists"
   ]
  },
  {
   "cell_type": "code",
   "execution_count": 24,
   "metadata": {},
   "outputs": [
    {
     "data": {
      "text/plain": [
       "[Hist(Regular(50, 0, 1000, label='Axis 0'), storage=Double()) # Sum: 950.0 (963.0 with flow),\n",
       " Hist(Regular(50, 0, 1000, label='Axis 0'), storage=Double())]"
      ]
     },
     "execution_count": 24,
     "metadata": {},
     "output_type": "execute_result"
    }
   ],
   "source": [
    "Hists = [(key, Output[key][\"Histograms\"][\"DiJet\"] ) for key in Output.keys()]\n",
    "sorted_hists_tuple = sorted(Hists , key = lambda x : x[1].sum() , reverse=True)\n",
    "sorted_hists = [i[1] for i in sorted_hists_tuple]\n",
    "sorted_hists"
   ]
  },
  {
   "cell_type": "code",
   "execution_count": 25,
   "metadata": {},
   "outputs": [],
   "source": [
    "def get_plotting_essentials(Output) :\n",
    "    color_list = [\"#4E3636\",\"#116D6E\",\"#321E1E\"]\n",
    "    hist_tuple = [(key, Output[key][\"Histograms\"][\"DiJet\"] ) for key in Output.keys()]\n",
    "    sorted_hist_tuple = sorted(hist_tuple , key = lambda x : x[1].sum() , reverse=True)\n",
    "    sorted_hists = [i[1] for i in sorted_hist_tuple]\n",
    "    sorted_labels = [i[0] for i in sorted_hist_tuple]\n",
    "    color_list = color_list[:len(sorted_hists)]\n",
    "    return sorted_hists, sorted_labels, color_list "
   ]
  },
  {
   "cell_type": "code",
   "execution_count": 26,
   "metadata": {},
   "outputs": [
    {
     "data": {
      "text/plain": [
       "<matplotlib.legend.Legend at 0x7f3da8b03c40>"
      ]
     },
     "execution_count": 26,
     "metadata": {},
     "output_type": "execute_result"
    },
    {
     "data": {
      "image/png": "[encoded data removed]",
      "text/plain": [
       "<Figure size 640x480 with 1 Axes>"
      ]
     },
     "metadata": {},
     "output_type": "display_data"
    }
   ],
   "source": [
    "Hist_List , label_List , Color_List = get_plotting_essentials(Output)\n",
    "fig, ax = plt.subplots()\n",
    "hep.histplot(\n",
    "    Hist_List,\n",
    "    histtype=\"fill\",\n",
    "    color=Color_List,\n",
    "    label=label_List,\n",
    "    edgecolor=\"black\",\n",
    "    lw=1,\n",
    "    ax=ax\n",
    "    )\n",
    "hep.cms.label(\"Preliminary\", data= False)\n",
    "ax.set_ylabel(\"Events\")\n",
    "ax.set_xlabel(\"Mass (GeV)\")\n",
    "ax.set_title(r\"$b \\bar{b}$ mass\",pad=40, color=\"#192655\")\n",
    "fig.text(0.01,0.01,\"Generated : \"+get_timestamp(), fontsize = \"10\")\n",
    "fig.text(0.87,0.01,\" Mode: Overlayed\", fontsize = \"10\")\n",
    "fig.legend(loc= (0.57,0.64))"
   ]
  },
  {
   "cell_type": "code",
   "execution_count": null,
   "metadata": {},
   "outputs": [],
   "source": []
  }
 ],
 "metadata": {
  "kernelspec": {
   "display_name": "Python 3",
   "language": "python",
   "name": "python3"
  },
  "language_info": {
   "codemirror_mode": {
    "name": "ipython",
    "version": 3
   },
   "file_extension": ".py",
   "mimetype": "text/x-python",
   "name": "python",
   "nbconvert_exporter": "python",
   "pygments_lexer": "ipython3",
   "version": "3.10.12"
  }
 },
 "nbformat": 4,
 "nbformat_minor": 2
}
