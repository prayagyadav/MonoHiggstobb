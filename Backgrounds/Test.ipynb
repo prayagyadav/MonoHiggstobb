{
 "cells": [
  {
   "cell_type": "code",
   "execution_count": 11,
   "metadata": {},
   "outputs": [],
   "source": [
    "import awkward as ak\n",
    "import hist\n",
    "from coffea.nanoevents import NanoEventsFactory, NanoAODSchema\n",
    "from coffea.analysis_tools import PackedSelection\n",
    "import json\n",
    "import numpy as np\n",
    "import mplhep as hep\n",
    "import matplotlib.pyplot as plt"
   ]
  },
  {
   "cell_type": "code",
   "execution_count": 12,
   "metadata": {},
   "outputs": [],
   "source": [
    "filename = \"/home/prayag/Coffea/data/3BF5BC57-5D24-1C4D-B277-7B0BAA5DF3C7.root\"\n",
    "events = NanoEventsFactory.from_root(\n",
    "    filename,\n",
    "    schemaclass=NanoAODSchema.v7\n",
    ").events()"
   ]
  },
  {
   "cell_type": "code",
   "execution_count": 17,
   "metadata": {},
   "outputs": [],
   "source": [
    "from coffea import util, processor"
   ]
  },
  {
   "cell_type": "code",
   "execution_count": 18,
   "metadata": {},
   "outputs": [
    {
     "name": "stdout",
     "output_type": "stream",
     "text": [
      "Total events:  272.364487\n",
      "{'Total events': 272364487, 'lumimask': 253027168, 'MET trigger': 138424040, 'MET filters': 130865483, 'MET > 200 GeV': 9283766, 'no electrons': 9283766, 'no muons': 8646681, 'no photons': 8172708, 'no taus': 8172708, 'jet pt > 30': 462191, 'jet abs(eta) < 2.5': 252802, 'deltaphi(jets, MET) > 0.4': 252802, 'At least two bjets': 4247, 'bjet1 pt > 50 GeV and bjet2 pt > 30': 4247, 'Additional Jets <= 2': 2393, 'dijet mass between 100 Gev to 150 GeV': 295, 'dijet pt > 100 GeV': 295}\n"
     ]
    }
   ],
   "source": [
    "y = util.load(\"BackgroundDijets.coffea\")\n",
    "nevents = 0\n",
    "dict = y[\"MET_Run2018\"]\n",
    "cutflow_list = []\n",
    "for key in dict.keys() :\n",
    "    nevents += dict[key][\"Cutflow\"][\"Total events\"]\n",
    "    cutflow_list.append(dict[key][\"Cutflow\"])\n",
    "print(\"Total events: \", nevents*1e-6 )\n",
    "print(processor.accumulate(cutflow_list))"
   ]
  },
  {
   "cell_type": "code",
   "execution_count": 19,
   "metadata": {},
   "outputs": [
    {
     "name": "stdout",
     "output_type": "stream",
     "text": [
      "Total events:  114.57834199999999\n",
      "{'Total events': 114578342, 'MET > 200 GeV': 56329228, 'no electrons': 56329228, 'no muons': 56220023, 'no photons': 55862652, 'no taus': 55862652, 'jet pt > 30': 6027300, 'jet abs(eta) < 2.5': 4945716, 'deltaphi(jets, MET) > 0.4': 4945716, 'At least two bjets': 18982, 'bjet1 pt > 50 GeV and bjet2 pt > 30': 18982, 'Additional Jets <= 2': 16959, 'dijet mass between 100 Gev to 150 GeV': 1904, 'dijet pt > 100 GeV': 1903}\n"
     ]
    }
   ],
   "source": [
    "nevents = 0\n",
    "dict = y[\"ZJets_NuNu\"]\n",
    "cutflow_list = []\n",
    "for key in dict.keys() :\n",
    "    nevents += dict[key][\"Cutflow\"][\"Total events\"]\n",
    "    cutflow_list.append(dict[key][\"Cutflow\"])\n",
    "print(\"Total events: \", nevents*1e-6 )\n",
    "print(processor.accumulate(cutflow_list))"
   ]
  },
  {
   "cell_type": "code",
   "execution_count": 16,
   "metadata": {},
   "outputs": [
    {
     "data": {
      "text/plain": [
       "{'MET_Run2018': {'MET_Run2018A': {'Cutflow': {'Total events': 22985157,\n",
       "    'lumimask': 20020999,\n",
       "    'MET trigger': 8855754,\n",
       "    'MET filters': 8143238,\n",
       "    'MET > 200 GeV': 916265,\n",
       "    'no electrons': 916265,\n",
       "    'no muons': 851722,\n",
       "    'no photons': 805851,\n",
       "    'no taus': 805851,\n",
       "    'jet pt > 30': 39327,\n",
       "    'jet abs(eta) < 2.5': 20328,\n",
       "    'deltaphi(jets, MET) > 0.4': 20328,\n",
       "    'At least two bjets': 376,\n",
       "    'bjet1 pt > 50 GeV and bjet2 pt > 30': 376,\n",
       "    'Additional Jets <= 2': 208,\n",
       "    'dijet mass between 100 Gev to 150 GeV': 24,\n",
       "    'dijet pt > 100 GeV': 24},\n",
       "   'Histograms': {'met_pt_hist': Hist(Regular(50, 0, 1000, label='Axis 0'), storage=Double()) # Sum: 208.0,\n",
       "    'met_phi_hist': Hist(Regular(30, -3.14, 3.14, label='Axis 0'), storage=Double()) # Sum: 208.0,\n",
       "    'leadingjets_pt_hist': Hist(Regular(25, 0, 500, label='Axis 0'), storage=Double()) # Sum: 178.0 (208.0 with flow),\n",
       "    'leadingjets_eta_hist': Hist(Regular(30, -3, 3, label='Axis 0'), storage=Double()) # Sum: 208.0,\n",
       "    'leadingjets_phi_hist': Hist(Regular(30, -3.14, 3.14, label='Axis 0'), storage=Double()) # Sum: 208.0,\n",
       "    'leadingjets_mass_hist': Hist(Regular(25, 0, 500, label='Axis 0'), storage=Double()) # Sum: 208.0,\n",
       "    'subleadingjets_pt_hist': Hist(Regular(25, 0, 500, label='Axis 0'), storage=Double()) # Sum: 204.0 (208.0 with flow),\n",
       "    'subleadingjets_eta_hist': Hist(Regular(30, -3, 3, label='Axis 0'), storage=Double()) # Sum: 208.0,\n",
       "    'subleadingjets_phi_hist': Hist(Regular(30, -3.14, 3.14, label='Axis 0'), storage=Double()) # Sum: 208.0,\n",
       "    'subleadingjets_mass_hist': Hist(Regular(25, 0, 500, label='Axis 0'), storage=Double()) # Sum: 208.0,\n",
       "    'dijets_pt': Hist(Regular(25, 0, 500, label='Axis 0'), storage=Double()) # Sum: 24.0,\n",
       "    'dijets_eta': Hist(Regular(30, -3, 3, label='Axis 0'), storage=Double()) # Sum: 24.0,\n",
       "    'dijets_phi': Hist(Regular(30, -3.14, 3.14, label='Axis 0'), storage=Double()) # Sum: 24.0,\n",
       "    'dijets_mass': Hist(Regular(25, 100, 150, label='Axis 0'), storage=Double()) # Sum: 24.0},\n",
       "   'RunSet': {315264,\n",
       "    315267,\n",
       "    315270,\n",
       "    315322,\n",
       "    315339,\n",
       "    315357,\n",
       "    315361,\n",
       "    315363,\n",
       "    315366,\n",
       "    315420,\n",
       "    315488,\n",
       "    315489,\n",
       "    315555,\n",
       "    315640,\n",
       "    315645,\n",
       "    315648,\n",
       "    315689,\n",
       "    315690,\n",
       "    315702,\n",
       "    315703,\n",
       "    315704,\n",
       "    315713,\n",
       "    315721,\n",
       "    315741,\n",
       "    315764,\n",
       "    315770,\n",
       "    315784,\n",
       "    315785,\n",
       "    315790,\n",
       "    315800,\n",
       "    315801,\n",
       "    315973,\n",
       "    315974,\n",
       "    316058,\n",
       "    316059,\n",
       "    316060,\n",
       "    316061,\n",
       "    316062,\n",
       "    316082,\n",
       "    316110,\n",
       "    316111,\n",
       "    316113,\n",
       "    316114,\n",
       "    316153,\n",
       "    316186,\n",
       "    316187,\n",
       "    316199,\n",
       "    316201,\n",
       "    316202,\n",
       "    316216,\n",
       "    316217,\n",
       "    316218,\n",
       "    316219,\n",
       "    316240,\n",
       "    316241,\n",
       "    316361,\n",
       "    316362,\n",
       "    316363,\n",
       "    316380,\n",
       "    316455,\n",
       "    316457,\n",
       "    316469,\n",
       "    316470,\n",
       "    316472,\n",
       "    316505,\n",
       "    316569,\n",
       "    316590,\n",
       "    316613,\n",
       "    316615,\n",
       "    316666,\n",
       "    316667,\n",
       "    316700,\n",
       "    316701,\n",
       "    316702,\n",
       "    316716,\n",
       "    316717,\n",
       "    316718,\n",
       "    316721,\n",
       "    316722,\n",
       "    316723,\n",
       "    316758,\n",
       "    316766,\n",
       "    316876,\n",
       "    316877,\n",
       "    316928,\n",
       "    316985,\n",
       "    316993,\n",
       "    316994,\n",
       "    316995}}}}"
      ]
     },
     "execution_count": 16,
     "metadata": {},
     "output_type": "execute_result"
    }
   ],
   "source": [
    "util.load(\"Zjetsnunu_MET_Run2018_from_1_to_20.coffea\")"
   ]
  }
 ],
 "metadata": {
  "kernelspec": {
   "display_name": "Python 3 (ipykernel)",
   "language": "python",
   "name": "python3"
  },
  "language_info": {
   "codemirror_mode": {
    "name": "ipython",
    "version": 3
   },
   "file_extension": ".py",
   "mimetype": "text/x-python",
   "name": "python",
   "nbconvert_exporter": "python",
   "pygments_lexer": "ipython3",
   "version": "3.10.12"
  }
 },
 "nbformat": 4,
 "nbformat_minor": 4
}
