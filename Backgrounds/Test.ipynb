{
 "cells": [
  {
   "cell_type": "code",
   "execution_count": 22,
   "metadata": {},
   "outputs": [],
   "source": [
    "import awkward as ak\n",
    "import hist\n",
    "from coffea.nanoevents import NanoEventsFactory, NanoAODSchema\n",
    "from coffea.analysis_tools import PackedSelection\n",
    "import numpy as np\n",
    "import mplhep as hep\n",
    "import matplotlib.pyplot as plt"
   ]
  },
  {
   "cell_type": "code",
   "execution_count": 23,
   "metadata": {},
   "outputs": [],
   "source": [
    "filename = \"/home/prayag/Coffea/data/3BF5BC57-5D24-1C4D-B277-7B0BAA5DF3C7.root\"\n",
    "events = NanoEventsFactory.from_root(\n",
    "    filename,\n",
    "    schemaclass=NanoAODSchema.v7\n",
    ").events()"
   ]
  },
  {
   "cell_type": "code",
   "execution_count": 24,
   "metadata": {},
   "outputs": [
    {
     "data": {
      "text/plain": [
       "<Array [8, 13, 18, 7, 13, ... 9, 16, 15, 19] type='297347 * int64'>"
      ]
     },
     "execution_count": 24,
     "metadata": {},
     "output_type": "execute_result"
    }
   ],
   "source": [
    "ak.num(events.Jet)"
   ]
  },
  {
   "cell_type": "code",
   "execution_count": 59,
   "metadata": {},
   "outputs": [
    {
     "data": {
      "text/plain": [
       "3567289"
      ]
     },
     "execution_count": 59,
     "metadata": {},
     "output_type": "execute_result"
    }
   ],
   "source": [
    "ak.sum(ak.num(events.Jet.pt))"
   ]
  },
  {
   "cell_type": "code",
   "execution_count": 62,
   "metadata": {},
   "outputs": [
    {
     "name": "stdout",
     "output_type": "stream",
     "text": [
      "cut-based ID Fall17 V2 (0:fail, 1:veto, 2:loose, 3:medium, 4:tight)\n",
      "Total Number of Electrons:  297347\n",
      "101532\n",
      "18610\n",
      "27066\n",
      "25138\n",
      "184587\n",
      "Total Sum of ID candidates =  356933\n",
      "loose + medium + tight =  236791\n"
     ]
    }
   ],
   "source": [
    "print(events.Electron.cutBased.__doc__)\n",
    "print(\"Total Number of Electrons: \", len(events.Electron.cutBased))\n",
    "sum = 0\n",
    "\n",
    "#fail\n",
    "e = events.Electron[events.Electron.cutBased == 0]\n",
    "length_fail = ak.sum(ak.num(e))\n",
    "sum += length_fail\n",
    "print(length_fail)\n",
    "\n",
    "#veto\n",
    "e = events.Electron[events.Electron.cutBased == 1]\n",
    "length_veto = ak.sum(ak.num(e))\n",
    "sum += length_veto\n",
    "print(length_veto)\n",
    "\n",
    "#loose\n",
    "e = events.Electron[events.Electron.cutBased == 2]\n",
    "length_loose = ak.sum(ak.num(e))\n",
    "sum += length_loose\n",
    "print(length_loose)\n",
    "\n",
    "#medium\n",
    "e = events.Electron[events.Electron.cutBased == 3]\n",
    "length_medium = ak.sum(ak.num(e))\n",
    "sum += length_medium\n",
    "print(length_medium)\n",
    "\n",
    "#tight\n",
    "e = events.Electron[events.Electron.cutBased == 4]\n",
    "length_tight = ak.sum(ak.num(e))\n",
    "sum += length_tight\n",
    "print(length_tight)\n",
    "\n",
    "print(\"Total Sum of ID candidates = \" , sum)\n",
    "print(\"loose + medium + tight = \" , length_loose+length_medium+length_tight)"
   ]
  },
  {
   "cell_type": "code",
   "execution_count": 76,
   "metadata": {},
   "outputs": [
    {
     "data": {
      "text/plain": [
       "236791"
      ]
     },
     "execution_count": 76,
     "metadata": {},
     "output_type": "execute_result"
    }
   ],
   "source": [
    "ak.sum(ak.num(events.Electron[events.Electron.cutBased >= 2 ] ))"
   ]
  }
 ],
 "metadata": {
  "kernelspec": {
   "display_name": "Python 3 (ipykernel)",
   "language": "python",
   "name": "python3"
  },
  "language_info": {
   "codemirror_mode": {
    "name": "ipython",
    "version": 3
   },
   "file_extension": ".py",
   "mimetype": "text/x-python",
   "name": "python",
   "nbconvert_exporter": "python",
   "pygments_lexer": "ipython3",
   "version": "3.10.12"
  }
 },
 "nbformat": 4,
 "nbformat_minor": 4
}
