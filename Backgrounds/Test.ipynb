{
 "cells": [
  {
   "cell_type": "code",
   "execution_count": 1,
   "metadata": {},
   "outputs": [],
   "source": [
    "from monoHbbtools import Load"
   ]
  },
  {
   "cell_type": "code",
   "execution_count": 2,
   "metadata": {},
   "outputs": [],
   "source": [
    "f = Load.Loadfileset(\"../fileset.json\")"
   ]
  },
  {
   "cell_type": "code",
   "execution_count": 3,
   "metadata": {},
   "outputs": [
    {
     "data": {
      "text/html": [
       "<pre style=\"white-space:pre;overflow-x:auto;line-height:normal;font-family:Menlo,'DejaVu Sans Mono',consolas,'Courier New',monospace\">Data : \n",
       "<span style=\"font-weight: bold\">[</span><span style=\"color: #008000; text-decoration-color: #008000\">'MET_Run2018A'</span><span style=\"font-weight: bold\">]</span>\n",
       "\n",
       "\n",
       "</pre>\n"
      ],
      "text/plain": [
       "Data : \n",
       "\u001b[1m[\u001b[0m\u001b[32m'MET_Run2018A'\u001b[0m\u001b[1m]\u001b[0m\n",
       "\n",
       "\n"
      ]
     },
     "metadata": {},
     "output_type": "display_data"
    },
    {
     "data": {
      "text/html": [
       "<pre style=\"white-space:pre;overflow-x:auto;line-height:normal;font-family:Menlo,'DejaVu Sans Mono',consolas,'Courier New',monospace\">        MET_Run2018A : \n",
       "</pre>\n"
      ],
      "text/plain": [
       "        MET_Run2018A : \n"
      ]
     },
     "metadata": {},
     "output_type": "display_data"
    },
    {
     "data": {
      "text/html": [
       "<pre style=\"white-space:pre;overflow-x:auto;line-height:normal;font-family:Menlo,'DejaVu Sans Mono',consolas,'Courier New',monospace\">         <span style=\"color: #800080; text-decoration-color: #800080\">/store/data/Run2018A/MET/NANOAOD/UL2018_MiniAODv2_NanoAODv9-v2/110000/</span><span style=\"color: #ff00ff; text-decoration-color: #ff00ff\">0F8C0C8C-63E4-1D4E-A8DF-506BDB55BD43</span>\n",
       "<span style=\"color: #ff00ff; text-decoration-color: #ff00ff\">.root</span>\n",
       "</pre>\n"
      ],
      "text/plain": [
       "         \u001b[35m/store/data/Run2018A/MET/NANOAOD/UL2018_MiniAODv2_NanoAODv9-v2/110000/\u001b[0m\u001b[95m0F8C0C8C-63E4-1D4E-A8DF-506BDB55BD43\u001b[0m\n",
       "\u001b[95m.root\u001b[0m\n"
      ]
     },
     "metadata": {},
     "output_type": "display_data"
    },
    {
     "data": {
      "text/html": [
       "<pre style=\"white-space:pre;overflow-x:auto;line-height:normal;font-family:Menlo,'DejaVu Sans Mono',consolas,'Courier New',monospace\">         <span style=\"color: #800080; text-decoration-color: #800080\">/store/data/Run2018A/MET/NANOAOD/UL2018_MiniAODv2_NanoAODv9-v2/110000/</span><span style=\"color: #ff00ff; text-decoration-color: #ff00ff\">10C73E73-0C15-2F4B-9E0B-E3DE1C54A597</span>\n",
       "<span style=\"color: #ff00ff; text-decoration-color: #ff00ff\">.root</span>\n",
       "</pre>\n"
      ],
      "text/plain": [
       "         \u001b[35m/store/data/Run2018A/MET/NANOAOD/UL2018_MiniAODv2_NanoAODv9-v2/110000/\u001b[0m\u001b[95m10C73E73-0C15-2F4B-9E0B-E3DE1C54A597\u001b[0m\n",
       "\u001b[95m.root\u001b[0m\n"
      ]
     },
     "metadata": {},
     "output_type": "display_data"
    },
    {
     "data": {
      "text/html": [
       "<pre style=\"white-space:pre;overflow-x:auto;line-height:normal;font-family:Menlo,'DejaVu Sans Mono',consolas,'Courier New',monospace\">         <span style=\"color: #800080; text-decoration-color: #800080\">/store/data/Run2018A/MET/NANOAOD/UL2018_MiniAODv2_NanoAODv9-v2/110000/</span><span style=\"color: #ff00ff; text-decoration-color: #ff00ff\">1E8B7F5A-4B29-8F46-B2E1-549805E5CBB2</span>\n",
       "<span style=\"color: #ff00ff; text-decoration-color: #ff00ff\">.root</span>\n",
       "</pre>\n"
      ],
      "text/plain": [
       "         \u001b[35m/store/data/Run2018A/MET/NANOAOD/UL2018_MiniAODv2_NanoAODv9-v2/110000/\u001b[0m\u001b[95m1E8B7F5A-4B29-8F46-B2E1-549805E5CBB2\u001b[0m\n",
       "\u001b[95m.root\u001b[0m\n"
      ]
     },
     "metadata": {},
     "output_type": "display_data"
    },
    {
     "data": {
      "text/html": [
       "<pre style=\"white-space:pre;overflow-x:auto;line-height:normal;font-family:Menlo,'DejaVu Sans Mono',consolas,'Courier New',monospace\">         <span style=\"color: #800080; text-decoration-color: #800080\">/store/data/Run2018A/MET/NANOAOD/UL2018_MiniAODv2_NanoAODv9-v2/110000/</span><span style=\"color: #ff00ff; text-decoration-color: #ff00ff\">1ED54027-5256-064F-A776-C10A0920256A</span>\n",
       "<span style=\"color: #ff00ff; text-decoration-color: #ff00ff\">.root</span>\n",
       "</pre>\n"
      ],
      "text/plain": [
       "         \u001b[35m/store/data/Run2018A/MET/NANOAOD/UL2018_MiniAODv2_NanoAODv9-v2/110000/\u001b[0m\u001b[95m1ED54027-5256-064F-A776-C10A0920256A\u001b[0m\n",
       "\u001b[95m.root\u001b[0m\n"
      ]
     },
     "metadata": {},
     "output_type": "display_data"
    },
    {
     "data": {
      "text/html": [
       "<pre style=\"white-space:pre;overflow-x:auto;line-height:normal;font-family:Menlo,'DejaVu Sans Mono',consolas,'Courier New',monospace\">         <span style=\"color: #800080; text-decoration-color: #800080\">/store/data/Run2018A/MET/NANOAOD/UL2018_MiniAODv2_NanoAODv9-v2/110000/</span><span style=\"color: #ff00ff; text-decoration-color: #ff00ff\">4480C919-0BD7-B74D-8B6A-BFF37A1DB4DF</span>\n",
       "<span style=\"color: #ff00ff; text-decoration-color: #ff00ff\">.root</span>\n",
       "</pre>\n"
      ],
      "text/plain": [
       "         \u001b[35m/store/data/Run2018A/MET/NANOAOD/UL2018_MiniAODv2_NanoAODv9-v2/110000/\u001b[0m\u001b[95m4480C919-0BD7-B74D-8B6A-BFF37A1DB4DF\u001b[0m\n",
       "\u001b[95m.root\u001b[0m\n"
      ]
     },
     "metadata": {},
     "output_type": "display_data"
    },
    {
     "data": {
      "text/html": [
       "<pre style=\"white-space:pre;overflow-x:auto;line-height:normal;font-family:Menlo,'DejaVu Sans Mono',consolas,'Courier New',monospace\">MC : \n",
       "<span style=\"font-weight: bold\">[</span><span style=\"color: #008000; text-decoration-color: #008000\">'MonoHbbZpBaryonic'</span><span style=\"font-weight: bold\">]</span>\n",
       "\n",
       "\n",
       "</pre>\n"
      ],
      "text/plain": [
       "MC : \n",
       "\u001b[1m[\u001b[0m\u001b[32m'MonoHbbZpBaryonic'\u001b[0m\u001b[1m]\u001b[0m\n",
       "\n",
       "\n"
      ]
     },
     "metadata": {},
     "output_type": "display_data"
    },
    {
     "data": {
      "text/html": [
       "<pre style=\"white-space:pre;overflow-x:auto;line-height:normal;font-family:Menlo,'DejaVu Sans Mono',consolas,'Courier New',monospace\">        MonoHbbZpBaryonic : \n",
       "</pre>\n"
      ],
      "text/plain": [
       "        MonoHbbZpBaryonic : \n"
      ]
     },
     "metadata": {},
     "output_type": "display_data"
    },
    {
     "data": {
      "text/html": [
       "<pre style=\"white-space:pre;overflow-x:auto;line-height:normal;font-family:Menlo,'DejaVu Sans Mono',consolas,'Courier New',monospace\">         <span style=\"color: #800080; text-decoration-color: #800080\">/store/mc/RunIIAutumn18NanoAODv7/MonoHTobb_ZpBaryonic_TuneCP2_13TeV_madgraph-pythia8/NANOAODSIM/Nano02Apr2</span>\n",
       "<span style=\"color: #800080; text-decoration-color: #800080\">020_rp_102X_upgrade2018_realistic_v21-v1/00000/</span><span style=\"color: #ff00ff; text-decoration-color: #ff00ff\">1171A356-937B-D346-B31E-D7397CD17A9E.root</span>\n",
       "</pre>\n"
      ],
      "text/plain": [
       "         \u001b[35m/store/mc/RunIIAutumn18NanoAODv7/MonoHTobb_ZpBaryonic_TuneCP2_13TeV_madgraph-pythia8/NANOAODSIM/Nano02Apr2\u001b[0m\n",
       "\u001b[35m020_rp_102X_upgrade2018_realistic_v21-v1/00000/\u001b[0m\u001b[95m1171A356-937B-D346-B31E-D7397CD17A9E.root\u001b[0m\n"
      ]
     },
     "metadata": {},
     "output_type": "display_data"
    },
    {
     "data": {
      "text/html": [
       "<pre style=\"white-space:pre;overflow-x:auto;line-height:normal;font-family:Menlo,'DejaVu Sans Mono',consolas,'Courier New',monospace\">         <span style=\"color: #800080; text-decoration-color: #800080\">/store/mc/RunIIAutumn18NanoAODv7/MonoHTobb_ZpBaryonic_TuneCP2_13TeV_madgraph-pythia8/NANOAODSIM/Nano02Apr2</span>\n",
       "<span style=\"color: #800080; text-decoration-color: #800080\">020_rp_102X_upgrade2018_realistic_v21-v1/00000/</span><span style=\"color: #ff00ff; text-decoration-color: #ff00ff\">B92C3E7A-425A-2A40-812C-F733C1287C79.root</span>\n",
       "</pre>\n"
      ],
      "text/plain": [
       "         \u001b[35m/store/mc/RunIIAutumn18NanoAODv7/MonoHTobb_ZpBaryonic_TuneCP2_13TeV_madgraph-pythia8/NANOAODSIM/Nano02Apr2\u001b[0m\n",
       "\u001b[35m020_rp_102X_upgrade2018_realistic_v21-v1/00000/\u001b[0m\u001b[95mB92C3E7A-425A-2A40-812C-F733C1287C79.root\u001b[0m\n"
      ]
     },
     "metadata": {},
     "output_type": "display_data"
    },
    {
     "data": {
      "text/html": [
       "<pre style=\"white-space:pre;overflow-x:auto;line-height:normal;font-family:Menlo,'DejaVu Sans Mono',consolas,'Courier New',monospace\">         <span style=\"color: #800080; text-decoration-color: #800080\">/store/mc/RunIIAutumn18NanoAODv7/MonoHTobb_ZpBaryonic_TuneCP2_13TeV_madgraph-pythia8/NANOAODSIM/Nano02Apr2</span>\n",
       "<span style=\"color: #800080; text-decoration-color: #800080\">020_rp_102X_upgrade2018_realistic_v21-v1/00000/</span><span style=\"color: #ff00ff; text-decoration-color: #ff00ff\">D53C3745-8D33-D34A-8FA2-2B42E1AB5FB4.root</span>\n",
       "</pre>\n"
      ],
      "text/plain": [
       "         \u001b[35m/store/mc/RunIIAutumn18NanoAODv7/MonoHTobb_ZpBaryonic_TuneCP2_13TeV_madgraph-pythia8/NANOAODSIM/Nano02Apr2\u001b[0m\n",
       "\u001b[35m020_rp_102X_upgrade2018_realistic_v21-v1/00000/\u001b[0m\u001b[95mD53C3745-8D33-D34A-8FA2-2B42E1AB5FB4.root\u001b[0m\n"
      ]
     },
     "metadata": {},
     "output_type": "display_data"
    },
    {
     "data": {
      "text/html": [
       "<pre style=\"white-space:pre;overflow-x:auto;line-height:normal;font-family:Menlo,'DejaVu Sans Mono',consolas,'Courier New',monospace\">         <span style=\"color: #800080; text-decoration-color: #800080\">/store/mc/RunIIAutumn18NanoAODv7/MonoHTobb_ZpBaryonic_TuneCP2_13TeV_madgraph-pythia8/NANOAODSIM/Nano02Apr2</span>\n",
       "<span style=\"color: #800080; text-decoration-color: #800080\">020_rp_102X_upgrade2018_realistic_v21-v1/10000/</span><span style=\"color: #ff00ff; text-decoration-color: #ff00ff\">0EE0D641-EDAE-D547-ABAD-56D54B768C5B.root</span>\n",
       "</pre>\n"
      ],
      "text/plain": [
       "         \u001b[35m/store/mc/RunIIAutumn18NanoAODv7/MonoHTobb_ZpBaryonic_TuneCP2_13TeV_madgraph-pythia8/NANOAODSIM/Nano02Apr2\u001b[0m\n",
       "\u001b[35m020_rp_102X_upgrade2018_realistic_v21-v1/10000/\u001b[0m\u001b[95m0EE0D641-EDAE-D547-ABAD-56D54B768C5B.root\u001b[0m\n"
      ]
     },
     "metadata": {},
     "output_type": "display_data"
    },
    {
     "data": {
      "text/html": [
       "<pre style=\"white-space:pre;overflow-x:auto;line-height:normal;font-family:Menlo,'DejaVu Sans Mono',consolas,'Courier New',monospace\">         <span style=\"color: #800080; text-decoration-color: #800080\">/store/mc/RunIIAutumn18NanoAODv7/MonoHTobb_ZpBaryonic_TuneCP2_13TeV_madgraph-pythia8/NANOAODSIM/Nano02Apr2</span>\n",
       "<span style=\"color: #800080; text-decoration-color: #800080\">020_rp_102X_upgrade2018_realistic_v21-v1/10000/</span><span style=\"color: #ff00ff; text-decoration-color: #ff00ff\">5DF4AB83-6273-4042-8BF8-35806DF8625E.root</span>\n",
       "</pre>\n"
      ],
      "text/plain": [
       "         \u001b[35m/store/mc/RunIIAutumn18NanoAODv7/MonoHTobb_ZpBaryonic_TuneCP2_13TeV_madgraph-pythia8/NANOAODSIM/Nano02Apr2\u001b[0m\n",
       "\u001b[35m020_rp_102X_upgrade2018_realistic_v21-v1/10000/\u001b[0m\u001b[95m5DF4AB83-6273-4042-8BF8-35806DF8625E.root\u001b[0m\n"
      ]
     },
     "metadata": {},
     "output_type": "display_data"
    }
   ],
   "source": [
    "f.Show(2)"
   ]
  },
  {
   "cell_type": "code",
   "execution_count": 6,
   "metadata": {},
   "outputs": [
    {
     "data": {
      "text/plain": [
       "{'MET_Run2018A': ['root://pubxrootd.hep.wisc.edu///store/data/Run2018A/MET/NANOAOD/UL2018_MiniAODv2_NanoAODv9-v2/110000/0F8C0C8C-63E4-1D4E-A8DF-506BDB55BD43.root',\n",
       "  'root://pubxrootd.hep.wisc.edu///store/data/Run2018A/MET/NANOAOD/UL2018_MiniAODv2_NanoAODv9-v2/110000/10C73E73-0C15-2F4B-9E0B-E3DE1C54A597.root',\n",
       "  'root://pubxrootd.hep.wisc.edu///store/data/Run2018A/MET/NANOAOD/UL2018_MiniAODv2_NanoAODv9-v2/110000/1E8B7F5A-4B29-8F46-B2E1-549805E5CBB2.root',\n",
       "  'root://pubxrootd.hep.wisc.edu///store/data/Run2018A/MET/NANOAOD/UL2018_MiniAODv2_NanoAODv9-v2/110000/1ED54027-5256-064F-A776-C10A0920256A.root',\n",
       "  'root://pubxrootd.hep.wisc.edu///store/data/Run2018A/MET/NANOAOD/UL2018_MiniAODv2_NanoAODv9-v2/110000/4480C919-0BD7-B74D-8B6A-BFF37A1DB4DF.root']}"
      ]
     },
     "execution_count": 6,
     "metadata": {},
     "output_type": "execute_result"
    }
   ],
   "source": [
    "f.getFileset(\"Data\",\"MET_Run2018A\", redirector=\"wisc\")"
   ]
  }
 ],
 "metadata": {
  "kernelspec": {
   "display_name": "Python 3",
   "language": "python",
   "name": "python3"
  },
  "language_info": {
   "codemirror_mode": {
    "name": "ipython",
    "version": 3
   },
   "file_extension": ".py",
   "mimetype": "text/x-python",
   "name": "python",
   "nbconvert_exporter": "python",
   "pygments_lexer": "ipython3",
   "version": "3.10.12"
  }
 },
 "nbformat": 4,
 "nbformat_minor": 2
}
