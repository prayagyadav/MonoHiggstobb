{
 "cells": [
  {
   "cell_type": "code",
   "execution_count": 3,
   "metadata": {},
   "outputs": [],
   "source": [
    "from coffea import util, processor\n",
    "from monoHbbtools import Load\n",
    "import numpy as np\n",
    "import json"
   ]
  },
  {
   "cell_type": "code",
   "execution_count": 30,
   "metadata": {},
   "outputs": [],
   "source": [
    "def getDataset(keymap, files=None):\n",
    "    fileset = Load.Loadfileset(\"../monoHbbtools/Load/newfileset.json\")\n",
    "    fileset_dict = fileset.getraw()\n",
    "    MCmaps = [\"Z1Jets_NuNu\"]\n",
    "\n",
    "    if keymap == \"MET\" :\n",
    "        runnerfileset = Load.buildFileset(fileset_dict[\"Data\"][keymap],\"fnal\")\n",
    "    elif keymap in MCmaps :\n",
    "        runnerfileset = Load.buildFileset(fileset_dict[\"MC\"][keymap],\"fnal\")\n",
    "    flat_list={}\n",
    "    flat_list[keymap] = []\n",
    "\n",
    "    match keymap :\n",
    "        case \"MET\": #Simply chain up all the files\n",
    "            for key in runnerfileset.keys() :\n",
    "                flat_list[keymap] += runnerfileset[key]\n",
    "                outputfileset = {keymap : flat_list[keymap][:files]}\n",
    "        case \"Z1Jets_NuNu\": # Divide the share of files from all the 8 categories of Z1Jets_NuNu\n",
    "            file_number = 0\n",
    "            while file_number < files :\n",
    "                for key in runnerfileset.keys():\n",
    "                    flat_list[keymap] += [runnerfileset[key][0]]\n",
    "                    runnerfileset[key] = runnerfileset[key][1:]\n",
    "                    file_number += 1\n",
    "            outputfileset = {keymap : flat_list[keymap]}\n",
    "    if files == None :\n",
    "        print(\"No max files provided.\\nFalling back to full dataset...\")\n",
    "    print(\"Running \", len(outputfileset[keymap]), \" files...\")\n",
    "    return outputfileset"
   ]
  },
  {
   "cell_type": "code",
   "execution_count": 47,
   "metadata": {},
   "outputs": [],
   "source": [
    "def getDataset(keymap, files=None):\n",
    "    fileset = Load.Loadfileset(\"../monoHbbtools/Load/newfileset.json\")\n",
    "    fileset_dict = fileset.getraw()\n",
    "    MCmaps = [\"Z1Jets_NuNu\"]\n",
    "\n",
    "    if keymap == \"MET\" :\n",
    "        runnerfileset = Load.buildFileset(fileset_dict[\"Data\"][keymap],\"fnal\")\n",
    "    elif keymap in MCmaps :\n",
    "        runnerfileset = Load.buildFileset(fileset_dict[\"MC\"][keymap],\"fnal\")\n",
    "    flat_list={}\n",
    "    flat_list[keymap] = []\n",
    "\n",
    "    if files == None :\n",
    "        print(\"No max files provided.\\nFalling back to full dataset...\")\n",
    "        outputfileset = runnerfileset\n",
    "    else :\n",
    "        match keymap :\n",
    "            case \"MET\": #Simply chain up all the files\n",
    "                for key in runnerfileset.keys() :\n",
    "                    flat_list[keymap] += runnerfileset[key]\n",
    "                outputfileset = {keymap : flat_list[keymap][:files]}\n",
    "            case \"Z1Jets_NuNu\": # Divide the share of files from all the 8 categories of Z1Jets_NuNu\n",
    "                file_number = 0\n",
    "                while file_number < files :\n",
    "                    for key in runnerfileset.keys():\n",
    "                        if file_number >= files :\n",
    "                            break\n",
    "                        flat_list[keymap] += [runnerfileset[key][0]]\n",
    "                        runnerfileset[key] = runnerfileset[key][1:]\n",
    "                        file_number += 1\n",
    "                outputfileset = {keymap : flat_list[keymap]}\n",
    "        print(\"Running \", len(outputfileset[keymap]), \" files...\")\n",
    "    \n",
    "    return outputfileset\n"
   ]
  },
  {
   "cell_type": "code",
   "execution_count": 50,
   "metadata": {},
   "outputs": [
    {
     "name": "stdout",
     "output_type": "stream",
     "text": [
      "Running  3  files...\n"
     ]
    },
    {
     "data": {
      "text/plain": [
       "{'Z1Jets_NuNu': ['root://cmsxrootd.fnal.gov///store/mc/RunIISummer20UL18NanoAODv9/Z1JetsToNuNu_M-50_LHEFilterPtZ-50To150_MatchEWPDG20_TuneCP5_13TeV-amcatnloFXFX-pythia8/NANOAODSIM/106X_upgrade2018_realistic_v16_L1v1-v2/230000/0F8CC648-9AF6-B044-802A-0EB7C835E0A2.root',\n",
       "  'root://cmsxrootd.fnal.gov///store/mc/RunIISummer20UL18NanoAODv9/Z1JetsToNuNu_M-50_LHEFilterPtZ-150To250_MatchEWPDG20_TuneCP5_13TeV-amcatnloFXFX-pythia8/NANOAODSIM/106X_upgrade2018_realistic_v16_L1v1-v2/100000/172EBACB-6262-9F4B-A0F4-2FAAFDE0C5E4.root',\n",
       "  'root://cmsxrootd.fnal.gov///store/mc/RunIISummer20UL18NanoAODv9/Z1JetsToNuNu_M-50_LHEFilterPtZ-250To400_MatchEWPDG20_TuneCP5_13TeV-amcatnloFXFX-pythia8/NANOAODSIM/106X_upgrade2018_realistic_v16_L1v1-v2/100000/0125BE86-EAB7-0A41-991C-0AAAE0E1B411.root']}"
      ]
     },
     "execution_count": 50,
     "metadata": {},
     "output_type": "execute_result"
    }
   ],
   "source": [
    "getDataset(\"Z1Jets_NuNu\", 3)\n",
    "#getDataset(\"MET\", 40)"
   ]
  },
  {
   "cell_type": "code",
   "execution_count": null,
   "metadata": {},
   "outputs": [],
   "source": []
  }
 ],
 "metadata": {
  "kernelspec": {
   "display_name": "Python 3",
   "language": "python",
   "name": "python3"
  },
  "language_info": {
   "codemirror_mode": {
    "name": "ipython",
    "version": 3
   },
   "file_extension": ".py",
   "mimetype": "text/x-python",
   "name": "python",
   "nbconvert_exporter": "python",
   "pygments_lexer": "ipython3",
   "version": "3.10.12"
  }
 },
 "nbformat": 4,
 "nbformat_minor": 2
}
