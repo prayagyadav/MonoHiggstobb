{
 "cells": [
  {
   "cell_type": "code",
   "execution_count": 1,
   "metadata": {},
   "outputs": [],
   "source": [
    "import awkward as ak\n",
    "import hist\n",
    "from coffea.nanoevents import NanoEventsFactory, NanoAODSchema\n",
    "from coffea.analysis_tools import PackedSelection\n",
    "import json\n",
    "import numpy as np\n",
    "import mplhep as hep\n",
    "import matplotlib.pyplot as plt"
   ]
  },
  {
   "cell_type": "code",
   "execution_count": 2,
   "metadata": {},
   "outputs": [],
   "source": [
    "filename = \"/home/prayag/Coffea/data/3BF5BC57-5D24-1C4D-B277-7B0BAA5DF3C7.root\"\n",
    "events = NanoEventsFactory.from_root(\n",
    "    filename,\n",
    "    schemaclass=NanoAODSchema.v7\n",
    ").events()"
   ]
  },
  {
   "cell_type": "code",
   "execution_count": 5,
   "metadata": {},
   "outputs": [],
   "source": [
    "from monoHbbtools import Load"
   ]
  },
  {
   "cell_type": "code",
   "execution_count": 4,
   "metadata": {},
   "outputs": [],
   "source": [
    "def getDataset(keymap,load=True, dict = None, files=None, begin=0, end=0, mode = \"sequential\"):\n",
    "    #Warning : Never use 'files' with 'begin' and 'end'\n",
    "    if load :\n",
    "        fileset = Load.Loadfileset(\"../monoHbbtools/Load/newfileset.json\")\n",
    "        fileset_dict = fileset.getraw()\n",
    "    else :\n",
    "        fileset_dict = dict\n",
    "    MCmaps = [\"ZJets_NuNu\"]\n",
    "\n",
    "    \n",
    "    runnerfileset = Load.buildFileset(fileset_dict[keymap],\"fnal\")\n",
    "    flat_list={}\n",
    "    flat_list[keymap] = []\n",
    "\n",
    "    if mode == \"sequential\":\n",
    "        if end - begin <= 0:\n",
    "            print(\"Invalid begin and end values.\\nFalling back to full dataset...\")\n",
    "            outputfileset = runnerfileset\n",
    "        else:\n",
    "            # for key in runnerfileset.keys() :\n",
    "            #     flat_list[keymap] += runnerfileset[key]\n",
    "            #indexer\n",
    "            index={}\n",
    "            i = 1\n",
    "            for key in runnerfileset.keys() :\n",
    "                index[key] = []\n",
    "                for file in runnerfileset[key] :\n",
    "                    index[key].append(i)\n",
    "                    i += 1\n",
    "\n",
    "            accept = np.arange(begin,end+1,1)\n",
    "            print(accept)\n",
    "            temp = {}\n",
    "            for key in runnerfileset.keys() :\n",
    "                temp[key] = []\n",
    "                for i in range(len(runnerfileset[key])) :\n",
    "                    if index[key][i] in accept :\n",
    "                        temp[key].append(runnerfileset[key][i])\n",
    "            #outputfileset = {keymap : flat_list[keymap][(begin - 1) :end]}\n",
    "            #outputfileset = {keymap : temp}\n",
    "            outputfileset = temp\n",
    "    elif mode == \"divide\" :\n",
    "        if files == None:\n",
    "            print(\"Invalid number of files.\\nFalling back to full dataset...\")\n",
    "            outputfileset = runnerfileset\n",
    "        else:\n",
    "            # Divide the share of files from all the 8 categories of ZJets_NuNu\n",
    "            file_number = 0\n",
    "            while file_number < files :\n",
    "                for key in runnerfileset.keys():\n",
    "                    if file_number >= files :\n",
    "                        break\n",
    "                    flat_list[keymap] += [runnerfileset[key][0]]\n",
    "                    runnerfileset[key] = runnerfileset[key][1:]\n",
    "                    file_number += 1\n",
    "            outputfileset = {keymap : flat_list[keymap]}\n",
    "    else:\n",
    "        print(\"Invalid mode of operation\", mode)\n",
    "        raise KeyError\n",
    "    \n",
    "    print(\"Running \", np.array([len(value) for value in outputfileset.values()]).sum(), \" files...\")\n",
    "    return outputfileset"
   ]
  },
  {
   "cell_type": "code",
   "execution_count": 6,
   "metadata": {},
   "outputs": [
    {
     "name": "stdout",
     "output_type": "stream",
     "text": [
      "[ 1  2  3  4  5  6  7  8  9 10]\n",
      "Running  10  files...\n"
     ]
    },
    {
     "data": {
      "text/plain": [
       "{'MET_Run2018A': ['root://cmsxrootd.fnal.gov///store/data/Run2018A/MET/NANOAOD/UL2018_MiniAODv2_NanoAODv9-v2/110000/0F8C0C8C-63E4-1D4E-A8DF-506BDB55BD43.root',\n",
       "  'root://cmsxrootd.fnal.gov///store/data/Run2018A/MET/NANOAOD/UL2018_MiniAODv2_NanoAODv9-v2/110000/10C73E73-0C15-2F4B-9E0B-E3DE1C54A597.root',\n",
       "  'root://cmsxrootd.fnal.gov///store/data/Run2018A/MET/NANOAOD/UL2018_MiniAODv2_NanoAODv9-v2/110000/1E8B7F5A-4B29-8F46-B2E1-549805E5CBB2.root',\n",
       "  'root://cmsxrootd.fnal.gov///store/data/Run2018A/MET/NANOAOD/UL2018_MiniAODv2_NanoAODv9-v2/110000/1ED54027-5256-064F-A776-C10A0920256A.root',\n",
       "  'root://cmsxrootd.fnal.gov///store/data/Run2018A/MET/NANOAOD/UL2018_MiniAODv2_NanoAODv9-v2/110000/4480C919-0BD7-B74D-8B6A-BFF37A1DB4DF.root',\n",
       "  'root://cmsxrootd.fnal.gov///store/data/Run2018A/MET/NANOAOD/UL2018_MiniAODv2_NanoAODv9-v2/110000/4C8B6DD1-441E-1E4C-87E9-B7D97060E508.root',\n",
       "  'root://cmsxrootd.fnal.gov///store/data/Run2018A/MET/NANOAOD/UL2018_MiniAODv2_NanoAODv9-v2/110000/5098B0BA-B20A-6D4C-B7E1-20E64BE9E4F9.root',\n",
       "  'root://cmsxrootd.fnal.gov///store/data/Run2018A/MET/NANOAOD/UL2018_MiniAODv2_NanoAODv9-v2/110000/5BEDB57D-3D1D-004A-9ACC-14F4EECD6F80.root',\n",
       "  'root://cmsxrootd.fnal.gov///store/data/Run2018A/MET/NANOAOD/UL2018_MiniAODv2_NanoAODv9-v2/110000/5D1ADF5D-E108-9248-8A6F-3CE8D979DA7F.root',\n",
       "  'root://cmsxrootd.fnal.gov///store/data/Run2018A/MET/NANOAOD/UL2018_MiniAODv2_NanoAODv9-v2/110000/5E732014-3663-8E41-B895-908C904FC635.root'],\n",
       " 'MET_Run2018B': [],\n",
       " 'MET_Run2018C': [],\n",
       " 'MET_Run2018D': []}"
      ]
     },
     "execution_count": 6,
     "metadata": {},
     "output_type": "execute_result"
    }
   ],
   "source": [
    "getDataset(\"MET_Run2018\",load=True,mode=\"sequential\",begin=1,end=10)"
   ]
  }
 ],
 "metadata": {
  "kernelspec": {
   "display_name": "Python 3 (ipykernel)",
   "language": "python",
   "name": "python3"
  },
  "language_info": {
   "codemirror_mode": {
    "name": "ipython",
    "version": 3
   },
   "file_extension": ".py",
   "mimetype": "text/x-python",
   "name": "python",
   "nbconvert_exporter": "python",
   "pygments_lexer": "ipython3",
   "version": "3.10.12"
  }
 },
 "nbformat": 4,
 "nbformat_minor": 4
}
